{
 "cells": [
  {
   "cell_type": "markdown",
   "metadata": {},
   "source": [
    "# EvoGFuzz: An Evolutionary Approach to Grammar-Based Fuzzing\n",
    "\n",
    "**EvoGFuzz** stands for *evolutionary grammar-based fuzzing*. This approach leverages evolutionary optimization techniques to systematically explore the space of a program's potential inputs, with a particular emphasis on identifying inputs that could lead to exceptional behavior. With a user-defined objective, EvoGFuzz can adapt and refine the input generation strategy over time, making it a powerful tool for uncovering software defects and vulnerabilities.\n",
    "\n",
    "Efficient detection of defects and vulnerabilities hinges on the ability to automatically generate program inputs that are both valid and diverse. One common strategy is to use grammars, which provide structured and syntactically correct inputs. This approach leads to the concept of grammar-based fuzzing, where fuzzing strategies are guided by the rules defined within the grammar.\n",
    "\n",
    "A further enhancement to this concept is probabilistic grammar-based fuzzing, where competing grammar rules are associated with probabilities that guide their application. By carefully assigning and optimizing these probabilities, we gain considerable control over the nature of the generated inputs. This enables us to direct the fuzzing process towards specific areas of interest—for example, those functions that are deemed critical, have a higher propensity for failures, or have undergone recent modifications. \n",
    "\n",
    "In essence, EvoGFuzz represents a potent blend of evolutionary optimization and probabilistic grammar-based fuzzing, poised to reveal hidden defects and vulnerabilities in a targeted and efficient manner."
   ]
  },
  {
   "cell_type": "markdown",
   "metadata": {},
   "source": [
    "## Fuzzing a Program"
   ]
  },
  {
   "cell_type": "markdown",
   "metadata": {},
   "source": [
    "Our program under investigation is `The Calculator`. This program acts as a typical calculator, capable of evaluating not just arithmetic expressions but also trigonometric functions, such as sine, cosine, and tangent. Furthermore, it also supports the calculation of the square root of a given number."
   ]
  },
  {
   "cell_type": "code",
   "execution_count": 1,
   "metadata": {},
   "outputs": [],
   "source": [
    "import math\n",
    "\n",
    "def calculator(inp: str) -> float:\n",
    "    \"\"\"\n",
    "        A simple calculator function that can evaluate arithmetic expressions \n",
    "        and perform basic trigonometric functions and square root calculations.\n",
    "    \"\"\"\n",
    "    return eval(\n",
    "        str(inp), {\"sqrt\": math.sqrt, \"sin\": math.sin, \"cos\": math.cos, \"tan\": math.tan}\n",
    "    )"
   ]
  },
  {
   "cell_type": "markdown",
   "metadata": {},
   "source": [
    "**Side Note:** In the `calculator`, we use Python's `eval` function, which takes a string and evaluates it as a Python expression. We provide a dictionary as the second argument to eval, mapping names to corresponding mathematical functions. This enables us to use the function names directly within the input string. "
   ]
  },
  {
   "cell_type": "code",
   "execution_count": 2,
   "metadata": {},
   "outputs": [
    {
     "name": "stdout",
     "output_type": "stream",
     "text": [
      "0.999993677717667\n"
     ]
    }
   ],
   "source": [
    "# Evaluating the cosine of 2π\n",
    "print(calculator('cos(6*3.141)'))"
   ]
  },
  {
   "cell_type": "code",
   "execution_count": 3,
   "metadata": {},
   "outputs": [
    {
     "name": "stdout",
     "output_type": "stream",
     "text": [
      "6.0\n"
     ]
    }
   ],
   "source": [
    "# Calculating the square root of 36\n",
    "print(calculator('sqrt(6*6)'))"
   ]
  },
  {
   "cell_type": "markdown",
   "metadata": {},
   "source": [
    "Each of these calls to the calculator will evaluate the provided string as a mathematical expression, and print the result."
   ]
  },
  {
   "cell_type": "markdown",
   "metadata": {},
   "source": [
    "Now, to find new defects, we need to introduce an oracle that tells us if the error that is triggered is something we expect or a new/unkonwn defect. The `OracleResult` is an enum with two possible values, `NO_BUG` and `BUG`. `NO_BUG` donates a passing test case and `BUG` a failing one."
   ]
  },
  {
   "cell_type": "markdown",
   "metadata": {},
   "source": [
    "We import the `OracleResult` enumerated type from the `evogfuzz` library. This is used in the oracle function to indicate the outcome of executing the 'calculator' function with a given input."
   ]
  },
  {
   "cell_type": "code",
   "execution_count": 4,
   "metadata": {},
   "outputs": [],
   "source": [
    "from debugging_framework.input.oracle import OracleResult"
   ]
  },
  {
   "cell_type": "markdown",
   "metadata": {},
   "source": [
    "This is a function called **oracle**, which acts as an intermediary to handle and classify exceptions produced by the calculator function when given a certain input."
   ]
  },
  {
   "cell_type": "code",
   "execution_count": 5,
   "metadata": {},
   "outputs": [],
   "source": [
    "# Make sure you use the OracleResult from the debugging_framework library\n",
    "from debugging_framework.input.oracle import OracleResult\n",
    "\n",
    "def oracle(inp: str):\n",
    "    \"\"\"\n",
    "    This function serves as an oracle or intermediary that catches and handles exceptions \n",
    "    generated by the 'calculator' function. The oracle function is used in the context of fuzz testing.\n",
    "    It aims to determine whether an input triggers a bug in the 'calculator' function.\n",
    "\n",
    "    Args:\n",
    "        inp (str): The input string to be passed to the 'calculator' function.\n",
    "\n",
    "    Returns:\n",
    "        OracleResult: An enumerated type 'OracleResult' indicating the outcome of the function execution.\n",
    "            - OracleResult.PASSING: Returned if the calculator function executes without any exception or only with CalculatorSyntaxError\n",
    "            - OracleResult.FAILING: Returned if the calculator function raises a ValueError exception, indicating a potential bug.\n",
    "    \"\"\"\n",
    "    try:\n",
    "        calculator(inp)\n",
    "    except ValueError as e:\n",
    "        return OracleResult.FAILING\n",
    "    \n",
    "    return OracleResult.PASSING"
   ]
  },
  {
   "cell_type": "markdown",
   "metadata": {},
   "source": [
    "This **oracle** function is used in the context of fuzzing to determine the impact of various inputs on the program under test (in our case the _calculator_). When the calculator function behaves as expected (i.e., no exceptions occur), the **oracle** function returns `OracleResult.NO_BUG`. However, when the `calculator` function raises an unexpected exception, the **oracle** interprets this as a potential bug in the `calculator` and returns `OracleResult.BUG`."
   ]
  },
  {
   "cell_type": "markdown",
   "metadata": {},
   "source": [
    "We can see this in action by testing a few initial inputs:"
   ]
  },
  {
   "cell_type": "code",
   "execution_count": 6,
   "metadata": {},
   "outputs": [
    {
     "name": "stdout",
     "output_type": "stream",
     "text": [
      "sqrt(1)              PASSING\n",
      "cos(912)             PASSING\n",
      "tan(4)               PASSING\n"
     ]
    }
   ],
   "source": [
    "initial_inputs = ['sqrt(1)', 'cos(912)', 'tan(4)']\n",
    "\n",
    "for inp in initial_inputs:\n",
    "    print(inp.ljust(20), oracle(inp))"
   ]
  },
  {
   "cell_type": "markdown",
   "metadata": {},
   "source": [
    "The following code represents a simple context-free grammar for our calculator function. This grammar encompasses all the potential valid inputs to the calculator, which include mathematical expressions involving square roots, trigonometric functions, and integer and decimal numbers:"
   ]
  },
  {
   "cell_type": "code",
   "execution_count": 7,
   "metadata": {},
   "outputs": [],
   "source": [
    "from debugging_framework.types import Grammar\n",
    "from debugging_framework.fuzzingbook.grammar import is_valid_grammar\n",
    "\n",
    "CALCGRAMMAR: Grammar = {\n",
    "    \"<start>\":\n",
    "        [\"<function>(<term>)\"],\n",
    "\n",
    "    \"<function>\":\n",
    "        [\"sqrt\", \"tan\", \"cos\", \"sin\"],\n",
    "    \n",
    "    \"<term>\": [\"-<value>\", \"<value>\"], \n",
    "    \n",
    "    \"<value>\":\n",
    "        [\"<integer>.<integer>\",\n",
    "         \"<integer>\"],\n",
    "\n",
    "    \"<integer>\":\n",
    "        [\"<digit><integer>\", \"<digit>\"],\n",
    "\n",
    "    \"<digit>\":\n",
    "        [\"1\", \"2\", \"3\", \"4\", \"5\", \"6\", \"7\", \"8\", \"9\"]\n",
    "}\n",
    "    \n",
    "assert is_valid_grammar(CALCGRAMMAR)"
   ]
  },
  {
   "cell_type": "markdown",
   "metadata": {},
   "source": [
    "The defined grammar CALCGRAMMAR provides a structured blueprint for creating various inputs for our fuzz testing. Each rule in this grammar reflects a possible valid input that our calculator function can handle. By fuzzing based on this grammar, we can systematically explore the space of valid inputs to the calculator function."
   ]
  },
  {
   "cell_type": "markdown",
   "metadata": {},
   "source": [
    "### Leveraging EvoGFuzz to Unearth New Defects\n",
    "\n",
    "We apply our `EvoGFuzz` class to carry out fuzz testing using evolutionary grammar-based fuzzing. This is aimed at uncovering potential defects in our 'calculator' function.\n",
    "\n",
    "To initialize our EvoGFuzz instance, we require a grammar (in our case, `CALCGRAMMAR`), an oracle function, an initial set of inputs, a fitness function, and the number of iterations to be performed in the fuzzing process.\n",
    "\n",
    "Upon creating the `EvoGFuzz` instance, we can execute the fuzzing process. The `fuzz()` method runs the fuzzing iterations, evolving the inputs based on our fitness function, and returns a collection of inputs that lead to exceptions in the 'calculator' function."
   ]
  },
  {
   "cell_type": "code",
   "execution_count": 8,
   "metadata": {},
   "outputs": [],
   "source": [
    "from evogfuzz.evogfuzz_class import EvoGFuzz\n",
    "\n",
    "epp = EvoGFuzz(\n",
    "    grammar=CALCGRAMMAR,\n",
    "    oracle=oracle,\n",
    "    inputs=initial_inputs,\n",
    "    iterations=10\n",
    ")"
   ]
  },
  {
   "cell_type": "markdown",
   "metadata": {},
   "source": [
    "Upon creating the `EvoGFuzz` instance, we can execute the fuzzing process. The `.fuzz()` method runs the fuzzing iterations, evolving the inputs based on our fitness function, and returns a collection of inputs that lead to exceptions in the 'calculator' function."
   ]
  },
  {
   "cell_type": "code",
   "execution_count": 9,
   "metadata": {},
   "outputs": [
    {
     "name": "stdout",
     "output_type": "stream",
     "text": [
      "EvoGFuzz found 320 bug-triggering inputs!\n"
     ]
    }
   ],
   "source": [
    "found_exception_inputs = epp.fuzz()\n",
    "print(f\"EvoGFuzz found {len(found_exception_inputs)} bug-triggering inputs!\")"
   ]
  },
  {
   "cell_type": "markdown",
   "metadata": {},
   "source": [
    "Lastly, we can examine the inputs that resulted in exceptions. This output can provide valuable insight into potential weaknesses in the 'calculator' function that need to be addressed."
   ]
  },
  {
   "cell_type": "code",
   "execution_count": 10,
   "metadata": {},
   "outputs": [
    {
     "name": "stdout",
     "output_type": "stream",
     "text": [
      "sqrt(-2441)\n",
      "sqrt(-638)\n",
      "sqrt(-78454)\n",
      "sqrt(-47123)\n",
      "sqrt(-3)\n",
      "sqrt(-368777233364818873831651242)\n",
      "sqrt(-1111)\n",
      "sqrt(-5121)\n",
      "sqrt(-1134872875677772236468)\n",
      "sqrt(-65)\n",
      "sqrt(-617268558434736552427867824627127)\n",
      "sqrt(-7622311)\n",
      "sqrt(-6743787388671428652)\n",
      "sqrt(-515)\n",
      "sqrt(-28323519173861575851487461638)\n",
      "sqrt(-2898)\n",
      "sqrt(-999)\n",
      "sqrt(-7942291445)\n",
      "sqrt(-25568895511)\n",
      "sqrt(-277)\n"
     ]
    }
   ],
   "source": [
    "# print only the first 20 bug-triggering inputs\n",
    "for inp in list(found_exception_inputs)[:20]:\n",
    "    print(str(inp))"
   ]
  },
  {
   "cell_type": "markdown",
   "metadata": {},
   "source": [
    "This process illustrates the power of evolutionary grammar-based fuzzing in identifying new defects within our system. By applying evolutionary algorithms to our fuzzing strategy, we can guide the search towards more defect-prone regions of the input space."
   ]
  },
  {
   "cell_type": "markdown",
   "metadata": {},
   "source": [
    "Print number of bug-triggering inputs for each iteration (cumulative):"
   ]
  },
  {
   "cell_type": "code",
   "execution_count": 11,
   "metadata": {},
   "outputs": [
    {
     "name": "stdout",
     "output_type": "stream",
     "text": [
      "[(1, 0), (2, 0), (3, 19), (4, 42), (5, 105), (6, 181), (7, 273), (8, 309), (9, 317), (10, 320)]\n"
     ]
    }
   ],
   "source": [
    "print(epp.get_benchmark())"
   ]
  },
  {
   "cell_type": "markdown",
   "metadata": {},
   "source": [
    "#### Analyzing and Sorting All Generated Inputs by Fitness"
   ]
  },
  {
   "cell_type": "markdown",
   "metadata": {},
   "source": [
    "After the fuzzing process, you may want to examine all the generated inputs. These can be accessed using the `get_all_inputs()` method. Additionally, we can sort these inputs based on their fitness scores to gain insights into which inputs performed best according to our fitness function."
   ]
  },
  {
   "cell_type": "code",
   "execution_count": 12,
   "metadata": {},
   "outputs": [],
   "source": [
    "all_generated_inputs = epp.get_all_inputs()\n",
    "all_generated_inputs_sorted = sorted(all_generated_inputs, key=lambda inp: inp.fitness, reverse=True)"
   ]
  },
  {
   "cell_type": "markdown",
   "metadata": {},
   "source": [
    "Now, let's print out these sorted inputs along with their respective fitness scores. Inputs with higher fitness scores will be displayed first, as these are the ones our evolutionary process deemed more likely to uncover potential defects."
   ]
  },
  {
   "cell_type": "code",
   "execution_count": 13,
   "metadata": {},
   "outputs": [
    {
     "name": "stdout",
     "output_type": "stream",
     "text": [
      "sqrt(-2441)                              fitness: 1\n",
      "sqrt(-638)                               fitness: 1\n",
      "sqrt(-78454)                             fitness: 1\n",
      "sqrt(-3)                                 fitness: 1\n",
      "sqrt(-47123)                             fitness: 1\n",
      "sqrt(-368777233364818873831651242)       fitness: 1\n",
      "sqrt(-1111)                              fitness: 1\n",
      "sqrt(-5121)                              fitness: 1\n",
      "sqrt(-1134872875677772236468)            fitness: 1\n",
      "sqrt(-65)                                fitness: 1\n",
      "sqrt(-617268558434736552427867824627127) fitness: 1\n",
      "sqrt(-7622311)                           fitness: 1\n",
      "sqrt(-6743787388671428652)               fitness: 1\n",
      "sqrt(-515)                               fitness: 1\n",
      "sqrt(-28323519173861575851487461638)     fitness: 1\n",
      "sqrt(-2898)                              fitness: 1\n",
      "sqrt(-999)                               fitness: 1\n",
      "sqrt(-7942291445)                        fitness: 1\n",
      "sqrt(-25568895511)                       fitness: 1\n",
      "sqrt(-277)                               fitness: 1\n"
     ]
    }
   ],
   "source": [
    "# investigate only the first 20 bug-triggering inputs\n",
    "for inp in all_generated_inputs_sorted[:20]:\n",
    "    print(f\"{str(inp).ljust(40)} fitness: {inp.fitness}\")"
   ]
  },
  {
   "cell_type": "markdown",
   "metadata": {},
   "source": [
    "This output provides an overview of the evolved inputs and their effectiveness in revealing potential defects, as gauged by our fitness function. It is a valuable resource for understanding the behavior of our program under various inputs and the effectiveness of our evolutionary grammar-based fuzzing approach."
   ]
  },
  {
   "cell_type": "markdown",
   "metadata": {},
   "source": [
    "### Incorporating Custom Fitness Functions\n",
    "\n",
    "The fitness function plays a crucial role in guiding the evolution process of our fuzzing inputs. A well-crafted fitness function can effectively direct the search towards the most promising regions of the input space.\n",
    "\n",
    "To create your own fitness function, define a function that takes an `Input` instance and returns a float value. The return value represents the 'fitness' of the given input, with higher values indicating better fitness. Here is a simple template:\n",
    "\n",
    "```python\n",
    "from evogfuzz.input import Input\n",
    "\n",
    "def fitness_function_XYZ(inp: Input) -> float:\n",
    "    # Implement your fitness function here.\n",
    "    return 0.0\n",
    "```"
   ]
  },
  {
   "cell_type": "markdown",
   "metadata": {},
   "source": [
    "For instance, suppose we're interested in inputs that invoke the cosine function in our calculator. We could define a fitness function `fitness_function_cos` that assigns a high fitness value to inputs containing 'cos'. (**Note that this might not be the best fitness function to find new expcetions.**)"
   ]
  },
  {
   "cell_type": "code",
   "execution_count": 14,
   "metadata": {},
   "outputs": [],
   "source": [
    "from evogfuzz.input import Input\n",
    "\n",
    "def fitness_function_cos(inp: Input) -> float:\n",
    "    if 'cos' in str(inp):\n",
    "        return 1.0\n",
    "    else:\n",
    "        return 0.0"
   ]
  },
  {
   "cell_type": "markdown",
   "metadata": {},
   "source": [
    "Once your fitness function is defined, you can incorporate it into the `EvoGFuzz` instance by passing it as the `fitness_function` argument. "
   ]
  },
  {
   "cell_type": "code",
   "execution_count": 15,
   "metadata": {},
   "outputs": [
    {
     "data": {
      "image/png": "[encoded data removed]",
      "text/plain": [
       "<Figure size 640x480 with 1 Axes>"
      ]
     },
     "metadata": {},
     "output_type": "display_data"
    },
    {
     "name": "stdout",
     "output_type": "stream",
     "text": [
      "Area under Tournament: 20655.0\n",
      "Area under Rank: 35811.5\n"
     ]
    }
   ],
   "source": [
    "from evogfuzz.evogfuzz_class import Strategy\n",
    "import matplotlib.pyplot as plt\n",
    "from numpy import trapz\n",
    "epp = EvoGFuzz(\n",
    "    grammar=CALCGRAMMAR,\n",
    "    oracle=oracle,\n",
    "    inputs=initial_inputs,\n",
    "    fitness_function=fitness_function_cos,\n",
    "    iterations=100,\n",
    "    strategy=Strategy.TOURNAMENT\n",
    ")\n",
    "\n",
    "found_exception_inputs = epp.fuzz()\n",
    "test_tournament = epp.get_benchmark()\n",
    "\n",
    "epp = EvoGFuzz(\n",
    "    grammar=CALCGRAMMAR,\n",
    "    oracle=oracle,\n",
    "    inputs=initial_inputs,\n",
    "    fitness_function=fitness_function_cos,\n",
    "    iterations=100,\n",
    "    strategy=Strategy.RANK\n",
    ")\n",
    "\n",
    "found_exception_inputs = epp.fuzz()\n",
    "test_rank = epp.get_benchmark()\n",
    "xt = [a[0] for a in test_tournament]\n",
    "yt = [a[1] for a in test_tournament]\n",
    "plt.plot(xt, yt)\n",
    "xr = [a[0] for a in test_rank]\n",
    "yr = [a[1] for a in test_rank]\n",
    "plt.plot(xr, yr)\n",
    "plt.show()\n",
    "area_t = trapz(yt, dx=1)\n",
    "area_r = trapz(yr, dx=1)\n",
    "print(f\"Area under Tournament: {area_t}\")\n",
    "print(f\"Area under Rank: {area_r}\")"
   ]
  },
  {
   "cell_type": "code",
   "execution_count": 15,
   "metadata": {
    "scrolled": true
   },
   "outputs": [
    {
     "name": "stdout",
     "output_type": "stream",
     "text": [
      "EvoGFuzz found 216 bug-triggering inputs!\n",
      "sqrt(-9.4)\n",
      "sqrt(-1.4)\n",
      "sqrt(-87.8)\n",
      "sqrt(-45341)\n",
      "sqrt(-634.6)\n",
      "sqrt(-3.35)\n",
      "sqrt(-7656)\n",
      "sqrt(-33.8)\n",
      "sqrt(-9.3)\n",
      "sqrt(-5.855)\n",
      "sqrt(-227685628.71)\n",
      "sqrt(-215572.5733525848463182)\n",
      "sqrt(-5.1)\n",
      "sqrt(-658.671116)\n",
      "sqrt(-18.3)\n",
      "sqrt(-3155617874.87469452632457)\n",
      "sqrt(-64721157477717258852666916)\n",
      "sqrt(-15.5114268)\n",
      "sqrt(-5.6)\n",
      "sqrt(-6918677.51761418488255455)\n",
      "sqrt(-7.5)\n",
      "sqrt(-5.4)\n",
      "sqrt(-18.88431)\n",
      "sqrt(-3727)\n",
      "sqrt(-4.884654748316186)\n",
      "sqrt(-74.81)\n",
      "sqrt(-6.5)\n",
      "sqrt(-9.9)\n",
      "sqrt(-6.2)\n",
      "sqrt(-4.3)\n",
      "sqrt(-1.6)\n",
      "sqrt(-8.5995)\n",
      "sqrt(-4.7)\n",
      "sqrt(-979.38)\n",
      "sqrt(-5536.826)\n",
      "sqrt(-5)\n",
      "sqrt(-3.6)\n",
      "sqrt(-451544.78458)\n",
      "sqrt(-77.143)\n",
      "sqrt(-78762.5)\n",
      "sqrt(-9.7661147761)\n",
      "sqrt(-47746847411467264)\n",
      "sqrt(-72216157178531)\n",
      "sqrt(-8.7)\n",
      "sqrt(-3.79)\n",
      "sqrt(-71253.3)\n",
      "sqrt(-8.437)\n",
      "sqrt(-553.3)\n",
      "sqrt(-18.7)\n",
      "sqrt(-98)\n",
      "sqrt(-3.9)\n",
      "sqrt(-311)\n",
      "sqrt(-876.7)\n",
      "sqrt(-15.5)\n",
      "sqrt(-7462671769.6)\n",
      "sqrt(-443648831388.729)\n",
      "sqrt(-451479954394755.17675371)\n",
      "sqrt(-13.4)\n",
      "sqrt(-4.8)\n",
      "sqrt(-7.86)\n",
      "sqrt(-71514248.6856)\n",
      "sqrt(-38.58)\n",
      "sqrt(-726)\n",
      "sqrt(-75845186658.6662)\n",
      "sqrt(-7114)\n",
      "sqrt(-8)\n",
      "sqrt(-3.47)\n",
      "sqrt(-3738357736735586875565)\n",
      "sqrt(-8.8)\n",
      "sqrt(-7232.2)\n",
      "sqrt(-444.772849647737)\n",
      "sqrt(-61.5)\n",
      "sqrt(-47)\n",
      "sqrt(-3548798517666.6461664467426494)\n",
      "sqrt(-19)\n",
      "sqrt(-895)\n",
      "sqrt(-6.622)\n",
      "sqrt(-1)\n",
      "sqrt(-18.4451516145)\n",
      "sqrt(-39.11539)\n",
      "sqrt(-87)\n",
      "sqrt(-815821464718.85248124411714156514681855)\n",
      "sqrt(-3.34)\n",
      "sqrt(-77.83766)\n",
      "sqrt(-55.55)\n",
      "sqrt(-111552677)\n",
      "sqrt(-4.1487)\n",
      "sqrt(-5.5)\n",
      "sqrt(-7793)\n",
      "sqrt(-33)\n",
      "sqrt(-416656)\n",
      "sqrt(-426419)\n",
      "sqrt(-5.8)\n",
      "sqrt(-6.667)\n",
      "sqrt(-45.1438)\n",
      "sqrt(-65.8)\n",
      "sqrt(-16616)\n",
      "sqrt(-3.4)\n",
      "sqrt(-221)\n",
      "sqrt(-85.9)\n",
      "sqrt(-78)\n",
      "sqrt(-5.9)\n",
      "sqrt(-6.3)\n",
      "sqrt(-6.6255254853436)\n",
      "sqrt(-1.7)\n",
      "sqrt(-332.6)\n",
      "sqrt(-8751332.73)\n",
      "sqrt(-81946676768567748.88581474838473325)\n",
      "sqrt(-487)\n",
      "sqrt(-958.1527299)\n",
      "sqrt(-85.6)\n",
      "sqrt(-5.88)\n",
      "sqrt(-7.1)\n",
      "sqrt(-46517)\n",
      "sqrt(-84)\n",
      "sqrt(-9.5)\n",
      "sqrt(-2785727228)\n",
      "sqrt(-544354.667348535762833383437569454343413375475437)\n",
      "sqrt(-3.1)\n",
      "sqrt(-8.3)\n",
      "sqrt(-3397)\n",
      "sqrt(-8.4)\n",
      "sqrt(-64568.1811944)\n",
      "sqrt(-4)\n",
      "sqrt(-55.3)\n",
      "sqrt(-59951)\n",
      "sqrt(-26.4)\n",
      "sqrt(-915)\n",
      "sqrt(-6162142462)\n",
      "sqrt(-5861725467756456851368)\n",
      "sqrt(-49.3635)\n",
      "sqrt(-355.5)\n",
      "sqrt(-761845168)\n",
      "sqrt(-4.1)\n",
      "sqrt(-5.3)\n",
      "sqrt(-77)\n",
      "sqrt(-8677)\n",
      "sqrt(-94615676112414.181)\n",
      "sqrt(-6.6)\n",
      "sqrt(-35)\n",
      "sqrt(-18)\n",
      "sqrt(-78389338488154)\n",
      "sqrt(-555492141254211786)\n",
      "sqrt(-7.687)\n",
      "sqrt(-4275644477.9114546578)\n",
      "sqrt(-8.5)\n",
      "sqrt(-2.1)\n",
      "sqrt(-31)\n",
      "sqrt(-6)\n",
      "sqrt(-6.7)\n",
      "sqrt(-98.5)\n",
      "sqrt(-89.3)\n",
      "sqrt(-7411884.664847373975348778177115)\n",
      "sqrt(-64483335.834534)\n",
      "sqrt(-5.7)\n",
      "sqrt(-7)\n",
      "sqrt(-566716697)\n",
      "sqrt(-85)\n",
      "sqrt(-54864.1761)\n",
      "sqrt(-4273.4)\n",
      "sqrt(-14)\n",
      "sqrt(-857.6)\n",
      "sqrt(-1.5)\n",
      "sqrt(-8.24248)\n",
      "sqrt(-7.4)\n",
      "sqrt(-5665676241454611.541862264366)\n",
      "sqrt(-51758)\n",
      "sqrt(-86736216761.35)\n",
      "sqrt(-5.553)\n",
      "sqrt(-793)\n",
      "sqrt(-57.4)\n",
      "sqrt(-4.6)\n",
      "sqrt(-2.8885414)\n",
      "sqrt(-728456.67)\n",
      "sqrt(-76867.4)\n",
      "sqrt(-4.2)\n",
      "sqrt(-985)\n",
      "sqrt(-3)\n",
      "sqrt(-666.8)\n",
      "sqrt(-2)\n",
      "sqrt(-582614165584412522817648756.613)\n",
      "sqrt(-7.17)\n",
      "sqrt(-21.17)\n",
      "sqrt(-6.8)\n",
      "sqrt(-6.4)\n",
      "sqrt(-748367164)\n",
      "sqrt(-5.28)\n",
      "sqrt(-9)\n",
      "sqrt(-9.7)\n",
      "sqrt(-558.3)\n",
      "sqrt(-26.3)\n",
      "sqrt(-9455)\n",
      "sqrt(-3.3)\n",
      "sqrt(-55.2255168558)\n",
      "sqrt(-37.6)\n",
      "sqrt(-46)\n",
      "sqrt(-462.4)\n",
      "sqrt(-7.1411)\n",
      "sqrt(-54)\n",
      "sqrt(-517371819.5)\n",
      "sqrt(-55553.5)\n",
      "sqrt(-8.6)\n",
      "sqrt(-9.83)\n",
      "sqrt(-581728.476663266827377)\n",
      "sqrt(-354)\n",
      "sqrt(-7674174.163784436759359834765646)\n",
      "sqrt(-73)\n",
      "sqrt(-86.76427)\n",
      "sqrt(-466.74)\n",
      "sqrt(-37)\n",
      "sqrt(-6715)\n",
      "sqrt(-63473497.476188228)\n",
      "sqrt(-16684624.644186)\n",
      "sqrt(-3355.9)\n",
      "sqrt(-833)\n",
      "sqrt(-79)\n"
     ]
    }
   ],
   "source": [
    "epp = EvoGFuzz(\n",
    "    grammar=CALCGRAMMAR,\n",
    "    oracle=oracle,\n",
    "    inputs=initial_inputs,\n",
    "    fitness_function=fitness_function_cos,\n",
    "    iterations=100\n",
    ")\n",
    "\n",
    "found_exception_inputs = epp.fuzz()\n",
    "\n",
    "print(f\"EvoGFuzz found {len(found_exception_inputs)} bug-triggering inputs!\")\n",
    "\n",
    "for inp in found_exception_inputs:\n",
    "    print(str(inp))"
   ]
  },
  {
   "cell_type": "markdown",
   "metadata": {},
   "source": [
    "This way, the evolutionary grammar-based fuzzing process is now guided by your custom fitness function, focusing more on the areas you deem critical."
   ]
  },
  {
   "cell_type": "markdown",
   "metadata": {},
   "source": [
    "#### Evaluating Inputs Based on Custom Fitness Function"
   ]
  },
  {
   "cell_type": "markdown",
   "metadata": {},
   "source": [
    "When utilizing a custom fitness function, such as `fitness_function_cos` in our case, we expect inputs containing 'cos' to achieve the highest fitness scores. This is because our fitness function assigns a score of 1.0 to any input that includes 'cos'.\n",
    "\n",
    "To confirm this behavior, we retrieve all inputs generated during the fuzzing process using the `get_all_inputs()` method and sort these inputs based on their fitness scores."
   ]
  },
  {
   "cell_type": "code",
   "execution_count": 16,
   "metadata": {},
   "outputs": [],
   "source": [
    "all_generated_inputs = epp.get_all_inputs()\n",
    "all_generated_inputs_sorted = sorted(all_generated_inputs, key=lambda inp: inp.fitness, reverse=True)"
   ]
  },
  {
   "cell_type": "markdown",
   "metadata": {},
   "source": [
    "Let's display these sorted inputs along with their fitness scores. The inputs that contain 'cos' should appear first, demonstrating their high fitness value."
   ]
  },
  {
   "cell_type": "code",
   "execution_count": 17,
   "metadata": {},
   "outputs": [
    {
     "name": "stdout",
     "output_type": "stream",
     "text": [
      "cos(82)                                  fitness: 1.0\n",
      "cos(-53.3377)                            fitness: 1.0\n",
      "cos(-5.9)                                fitness: 1.0\n",
      "cos(1.7)                                 fitness: 1.0\n",
      "cos(92299994.9)                          fitness: 1.0\n",
      "cos(25.47)                               fitness: 1.0\n",
      "cos(3277271.2729)                        fitness: 1.0\n",
      "cos(2.6)                                 fitness: 1.0\n",
      "cos(-7.23)                               fitness: 1.0\n",
      "cos(43461.232)                           fitness: 1.0\n",
      "cos(3274.2)                              fitness: 1.0\n",
      "cos(93343353493747433614.7)              fitness: 1.0\n",
      "cos(-397)                                fitness: 1.0\n",
      "cos(2.24)                                fitness: 1.0\n",
      "cos(2.9299292)                           fitness: 1.0\n",
      "cos(99.942922422922)                     fitness: 1.0\n",
      "cos(1912)                                fitness: 1.0\n",
      "cos(779327773.262)                       fitness: 1.0\n",
      "cos(3447.36762234149)                    fitness: 1.0\n",
      "cos(-192192212)                          fitness: 1.0\n"
     ]
    }
   ],
   "source": [
    "# investigate only the first 20 bug-triggering inputs\n",
    "for inp in all_generated_inputs_sorted[:20]:\n",
    "    print(f\"{str(inp).ljust(40)} fitness: {inp.fitness}\")"
   ]
  },
  {
   "cell_type": "markdown",
   "metadata": {},
   "source": [
    "The resulting output validates the effectiveness of our custom fitness function. It shows how we can guide the evolutionary grammar-based fuzzing process towards specific regions of the input space, thereby facilitating targeted exploration and bug discovery."
   ]
  },
  {
   "cell_type": "code",
   "execution_count": 18,
   "metadata": {},
   "outputs": [
    {
     "name": "stdout",
     "output_type": "stream",
     "text": [
      "[(1, 0), (2, 0), (3, 0), (4, 0), (5, 0), (6, 0), (7, 0), (8, 0), (9, 0), (10, 0), (11, 0), (12, 0), (13, 0), (14, 0), (15, 0), (16, 0), (17, 0), (18, 0), (19, 0), (20, 0), (21, 0), (22, 0), (23, 0), (24, 0), (25, 0), (26, 0), (27, 0), (28, 0), (29, 0), (30, 0), (31, 12), (32, 15), (33, 15), (34, 35), (35, 57), (36, 80), (37, 94), (38, 100), (39, 108), (40, 114), (41, 114), (42, 114), (43, 114), (44, 114), (45, 114), (46, 114), (47, 114), (48, 114), (49, 114), (50, 116), (51, 116), (52, 116), (53, 116), (54, 116), (55, 116), (56, 116), (57, 136), (58, 138), (59, 138), (60, 138), (61, 138), (62, 138), (63, 138), (64, 151), (65, 164), (66, 168), (67, 168), (68, 168), (69, 171), (70, 171), (71, 171), (72, 171), (73, 171), (74, 171), (75, 171), (76, 183), (77, 185), (78, 185), (79, 194), (80, 205), (81, 207), (82, 210), (83, 212), (84, 212), (85, 212), (86, 212), (87, 212), (88, 212), (89, 212), (90, 212), (91, 212), (92, 212), (93, 212), (94, 212), (95, 212), (96, 216), (97, 216), (98, 216), (99, 216), (100, 216)]\n"
     ]
    }
   ],
   "source": [
    "test = epp.get_benchmark()\n",
    "print(test)"
   ]
  },
  {
   "cell_type": "code",
   "execution_count": 19,
   "metadata": {},
   "outputs": [
    {
     "data": {
      "image/png": "[encoded data removed]",
      "text/plain": [
       "<Figure size 640x480 with 1 Axes>"
      ]
     },
     "metadata": {},
     "output_type": "display_data"
    }
   ],
   "source": [
    "import matplotlib.pyplot as plt\n",
    "\n",
    "x = [a[0] for a in test]\n",
    "y = [a[1] for a in test]\n",
    "plt.plot(x, y)\n",
    "plt.ylabel(\"Calculator\")\n",
    "plt.show()"
   ]
  },
  {
   "cell_type": "code",
   "execution_count": 20,
   "metadata": {},
   "outputs": [],
   "source": [
    "from typing import List\n",
    "\n",
    "from debugging_framework.benchmark.program import BenchmarkProgram\n",
    "\n",
    "from debugging_benchmark.calculator.calculator import CalculatorBenchmarkRepository\n",
    "from debugging_benchmark.middle.middle import MiddleBenchmarkRepository\n",
    "from debugging_benchmark.expression.expression import ExpressionBenchmarkRepository\n",
    "from debugging_benchmark.markup.markup import MarkupBenchmarkRepository\n",
    "\n",
    "repo_subjects: List[BenchmarkProgram] = MiddleBenchmarkRepository().build()\n",
    "subject: BenchmarkProgram = repo_subjects[0]\n",
    "oracle = subject.get_oracle()\n",
    "grammar = subject.get_grammar()\n",
    "\n",
    "from typing import List\n",
    "from debugging_framework.benchmark.repository import BenchmarkRepository\n",
    "\n",
    "repos: List[BenchmarkRepository] = [\n",
    "    CalculatorBenchmarkRepository(),\n",
    "    MiddleBenchmarkRepository(),\n",
    "    ExpressionBenchmarkRepository(),\n",
    "    MarkupBenchmarkRepository(),\n",
    "]\n",
    "\n",
    "from debugging_framework.benchmark.program import BenchmarkProgram\n",
    "\n",
    "subjects: List[BenchmarkProgram] = []\n",
    "for repo in repos:\n",
    "    for prog in repo.build():\n",
    "        subjects.append(prog)\n",
    "\n",
    "subject = subjects[0]\n",
    "\n",
    "epp = EvoGFuzz(\n",
    "    grammar=subject.get_grammar(),\n",
    "    oracle=subject.get_oracle(),\n",
    "    inputs=subject.get_passing_inputs(),\n",
    "    iterations=100\n",
    ")\n",
    "found_exception_inputs = epp.fuzz()\n",
    "test = epp.get_benchmark()"
   ]
  },
  {
   "cell_type": "code",
   "execution_count": 21,
   "metadata": {},
   "outputs": [
    {
     "data": {
      "image/png": "[encoded data removed]",
      "text/plain": [
       "<Figure size 640x480 with 1 Axes>"
      ]
     },
     "metadata": {},
     "output_type": "display_data"
    },
    {
     "name": "stdout",
     "output_type": "stream",
     "text": [
      "224737.0\n"
     ]
    },
    {
     "data": {
      "image/png": "[encoded data removed]",
      "text/plain": [
       "<Figure size 640x480 with 1 Axes>"
      ]
     },
     "metadata": {},
     "output_type": "display_data"
    },
    {
     "name": "stdout",
     "output_type": "stream",
     "text": [
      "65014.0\n"
     ]
    },
    {
     "data": {
      "image/png": "[encoded data removed]",
      "text/plain": [
       "<Figure size 640x480 with 1 Axes>"
      ]
     },
     "metadata": {},
     "output_type": "display_data"
    },
    {
     "name": "stdout",
     "output_type": "stream",
     "text": [
      "118884.0\n"
     ]
    },
    {
     "data": {
      "image/png": "[encoded data removed]",
      "text/plain": [
       "<Figure size 640x480 with 1 Axes>"
      ]
     },
     "metadata": {},
     "output_type": "display_data"
    },
    {
     "name": "stdout",
     "output_type": "stream",
     "text": [
      "30043.5\n"
     ]
    }
   ],
   "source": [
    "from numpy import trapz\n",
    "for s in subjects:\n",
    "    epp = EvoGFuzz(\n",
    "    grammar=s.get_grammar(),\n",
    "    oracle=s.get_oracle(),\n",
    "    inputs=s.get_passing_inputs(),\n",
    "    iterations=100\n",
    "    )\n",
    "    found_exception_inputs = epp.fuzz()\n",
    "    test = epp.get_benchmark()\n",
    "\n",
    "    x = [a[0] for a in test]\n",
    "    y = [a[1] for a in test]\n",
    "    plt.plot(x, y)\n",
    "    plt.ylabel(s)\n",
    "    plt.show()\n",
    "    area = trapz(y, dx=1)\n",
    "    print(area)\n",
    "    \n",
    "    "
   ]
  },
  {
   "cell_type": "code",
   "execution_count": null,
   "metadata": {},
   "outputs": [],
   "source": []
  }
 ],
 "metadata": {
  "kernelspec": {
   "display_name": "Python 3 (ipykernel)",
   "language": "python",
   "name": "python3"
  },
  "language_info": {
   "codemirror_mode": {
    "name": "ipython",
    "version": 3
   },
   "file_extension": ".py",
   "mimetype": "text/x-python",
   "name": "python",
   "nbconvert_exporter": "python",
   "pygments_lexer": "ipython3",
   "version": "3.11.9"
  }
 },
 "nbformat": 4,
 "nbformat_minor": 4
}
