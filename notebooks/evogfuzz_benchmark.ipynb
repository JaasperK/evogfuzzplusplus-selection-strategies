{
 "cells": [
  {
   "cell_type": "markdown",
   "metadata": {},
   "source": [
    "# EvoGFuzz: An Evolutionary Approach to Grammar-Based Fuzzing\n",
    "\n",
    "**EvoGFuzz** stands for *evolutionary grammar-based fuzzing*. This approach leverages evolutionary optimization techniques to systematically explore the space of a program's potential inputs, with a particular emphasis on identifying inputs that could lead to exceptional behavior. With a user-defined objective, EvoGFuzz can adapt and refine the input generation strategy over time, making it a powerful tool for uncovering software defects and vulnerabilities.\n",
    "\n",
    "Efficient detection of defects and vulnerabilities hinges on the ability to automatically generate program inputs that are both valid and diverse. One common strategy is to use grammars, which provide structured and syntactically correct inputs. This approach leads to the concept of grammar-based fuzzing, where fuzzing strategies are guided by the rules defined within the grammar.\n",
    "\n",
    "A further enhancement to this concept is probabilistic grammar-based fuzzing, where competing grammar rules are associated with probabilities that guide their application. By carefully assigning and optimizing these probabilities, we gain considerable control over the nature of the generated inputs. This enables us to direct the fuzzing process towards specific areas of interest—for example, those functions that are deemed critical, have a higher propensity for failures, or have undergone recent modifications. \n",
    "\n",
    "In essence, EvoGFuzz represents a potent blend of evolutionary optimization and probabilistic grammar-based fuzzing, poised to reveal hidden defects and vulnerabilities in a targeted and efficient manner."
   ]
  },
  {
   "cell_type": "markdown",
   "metadata": {},
   "source": [
    "## Fuzzing a Program"
   ]
  },
  {
   "cell_type": "markdown",
   "metadata": {},
   "source": [
    "Our program under investigation is `The Calculator`. This program acts as a typical calculator, capable of evaluating not just arithmetic expressions but also trigonometric functions, such as sine, cosine, and tangent. Furthermore, it also supports the calculation of the square root of a given number."
   ]
  },
  {
   "cell_type": "code",
   "execution_count": 1,
   "metadata": {
    "ExecuteTime": {
     "end_time": "2024-07-10T15:59:59.614877846Z",
     "start_time": "2024-07-10T15:59:59.572943348Z"
    }
   },
   "outputs": [],
   "source": [
    "import math\n",
    "\n",
    "def calculator(inp: str) -> float:\n",
    "    \"\"\"\n",
    "        A simple calculator function that can evaluate arithmetic expressions \n",
    "        and perform basic trigonometric functions and square root calculations.\n",
    "    \"\"\"\n",
    "    return eval(\n",
    "        str(inp), {\"sqrt\": math.sqrt, \"sin\": math.sin, \"cos\": math.cos, \"tan\": math.tan}\n",
    "    )"
   ]
  },
  {
   "cell_type": "markdown",
   "metadata": {},
   "source": [
    "**Side Note:** In the `calculator`, we use Python's `eval` function, which takes a string and evaluates it as a Python expression. We provide a dictionary as the second argument to eval, mapping names to corresponding mathematical functions. This enables us to use the function names directly within the input string. "
   ]
  },
  {
   "cell_type": "code",
   "execution_count": 2,
   "metadata": {
    "ExecuteTime": {
     "end_time": "2024-07-10T16:00:03.978601100Z",
     "start_time": "2024-07-10T16:00:03.966085254Z"
    }
   },
   "outputs": [
    {
     "name": "stdout",
     "output_type": "stream",
     "text": [
      "0.999993677717667\n"
     ]
    }
   ],
   "source": [
    "# Evaluating the cosine of 2π\n",
    "print(calculator('cos(6*3.141)'))"
   ]
  },
  {
   "cell_type": "code",
   "execution_count": 3,
   "metadata": {
    "ExecuteTime": {
     "end_time": "2024-07-10T16:00:05.160515917Z",
     "start_time": "2024-07-10T16:00:05.146566565Z"
    }
   },
   "outputs": [
    {
     "name": "stdout",
     "output_type": "stream",
     "text": [
      "6.0\n"
     ]
    }
   ],
   "source": [
    "# Calculating the square root of 36\n",
    "print(calculator('sqrt(6*6)'))"
   ]
  },
  {
   "cell_type": "markdown",
   "metadata": {},
   "source": [
    "Each of these calls to the calculator will evaluate the provided string as a mathematical expression, and print the result."
   ]
  },
  {
   "cell_type": "markdown",
   "metadata": {},
   "source": [
    "Now, to find new defects, we need to introduce an oracle that tells us if the error that is triggered is something we expect or a new/unkonwn defect. The `OracleResult` is an enum with two possible values, `NO_BUG` and `BUG`. `NO_BUG` donates a passing test case and `BUG` a failing one."
   ]
  },
  {
   "cell_type": "markdown",
   "metadata": {},
   "source": [
    "We import the `OracleResult` enumerated type from the `evogfuzz` library. This is used in the oracle function to indicate the outcome of executing the 'calculator' function with a given input."
   ]
  },
  {
   "cell_type": "code",
   "execution_count": 4,
   "metadata": {
    "ExecuteTime": {
     "end_time": "2024-07-10T15:49:40.776877152Z",
     "start_time": "2024-07-10T15:49:40.496176924Z"
    }
   },
   "outputs": [],
   "source": [
    "from debugging_framework.input.oracle import OracleResult"
   ]
  },
  {
   "cell_type": "markdown",
   "metadata": {},
   "source": [
    "This is a function called **oracle**, which acts as an intermediary to handle and classify exceptions produced by the calculator function when given a certain input."
   ]
  },
  {
   "cell_type": "code",
   "execution_count": 5,
   "metadata": {
    "ExecuteTime": {
     "end_time": "2024-07-10T15:49:40.777372210Z",
     "start_time": "2024-07-10T15:49:40.664029496Z"
    }
   },
   "outputs": [],
   "source": [
    "# Make sure you use the OracleResult from the debugging_framework library\n",
    "from debugging_framework.input.oracle import OracleResult\n",
    "\n",
    "def oracle(inp: str):\n",
    "    \"\"\"\n",
    "    This function serves as an oracle or intermediary that catches and handles exceptions \n",
    "    generated by the 'calculator' function. The oracle function is used in the context of fuzz testing.\n",
    "    It aims to determine whether an input triggers a bug in the 'calculator' function.\n",
    "\n",
    "    Args:\n",
    "        inp (str): The input string to be passed to the 'calculator' function.\n",
    "\n",
    "    Returns:\n",
    "        OracleResult: An enumerated type 'OracleResult' indicating the outcome of the function execution.\n",
    "            - OracleResult.PASSING: Returned if the calculator function executes without any exception or only with CalculatorSyntaxError\n",
    "            - OracleResult.FAILING: Returned if the calculator function raises a ValueError exception, indicating a potential bug.\n",
    "    \"\"\"\n",
    "    try:\n",
    "        calculator(inp)\n",
    "    except ValueError as e:\n",
    "        return OracleResult.FAILING\n",
    "    \n",
    "    return OracleResult.PASSING"
   ]
  },
  {
   "cell_type": "markdown",
   "metadata": {},
   "source": [
    "This **oracle** function is used in the context of fuzzing to determine the impact of various inputs on the program under test (in our case the _calculator_). When the calculator function behaves as expected (i.e., no exceptions occur), the **oracle** function returns `OracleResult.NO_BUG`. However, when the `calculator` function raises an unexpected exception, the **oracle** interprets this as a potential bug in the `calculator` and returns `OracleResult.BUG`."
   ]
  },
  {
   "cell_type": "markdown",
   "metadata": {},
   "source": [
    "We can see this in action by testing a few initial inputs:"
   ]
  },
  {
   "cell_type": "code",
   "execution_count": 6,
   "metadata": {
    "ExecuteTime": {
     "end_time": "2024-07-10T15:49:40.777941366Z",
     "start_time": "2024-07-10T15:49:40.664725484Z"
    }
   },
   "outputs": [
    {
     "name": "stdout",
     "output_type": "stream",
     "text": [
      "sqrt(1)              PASSING\n",
      "cos(912)             PASSING\n",
      "tan(4)               PASSING\n"
     ]
    }
   ],
   "source": [
    "initial_inputs = ['sqrt(1)', 'cos(912)', 'tan(4)']\n",
    "\n",
    "for inp in initial_inputs:\n",
    "    print(inp.ljust(20), oracle(inp))"
   ]
  },
  {
   "cell_type": "markdown",
   "metadata": {},
   "source": [
    "The following code represents a simple context-free grammar for our calculator function. This grammar encompasses all the potential valid inputs to the calculator, which include mathematical expressions involving square roots, trigonometric functions, and integer and decimal numbers:"
   ]
  },
  {
   "cell_type": "code",
   "execution_count": 7,
   "metadata": {
    "ExecuteTime": {
     "end_time": "2024-07-10T15:49:40.778181966Z",
     "start_time": "2024-07-10T15:49:40.665195048Z"
    }
   },
   "outputs": [],
   "source": [
    "from debugging_framework.types import Grammar\n",
    "from debugging_framework.fuzzingbook.grammar import is_valid_grammar\n",
    "\n",
    "CALCGRAMMAR: Grammar = {\n",
    "    \"<start>\":\n",
    "        [\"<function>(<term>)\"],\n",
    "\n",
    "    \"<function>\":\n",
    "        [\"sqrt\", \"tan\", \"cos\", \"sin\"],\n",
    "    \n",
    "    \"<term>\": [\"-<value>\", \"<value>\"], \n",
    "    \n",
    "    \"<value>\":\n",
    "        [\"<integer>.<integer>\",\n",
    "         \"<integer>\"],\n",
    "\n",
    "    \"<integer>\":\n",
    "        [\"<digit><integer>\", \"<digit>\"],\n",
    "\n",
    "    \"<digit>\":\n",
    "        [\"1\", \"2\", \"3\", \"4\", \"5\", \"6\", \"7\", \"8\", \"9\"]\n",
    "}\n",
    "    \n",
    "assert is_valid_grammar(CALCGRAMMAR)"
   ]
  },
  {
   "cell_type": "markdown",
   "metadata": {},
   "source": [
    "The defined grammar CALCGRAMMAR provides a structured blueprint for creating various inputs for our fuzz testing. Each rule in this grammar reflects a possible valid input that our calculator function can handle. By fuzzing based on this grammar, we can systematically explore the space of valid inputs to the calculator function."
   ]
  },
  {
   "cell_type": "markdown",
   "metadata": {},
   "source": [
    "### Leveraging EvoGFuzz to Unearth New Defects\n",
    "\n",
    "We apply our `EvoGFuzz` class to carry out fuzz testing using evolutionary grammar-based fuzzing. This is aimed at uncovering potential defects in our 'calculator' function.\n",
    "\n",
    "To initialize our EvoGFuzz instance, we require a grammar (in our case, `CALCGRAMMAR`), an oracle function, an initial set of inputs, a fitness function, and the number of iterations to be performed in the fuzzing process.\n",
    "\n",
    "Upon creating the `EvoGFuzz` instance, we can execute the fuzzing process. The `fuzz()` method runs the fuzzing iterations, evolving the inputs based on our fitness function, and returns a collection of inputs that lead to exceptions in the 'calculator' function."
   ]
  },
  {
   "cell_type": "code",
   "execution_count": 8,
   "metadata": {
    "ExecuteTime": {
     "end_time": "2024-07-10T15:49:41.098891467Z",
     "start_time": "2024-07-10T15:49:40.665575528Z"
    }
   },
   "outputs": [],
   "source": [
    "from evogfuzz.evogfuzz_class import EvoGFuzz\n",
    "\n",
    "epp = EvoGFuzz(\n",
    "    grammar=CALCGRAMMAR,\n",
    "    oracle=oracle,\n",
    "    inputs=initial_inputs,\n",
    "    iterations=10\n",
    ")"
   ]
  },
  {
   "cell_type": "markdown",
   "metadata": {},
   "source": [
    "Upon creating the `EvoGFuzz` instance, we can execute the fuzzing process. The `.fuzz()` method runs the fuzzing iterations, evolving the inputs based on our fitness function, and returns a collection of inputs that lead to exceptions in the 'calculator' function."
   ]
  },
  {
   "cell_type": "code",
   "execution_count": 9,
   "metadata": {
    "ExecuteTime": {
     "end_time": "2024-07-10T15:49:42.245056423Z",
     "start_time": "2024-07-10T15:49:41.126380355Z"
    }
   },
   "outputs": [
    {
     "name": "stdout",
     "output_type": "stream",
     "text": [
      "EvoGFuzz found 347 bug-triggering inputs!\n"
     ]
    }
   ],
   "source": [
    "found_exception_inputs = epp.fuzz()\n",
    "print(f\"EvoGFuzz found {len(found_exception_inputs)} bug-triggering inputs!\")"
   ]
  },
  {
   "cell_type": "markdown",
   "metadata": {},
   "source": [
    "Lastly, we can examine the inputs that resulted in exceptions. This output can provide valuable insight into potential weaknesses in the 'calculator' function that need to be addressed."
   ]
  },
  {
   "cell_type": "code",
   "execution_count": 10,
   "metadata": {
    "ExecuteTime": {
     "end_time": "2024-07-10T15:49:42.254073795Z",
     "start_time": "2024-07-10T15:49:42.247602073Z"
    }
   },
   "outputs": [
    {
     "name": "stdout",
     "output_type": "stream",
     "text": [
      "sqrt(-334239233183111)\n",
      "sqrt(-21)\n",
      "sqrt(-331)\n",
      "sqrt(-46)\n",
      "sqrt(-71.4646)\n",
      "sqrt(-663636)\n",
      "sqrt(-73)\n",
      "sqrt(-37.29314)\n",
      "sqrt(-6527.211124262767775)\n",
      "sqrt(-41.4)\n",
      "sqrt(-65.75)\n",
      "sqrt(-1731)\n",
      "sqrt(-32)\n",
      "sqrt(-83)\n",
      "sqrt(-684)\n",
      "sqrt(-31)\n",
      "sqrt(-33244)\n",
      "sqrt(-82)\n",
      "sqrt(-122)\n",
      "sqrt(-617)\n"
     ]
    }
   ],
   "source": [
    "# print only the first 20 bug-triggering inputs\n",
    "for inp in list(found_exception_inputs)[:20]:\n",
    "    print(str(inp))"
   ]
  },
  {
   "cell_type": "markdown",
   "metadata": {},
   "source": [
    "This process illustrates the power of evolutionary grammar-based fuzzing in identifying new defects within our system. By applying evolutionary algorithms to our fuzzing strategy, we can guide the search towards more defect-prone regions of the input space."
   ]
  },
  {
   "cell_type": "markdown",
   "metadata": {},
   "source": [
    "Print number of bug-triggering inputs for each iteration (cumulative):"
   ]
  },
  {
   "cell_type": "code",
   "execution_count": 11,
   "metadata": {
    "ExecuteTime": {
     "end_time": "2024-07-10T15:49:42.303775283Z",
     "start_time": "2024-07-10T15:49:42.255533611Z"
    }
   },
   "outputs": [
    {
     "name": "stdout",
     "output_type": "stream",
     "text": [
      "[(1, 0), (2, 10), (3, 41), (4, 57), (5, 111), (6, 144), (7, 162), (8, 215), (9, 293), (10, 347)]\n"
     ]
    }
   ],
   "source": [
    "print(epp.get_benchmark())"
   ]
  },
  {
   "cell_type": "markdown",
   "metadata": {},
   "source": [
    "#### Analyzing and Sorting All Generated Inputs by Fitness"
   ]
  },
  {
   "cell_type": "markdown",
   "metadata": {},
   "source": [
    "After the fuzzing process, you may want to examine all the generated inputs. These can be accessed using the `get_all_inputs()` method. Additionally, we can sort these inputs based on their fitness scores to gain insights into which inputs performed best according to our fitness function."
   ]
  },
  {
   "cell_type": "code",
   "execution_count": 12,
   "metadata": {
    "ExecuteTime": {
     "end_time": "2024-07-10T15:49:42.304724765Z",
     "start_time": "2024-07-10T15:49:42.265397107Z"
    }
   },
   "outputs": [],
   "source": [
    "all_generated_inputs = epp.get_all_inputs()\n",
    "all_generated_inputs_sorted = sorted(all_generated_inputs, key=lambda inp: inp.fitness, reverse=True)"
   ]
  },
  {
   "cell_type": "markdown",
   "metadata": {},
   "source": [
    "Now, let's print out these sorted inputs along with their respective fitness scores. Inputs with higher fitness scores will be displayed first, as these are the ones our evolutionary process deemed more likely to uncover potential defects."
   ]
  },
  {
   "cell_type": "code",
   "execution_count": 13,
   "metadata": {
    "ExecuteTime": {
     "end_time": "2024-07-10T15:49:42.318843038Z",
     "start_time": "2024-07-10T15:49:42.275599675Z"
    }
   },
   "outputs": [
    {
     "name": "stdout",
     "output_type": "stream",
     "text": [
      "sqrt(-334239233183111)                   fitness: 1\n",
      "sqrt(-21)                                fitness: 1\n",
      "sqrt(-331)                               fitness: 1\n",
      "sqrt(-46)                                fitness: 1\n",
      "sqrt(-71.4646)                           fitness: 1\n",
      "sqrt(-663636)                            fitness: 1\n",
      "sqrt(-73)                                fitness: 1\n",
      "sqrt(-37.29314)                          fitness: 1\n",
      "sqrt(-6527.211124262767775)              fitness: 1\n",
      "sqrt(-41.4)                              fitness: 1\n",
      "sqrt(-65.75)                             fitness: 1\n",
      "sqrt(-1731)                              fitness: 1\n",
      "sqrt(-32)                                fitness: 1\n",
      "sqrt(-83)                                fitness: 1\n",
      "sqrt(-684)                               fitness: 1\n",
      "sqrt(-31)                                fitness: 1\n",
      "sqrt(-82)                                fitness: 1\n",
      "sqrt(-33244)                             fitness: 1\n",
      "sqrt(-122)                               fitness: 1\n",
      "sqrt(-617)                               fitness: 1\n"
     ]
    }
   ],
   "source": [
    "# investigate only the first 20 bug-triggering inputs\n",
    "for inp in all_generated_inputs_sorted[:20]:\n",
    "    print(f\"{str(inp).ljust(40)} fitness: {inp.fitness}\")"
   ]
  },
  {
   "cell_type": "markdown",
   "metadata": {},
   "source": [
    "This output provides an overview of the evolved inputs and their effectiveness in revealing potential defects, as gauged by our fitness function. It is a valuable resource for understanding the behavior of our program under various inputs and the effectiveness of our evolutionary grammar-based fuzzing approach."
   ]
  },
  {
   "cell_type": "markdown",
   "metadata": {},
   "source": [
    "### Incorporating Custom Fitness Functions\n",
    "\n",
    "The fitness function plays a crucial role in guiding the evolution process of our fuzzing inputs. A well-crafted fitness function can effectively direct the search towards the most promising regions of the input space.\n",
    "\n",
    "To create your own fitness function, define a function that takes an `Input` instance and returns a float value. The return value represents the 'fitness' of the given input, with higher values indicating better fitness. Here is a simple template:\n",
    "\n",
    "```python\n",
    "from evogfuzz.input import Input\n",
    "\n",
    "def fitness_function_XYZ(inp: Input) -> float:\n",
    "    # Implement your fitness function here.\n",
    "    return 0.0\n",
    "```"
   ]
  },
  {
   "cell_type": "markdown",
   "metadata": {},
   "source": [
    "For instance, suppose we're interested in inputs that invoke the cosine function in our calculator. We could define a fitness function `fitness_function_cos` that assigns a high fitness value to inputs containing 'cos'. (**Note that this might not be the best fitness function to find new expcetions.**)"
   ]
  },
  {
   "cell_type": "code",
   "execution_count": 14,
   "metadata": {
    "ExecuteTime": {
     "end_time": "2024-07-10T15:49:42.319125158Z",
     "start_time": "2024-07-10T15:49:42.318429929Z"
    }
   },
   "outputs": [],
   "source": [
    "from evogfuzz.input import Input\n",
    "\n",
    "def fitness_function_cos(inp: Input) -> float:\n",
    "    if 'cos' in str(inp):\n",
    "        return 1.0\n",
    "    else:\n",
    "        return 0.0"
   ]
  },
  {
   "cell_type": "markdown",
   "metadata": {},
   "source": [
    "Once your fitness function is defined, you can incorporate it into the `EvoGFuzz` instance by passing it as the `fitness_function` argument. "
   ]
  },
  {
   "cell_type": "code",
   "execution_count": 15,
   "metadata": {
    "ExecuteTime": {
     "end_time": "2024-07-10T15:50:08.825736555Z",
     "start_time": "2024-07-10T15:49:42.318628900Z"
    }
   },
   "outputs": [
    {
     "data": {
      "image/png": "[encoded data removed]",
      "text/plain": [
       "<Figure size 640x480 with 1 Axes>"
      ]
     },
     "metadata": {},
     "output_type": "display_data"
    },
    {
     "name": "stdout",
     "output_type": "stream",
     "text": [
      "Area under Tournament: 12707.5\n",
      "Area under Rank: 11564.5\n",
      "Area under Roulette: 8614.5\n",
      "Area under Truncation: 10829.5\n"
     ]
    }
   ],
   "source": [
    "from evogfuzz.evogfuzz_class import Strategy\n",
    "import matplotlib.pyplot as plt\n",
    "from numpy import trapz\n",
    "epp = EvoGFuzz(\n",
    "    grammar=CALCGRAMMAR,\n",
    "    oracle=oracle,\n",
    "    inputs=initial_inputs,\n",
    "    fitness_function=fitness_function_cos,\n",
    "    iterations=100,\n",
    "    strategy=Strategy.TOURNAMENT\n",
    ")\n",
    "\n",
    "found_exception_inputs = epp.fuzz()\n",
    "test_tournament = epp.get_benchmark()\n",
    "\n",
    "epp = EvoGFuzz(\n",
    "    grammar=CALCGRAMMAR,\n",
    "    oracle=oracle,\n",
    "    inputs=initial_inputs,\n",
    "    fitness_function=fitness_function_cos,\n",
    "    iterations=100,\n",
    "    strategy=Strategy.RANK\n",
    ")\n",
    "\n",
    "found_exception_inputs = epp.fuzz()\n",
    "test_rank = epp.get_benchmark()\n",
    "\n",
    "epp = EvoGFuzz(\n",
    "    grammar=CALCGRAMMAR,\n",
    "    oracle=oracle,\n",
    "    inputs=initial_inputs,\n",
    "    fitness_function=fitness_function_cos,\n",
    "    iterations=100,\n",
    "    strategy=Strategy.TRUNCATION\n",
    ")\n",
    "\n",
    "found_exception_inputs = epp.fuzz()\n",
    "test_truncation = epp.get_benchmark()\n",
    "\n",
    "\n",
    "\n",
    "epp = EvoGFuzz(\n",
    "    grammar=CALCGRAMMAR,\n",
    "    oracle=oracle,\n",
    "    inputs=initial_inputs,\n",
    "    fitness_function=fitness_function_cos,\n",
    "    iterations=100,\n",
    "    strategy=Strategy.ROULETTE\n",
    ")\n",
    "\n",
    "found_exception_inputs = epp.fuzz()\n",
    "test_roulette = epp.get_benchmark()\n",
    "\n",
    "xt = [a[0] for a in test_tournament]\n",
    "yt = [a[1] for a in test_tournament]\n",
    "plt.plot(xt, yt, label='Tournament')\n",
    "\n",
    "xr = [a[0] for a in test_rank]\n",
    "yr = [a[1] for a in test_rank]\n",
    "plt.plot(xr, yr, label='Rank')\n",
    "\n",
    "xrw = [a[0] for a in test_roulette]\n",
    "yrw = [a[1] for a in test_roulette]\n",
    "plt.plot(xrw, yrw, label='Roulette')\n",
    "\n",
    "xtn = [a[0] for a in test_truncation]\n",
    "ytn = [a[1] for a in test_truncation]\n",
    "plt.plot(xtn, ytn, label='Truncation')\n",
    "\n",
    "plt.legend()\n",
    "plt.show()\n",
    "\n",
    "area_t = trapz(yt, dx=1)\n",
    "area_r = trapz(yr, dx=1)\n",
    "area_rw = trapz(yrw, dx=1)\n",
    "area_tn = trapz(ytn, dx=1)\n",
    "\n",
    "print(f\"Area under Tournament: {area_t}\")\n",
    "print(f\"Area under Rank: {area_r}\")\n",
    "print(f\"Area under Roulette: {area_rw}\")\n",
    "print(f\"Area under Truncation: {area_tn}\")"
   ]
  },
  {
   "cell_type": "code",
   "execution_count": 16,
   "metadata": {
    "ExecuteTime": {
     "end_time": "2024-07-10T15:50:37.053718067Z",
     "start_time": "2024-07-10T15:50:08.888852398Z"
    },
    "scrolled": true
   },
   "outputs": [
    {
     "name": "stdout",
     "output_type": "stream",
     "text": [
      "EvoGFuzz found 253 bug-triggering inputs!\n",
      "sqrt(-2.3)\n",
      "sqrt(-9.9)\n",
      "sqrt(-63532.975)\n",
      "sqrt(-44)\n",
      "sqrt(-385887.34873138)\n",
      "sqrt(-99)\n",
      "sqrt(-6.9)\n",
      "sqrt(-55.6922)\n",
      "sqrt(-12)\n",
      "sqrt(-2944.441)\n",
      "sqrt(-25.5)\n",
      "sqrt(-6.3)\n",
      "sqrt(-46)\n",
      "sqrt(-5757.5)\n",
      "sqrt(-7)\n",
      "sqrt(-7.111)\n",
      "sqrt(-5)\n",
      "sqrt(-38.49)\n",
      "sqrt(-1.94)\n",
      "sqrt(-49737627)\n",
      "sqrt(-4.73)\n",
      "sqrt(-69.46)\n",
      "sqrt(-44.7)\n",
      "sqrt(-441941249.4)\n",
      "sqrt(-141241.4)\n",
      "sqrt(-9.96)\n",
      "sqrt(-77.13)\n",
      "sqrt(-4144.2)\n",
      "sqrt(-486224.34993)\n",
      "sqrt(-39963)\n",
      "sqrt(-96.8765345)\n",
      "sqrt(-19124)\n",
      "sqrt(-294)\n",
      "sqrt(-4.114)\n",
      "sqrt(-1144244)\n",
      "sqrt(-19.1)\n",
      "sqrt(-8)\n",
      "sqrt(-67.5)\n",
      "sqrt(-414924.9994499494924)\n",
      "sqrt(-3.2)\n",
      "sqrt(-64.46)\n",
      "sqrt(-81)\n",
      "sqrt(-43.4)\n",
      "sqrt(-42444994)\n",
      "sqrt(-499.3)\n",
      "sqrt(-422733549.53127)\n",
      "sqrt(-36.4676)\n",
      "sqrt(-6.6322)\n",
      "sqrt(-83)\n",
      "sqrt(-7.6)\n",
      "sqrt(-22.2)\n",
      "sqrt(-3.5)\n",
      "sqrt(-8837.4388788148864486)\n",
      "sqrt(-339)\n",
      "sqrt(-9.1)\n",
      "sqrt(-699.4)\n",
      "sqrt(-51.23)\n",
      "sqrt(-6.86886)\n",
      "sqrt(-24422.8425726)\n",
      "sqrt(-55.5)\n",
      "sqrt(-119)\n",
      "sqrt(-449929)\n",
      "sqrt(-14142)\n",
      "sqrt(-444.424142424)\n",
      "sqrt(-949214444449411149)\n",
      "sqrt(-927394.6)\n",
      "sqrt(-6926.7)\n",
      "sqrt(-4)\n",
      "sqrt(-163.47)\n",
      "sqrt(-6.6)\n",
      "sqrt(-49.14)\n",
      "sqrt(-55.7)\n",
      "sqrt(-8.3)\n",
      "sqrt(-24.49141114419492424)\n",
      "sqrt(-4144494.449194424)\n",
      "sqrt(-94494)\n",
      "sqrt(-449414994.449)\n",
      "sqrt(-6983.5)\n",
      "sqrt(-532.2933)\n",
      "sqrt(-94)\n",
      "sqrt(-2.3252)\n",
      "sqrt(-5.7)\n",
      "sqrt(-2.719)\n",
      "sqrt(-5.3787)\n",
      "sqrt(-1315953.93)\n",
      "sqrt(-9.42)\n",
      "sqrt(-5.8)\n",
      "sqrt(-54.2)\n",
      "sqrt(-3.49)\n",
      "sqrt(-9194949419414.9)\n",
      "sqrt(-14.1)\n",
      "sqrt(-41)\n",
      "sqrt(-68.4)\n",
      "sqrt(-4.686)\n",
      "sqrt(-44.44)\n",
      "sqrt(-41144191914.9)\n",
      "sqrt(-7.4)\n",
      "sqrt(-5.3)\n",
      "sqrt(-917.212)\n",
      "sqrt(-4291411)\n",
      "sqrt(-419.14)\n",
      "sqrt(-17.1781)\n",
      "sqrt(-2.835383)\n",
      "sqrt(-429.991)\n",
      "sqrt(-8876)\n",
      "sqrt(-3.53)\n",
      "sqrt(-653.23)\n",
      "sqrt(-8624862)\n",
      "sqrt(-9.688)\n",
      "sqrt(-43.42)\n",
      "sqrt(-3.471484687448838)\n",
      "sqrt(-4994499.9221)\n",
      "sqrt(-9.69)\n",
      "sqrt(-4294)\n",
      "sqrt(-5.5)\n",
      "sqrt(-4194.4944441499)\n",
      "sqrt(-42.2)\n",
      "sqrt(-9)\n",
      "sqrt(-1225)\n",
      "sqrt(-4.886)\n",
      "sqrt(-4.749)\n",
      "sqrt(-91491.14949444)\n",
      "sqrt(-4.2)\n",
      "sqrt(-942.4)\n",
      "sqrt(-89.3)\n",
      "sqrt(-348.9)\n",
      "sqrt(-98.634)\n",
      "sqrt(-2.7)\n",
      "sqrt(-8.8)\n",
      "sqrt(-2.5)\n",
      "sqrt(-4343.41)\n",
      "sqrt(-62.6)\n",
      "sqrt(-9.8)\n",
      "sqrt(-11941.4)\n",
      "sqrt(-7142.77)\n",
      "sqrt(-5.592)\n",
      "sqrt(-115729125.92)\n",
      "sqrt(-9.5)\n",
      "sqrt(-8.68)\n",
      "sqrt(-94414244)\n",
      "sqrt(-46.7)\n",
      "sqrt(-448.84)\n",
      "sqrt(-2.8)\n",
      "sqrt(-66)\n",
      "sqrt(-4494.449142)\n",
      "sqrt(-446.9)\n",
      "sqrt(-3.9)\n",
      "sqrt(-4994494)\n",
      "sqrt(-79.6857)\n",
      "sqrt(-23.62113863)\n",
      "sqrt(-4.62)\n",
      "sqrt(-94722442.6964724)\n",
      "sqrt(-976.2)\n",
      "sqrt(-7642.36397)\n",
      "sqrt(-9.4)\n",
      "sqrt(-94144)\n",
      "sqrt(-2)\n",
      "sqrt(-1.44)\n",
      "sqrt(-8.2)\n",
      "sqrt(-419449.4294499244994941)\n",
      "sqrt(-91.4)\n",
      "sqrt(-26.6)\n",
      "sqrt(-1.718)\n",
      "sqrt(-5259523455.953)\n",
      "sqrt(-21.2)\n",
      "sqrt(-1.78)\n",
      "sqrt(-7.19)\n",
      "sqrt(-24767.2)\n",
      "sqrt(-5.9)\n",
      "sqrt(-29.49)\n",
      "sqrt(-6839.8386)\n",
      "sqrt(-16.52)\n",
      "sqrt(-28)\n",
      "sqrt(-74.73)\n",
      "sqrt(-4.5)\n",
      "sqrt(-426662232.9)\n",
      "sqrt(-6666.9)\n",
      "sqrt(-4.8)\n",
      "sqrt(-99944494.9449)\n",
      "sqrt(-8.25)\n",
      "sqrt(-54.555)\n",
      "sqrt(-6.644)\n",
      "sqrt(-14)\n",
      "sqrt(-244)\n",
      "sqrt(-51.7)\n",
      "sqrt(-4424)\n",
      "sqrt(-22.49)\n",
      "sqrt(-49.66)\n",
      "sqrt(-8.6)\n",
      "sqrt(-23991)\n",
      "sqrt(-9.98)\n",
      "sqrt(-4.6213)\n",
      "sqrt(-15.545)\n",
      "sqrt(-763864.224)\n",
      "sqrt(-496.41235122)\n",
      "sqrt(-79416639.75211)\n",
      "sqrt(-68.88)\n",
      "sqrt(-46.2)\n",
      "sqrt(-94241.494924144)\n",
      "sqrt(-6.8)\n",
      "sqrt(-6)\n",
      "sqrt(-4.9927414352)\n",
      "sqrt(-4.4424)\n",
      "sqrt(-66.349)\n",
      "sqrt(-414)\n",
      "sqrt(-577.51391)\n",
      "sqrt(-7.5)\n",
      "sqrt(-2.7328)\n",
      "sqrt(-119.449)\n",
      "sqrt(-9.37)\n",
      "sqrt(-64.4)\n",
      "sqrt(-8831858.6)\n",
      "sqrt(-2.58)\n",
      "sqrt(-5795.7)\n",
      "sqrt(-2.46)\n",
      "sqrt(-4688.7)\n",
      "sqrt(-8.7)\n",
      "sqrt(-8.97)\n",
      "sqrt(-676)\n",
      "sqrt(-694.6)\n",
      "sqrt(-527.6)\n",
      "sqrt(-5.2)\n",
      "sqrt(-42494)\n",
      "sqrt(-74.4)\n",
      "sqrt(-4.4)\n",
      "sqrt(-8.43969)\n",
      "sqrt(-2.28)\n",
      "sqrt(-7.98)\n",
      "sqrt(-2599.555)\n",
      "sqrt(-4.33)\n",
      "sqrt(-46.3)\n",
      "sqrt(-96.869)\n",
      "sqrt(-24.9426)\n",
      "sqrt(-4.36)\n",
      "sqrt(-2.2)\n",
      "sqrt(-6223.93)\n",
      "sqrt(-468.896)\n",
      "sqrt(-3.25)\n",
      "sqrt(-646.883)\n",
      "sqrt(-4295.43572552575955)\n",
      "sqrt(-9914.1)\n",
      "sqrt(-88498.7937)\n",
      "sqrt(-919494499444)\n",
      "sqrt(-2.6)\n",
      "sqrt(-5.4)\n",
      "sqrt(-8847.2)\n",
      "sqrt(-421.1)\n",
      "sqrt(-36.341638)\n",
      "sqrt(-2.29)\n",
      "sqrt(-48.8)\n",
      "sqrt(-6.2)\n",
      "sqrt(-944112494)\n",
      "sqrt(-44.149444111)\n"
     ]
    }
   ],
   "source": [
    "epp = EvoGFuzz(\n",
    "    grammar=CALCGRAMMAR,\n",
    "    oracle=oracle,\n",
    "    inputs=initial_inputs,\n",
    "    fitness_function=fitness_function_cos,\n",
    "    iterations=100\n",
    ")\n",
    "\n",
    "found_exception_inputs = epp.fuzz()\n",
    "\n",
    "print(f\"EvoGFuzz found {len(found_exception_inputs)} bug-triggering inputs!\")\n",
    "\n",
    "for inp in found_exception_inputs:\n",
    "    print(str(inp))"
   ]
  },
  {
   "cell_type": "markdown",
   "metadata": {},
   "source": [
    "This way, the evolutionary grammar-based fuzzing process is now guided by your custom fitness function, focusing more on the areas you deem critical."
   ]
  },
  {
   "cell_type": "markdown",
   "metadata": {},
   "source": [
    "#### Evaluating Inputs Based on Custom Fitness Function"
   ]
  },
  {
   "cell_type": "markdown",
   "metadata": {},
   "source": [
    "When utilizing a custom fitness function, such as `fitness_function_cos` in our case, we expect inputs containing 'cos' to achieve the highest fitness scores. This is because our fitness function assigns a score of 1.0 to any input that includes 'cos'.\n",
    "\n",
    "To confirm this behavior, we retrieve all inputs generated during the fuzzing process using the `get_all_inputs()` method and sort these inputs based on their fitness scores."
   ]
  },
  {
   "cell_type": "code",
   "execution_count": 17,
   "metadata": {
    "ExecuteTime": {
     "end_time": "2024-07-10T15:50:37.061498235Z",
     "start_time": "2024-07-10T15:50:37.055631791Z"
    }
   },
   "outputs": [],
   "source": [
    "all_generated_inputs = epp.get_all_inputs()\n",
    "all_generated_inputs_sorted = sorted(all_generated_inputs, key=lambda inp: inp.fitness, reverse=True)"
   ]
  },
  {
   "cell_type": "markdown",
   "metadata": {},
   "source": [
    "Let's display these sorted inputs along with their fitness scores. The inputs that contain 'cos' should appear first, demonstrating their high fitness value."
   ]
  },
  {
   "cell_type": "code",
   "execution_count": 18,
   "metadata": {
    "ExecuteTime": {
     "end_time": "2024-07-10T15:50:37.103538854Z",
     "start_time": "2024-07-10T15:50:37.061691138Z"
    }
   },
   "outputs": [
    {
     "name": "stdout",
     "output_type": "stream",
     "text": [
      "cos(-35)                                 fitness: 1.0\n",
      "cos(-8551.1217949818)                    fitness: 1.0\n",
      "cos(-15.2882)                            fitness: 1.0\n",
      "cos(598.43259)                           fitness: 1.0\n",
      "cos(74455897959749378979446573944357599355699) fitness: 1.0\n",
      "cos(-89.2)                               fitness: 1.0\n",
      "cos(-882)                                fitness: 1.0\n",
      "cos(35.2532)                             fitness: 1.0\n",
      "cos(579535.5)                            fitness: 1.0\n",
      "cos(-39779157.59125895)                  fitness: 1.0\n",
      "cos(-2.95)                               fitness: 1.0\n",
      "cos(-2163676155.2716629884795342)        fitness: 1.0\n",
      "cos(339)                                 fitness: 1.0\n",
      "cos(19299)                               fitness: 1.0\n",
      "cos(-6436.49)                            fitness: 1.0\n",
      "cos(254557.536463557)                    fitness: 1.0\n",
      "cos(-56657)                              fitness: 1.0\n",
      "cos(4124.4)                              fitness: 1.0\n",
      "cos(-662427)                             fitness: 1.0\n",
      "cos(-836665366396.8)                     fitness: 1.0\n"
     ]
    }
   ],
   "source": [
    "# investigate only the first 20 bug-triggering inputs\n",
    "for inp in all_generated_inputs_sorted[:20]:\n",
    "    print(f\"{str(inp).ljust(40)} fitness: {inp.fitness}\")"
   ]
  },
  {
   "cell_type": "markdown",
   "metadata": {},
   "source": [
    "The resulting output validates the effectiveness of our custom fitness function. It shows how we can guide the evolutionary grammar-based fuzzing process towards specific regions of the input space, thereby facilitating targeted exploration and bug discovery."
   ]
  },
  {
   "cell_type": "code",
   "execution_count": 19,
   "metadata": {
    "ExecuteTime": {
     "end_time": "2024-07-10T15:50:37.105182849Z",
     "start_time": "2024-07-10T15:50:37.102928890Z"
    }
   },
   "outputs": [
    {
     "name": "stdout",
     "output_type": "stream",
     "text": [
      "[(1, 0), (2, 0), (3, 0), (4, 0), (5, 0), (6, 40), (7, 57), (8, 58), (9, 58), (10, 58), (11, 58), (12, 58), (13, 63), (14, 66), (15, 66), (16, 66), (17, 72), (18, 78), (19, 78), (20, 78), (21, 91), (22, 101), (23, 116), (24, 123), (25, 124), (26, 124), (27, 124), (28, 124), (29, 124), (30, 124), (31, 124), (32, 124), (33, 124), (34, 124), (35, 124), (36, 124), (37, 124), (38, 124), (39, 124), (40, 124), (41, 124), (42, 133), (43, 139), (44, 139), (45, 139), (46, 139), (47, 139), (48, 153), (49, 163), (50, 164), (51, 164), (52, 164), (53, 186), (54, 190), (55, 190), (56, 190), (57, 190), (58, 190), (59, 190), (60, 190), (61, 190), (62, 190), (63, 190), (64, 190), (65, 190), (66, 190), (67, 190), (68, 190), (69, 190), (70, 190), (71, 206), (72, 212), (73, 212), (74, 212), (75, 212), (76, 212), (77, 212), (78, 212), (79, 212), (80, 212), (81, 212), (82, 214), (83, 217), (84, 217), (85, 217), (86, 237), (87, 244), (88, 253), (89, 253), (90, 253), (91, 253), (92, 253), (93, 253), (94, 253), (95, 253), (96, 253), (97, 253), (98, 253), (99, 253), (100, 253)]\n"
     ]
    }
   ],
   "source": [
    "test = epp.get_benchmark()\n",
    "print(test)"
   ]
  },
  {
   "cell_type": "code",
   "execution_count": 20,
   "metadata": {
    "ExecuteTime": {
     "end_time": "2024-07-10T15:50:37.265840427Z",
     "start_time": "2024-07-10T15:50:37.103411338Z"
    }
   },
   "outputs": [
    {
     "data": {
      "image/png": "[encoded data removed]",
      "text/plain": [
       "<Figure size 640x480 with 1 Axes>"
      ]
     },
     "metadata": {},
     "output_type": "display_data"
    }
   ],
   "source": [
    "import matplotlib.pyplot as plt\n",
    "\n",
    "x = [a[0] for a in test]\n",
    "y = [a[1] for a in test]\n",
    "plt.plot(x, y)\n",
    "plt.ylabel(\"Calculator\")\n",
    "plt.show()"
   ]
  },
  {
   "cell_type": "code",
   "execution_count": 21,
   "metadata": {
    "ExecuteTime": {
     "end_time": "2024-07-10T15:50:51.362264820Z",
     "start_time": "2024-07-10T15:50:37.234234946Z"
    }
   },
   "outputs": [],
   "source": [
    "from typing import List\n",
    "\n",
    "from debugging_framework.benchmark.program import BenchmarkProgram\n",
    "\n",
    "from debugging_benchmark.calculator.calculator import CalculatorBenchmarkRepository\n",
    "from debugging_benchmark.middle.middle import MiddleBenchmarkRepository\n",
    "from debugging_benchmark.expression.expression import ExpressionBenchmarkRepository\n",
    "from debugging_benchmark.markup.markup import MarkupBenchmarkRepository\n",
    "\n",
    "repo_subjects: List[BenchmarkProgram] = MiddleBenchmarkRepository().build()\n",
    "subject: BenchmarkProgram = repo_subjects[0]\n",
    "oracle = subject.get_oracle()\n",
    "grammar = subject.get_grammar()\n",
    "\n",
    "from typing import List\n",
    "from debugging_framework.benchmark.repository import BenchmarkRepository\n",
    "\n",
    "repos: List[BenchmarkRepository] = [\n",
    "    CalculatorBenchmarkRepository(),\n",
    "    MiddleBenchmarkRepository(),\n",
    "    ExpressionBenchmarkRepository(),\n",
    "    MarkupBenchmarkRepository(),\n",
    "]\n",
    "\n",
    "from debugging_framework.benchmark.program import BenchmarkProgram\n",
    "\n",
    "subjects: List[BenchmarkProgram] = []\n",
    "for repo in repos:\n",
    "    for prog in repo.build():\n",
    "        subjects.append(prog)\n",
    "\n",
    "subject = subjects[0]\n",
    "\n",
    "epp = EvoGFuzz(\n",
    "    grammar=subject.get_grammar(),\n",
    "    oracle=subject.get_oracle(),\n",
    "    inputs=subject.get_passing_inputs(),\n",
    "    iterations=100\n",
    ")\n",
    "found_exception_inputs = epp.fuzz()\n",
    "test = epp.get_benchmark()"
   ]
  },
  {
   "cell_type": "code",
   "execution_count": 22,
   "metadata": {
    "ExecuteTime": {
     "end_time": "2024-07-10T15:51:04.363335265Z",
     "start_time": "2024-07-10T15:50:51.397181268Z"
    }
   },
   "outputs": [
    {
     "data": {
      "image/png": "[encoded data removed]",
      "text/plain": [
       "<Figure size 640x480 with 1 Axes>"
      ]
     },
     "metadata": {},
     "output_type": "display_data"
    },
    {
     "name": "stdout",
     "output_type": "stream",
     "text": [
      "80892.0\n"
     ]
    },
    {
     "data": {
      "image/png": "[encoded data removed]",
      "text/plain": [
       "<Figure size 640x480 with 1 Axes>"
      ]
     },
     "metadata": {},
     "output_type": "display_data"
    },
    {
     "name": "stdout",
     "output_type": "stream",
     "text": [
      "73864.0\n"
     ]
    },
    {
     "data": {
      "image/png": "[encoded data removed]",
      "text/plain": [
       "<Figure size 640x480 with 1 Axes>"
      ]
     },
     "metadata": {},
     "output_type": "display_data"
    },
    {
     "name": "stdout",
     "output_type": "stream",
     "text": [
      "136977.0\n"
     ]
    },
    {
     "data": {
      "image/png": "[encoded data removed]",
      "text/plain": [
       "<Figure size 640x480 with 1 Axes>"
      ]
     },
     "metadata": {},
     "output_type": "display_data"
    },
    {
     "name": "stdout",
     "output_type": "stream",
     "text": [
      "45730.0\n"
     ]
    }
   ],
   "source": [
    "from numpy import trapz\n",
    "for s in subjects:\n",
    "    epp = EvoGFuzz(\n",
    "    grammar=s.get_grammar(),\n",
    "    oracle=s.get_oracle(),\n",
    "    inputs=s.get_passing_inputs(),\n",
    "    iterations=100\n",
    "    )\n",
    "    found_exception_inputs = epp.fuzz()\n",
    "    test = epp.get_benchmark()\n",
    "\n",
    "    x = [a[0] for a in test]\n",
    "    y = [a[1] for a in test]\n",
    "    plt.plot(x, y)\n",
    "    plt.ylabel(s)\n",
    "    plt.show()\n",
    "    area = trapz(y, dx=1)\n",
    "    print(area)\n",
    "    \n",
    "    "
   ]
  },
  {
   "cell_type": "code",
   "execution_count": null,
   "metadata": {
    "ExecuteTime": {
     "start_time": "2024-07-10T15:51:04.365407729Z"
    }
   },
   "outputs": [],
   "source": []
  }
 ],
 "metadata": {
  "kernelspec": {
   "display_name": "Python 3 (ipykernel)",
   "language": "python",
   "name": "python3"
  },
  "language_info": {
   "codemirror_mode": {
    "name": "ipython",
    "version": 3
   },
   "file_extension": ".py",
   "mimetype": "text/x-python",
   "name": "python",
   "nbconvert_exporter": "python",
   "pygments_lexer": "ipython3",
   "version": "3.11.9"
  }
 },
 "nbformat": 4,
 "nbformat_minor": 4
}
