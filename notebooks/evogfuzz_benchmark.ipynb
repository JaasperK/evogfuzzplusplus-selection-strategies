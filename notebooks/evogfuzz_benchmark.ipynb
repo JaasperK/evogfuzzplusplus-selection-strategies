{
 "cells": [
  {
   "cell_type": "markdown",
   "metadata": {},
   "source": [
    "# Testing selection strategies for EvoGFuzz\n",
    "\n",
    "We use this notebook to test our selection strategies and compare them to the default tournament selection."
   ]
  },
  {
   "cell_type": "markdown",
   "metadata": {},
   "source": [
    "## Setup"
   ]
  },
  {
   "cell_type": "markdown",
   "metadata": {},
   "source": [
    "First, we import everything neccessary for our evaluation."
   ]
  },
  {
   "cell_type": "code",
   "execution_count": 1,
   "metadata": {},
   "outputs": [
    {
     "name": "stderr",
     "output_type": "stream",
     "text": [
      "tests4py :: INFO     :: Loading projects\n"
     ]
    }
   ],
   "source": [
    "import math\n",
    "import matplotlib.pyplot as plt\n",
    "from numpy import trapz\n",
    "import pandas as pd\n",
    "from evogfuzz.evogfuzz_class import Strategy\n",
    "from evogfuzz.evogfuzz_class import EvoGFuzz\n",
    "from evogfuzz.input import Input\n",
    "from typing import List\n",
    "\n",
    "from debugging_framework.benchmark.program import BenchmarkProgram\n",
    "from debugging_framework.benchmark.repository import BenchmarkRepository\n",
    "from debugging_benchmark.calculator.calculator import CalculatorBenchmarkRepository\n",
    "from debugging_benchmark.middle.middle import MiddleBenchmarkRepository\n",
    "from debugging_benchmark.expression.expression import ExpressionBenchmarkRepository\n",
    "from debugging_benchmark.markup.markup import MarkupBenchmarkRepository\n",
    "from debugging_benchmark.tests4py_benchmark.repository import CookieCutterBenchmarkRepository\n",
    "from debugging_benchmark.tests4py_benchmark.repository import PysnooperBenchmarkRepository"
   ]
  },
  {
   "cell_type": "markdown",
   "metadata": {},
   "source": [
    "## Build the test suite"
   ]
  },
  {
   "cell_type": "markdown",
   "metadata": {},
   "source": [
    "Now we can build all test programs from the `debugging-benchmark` repository."
   ]
  },
  {
   "cell_type": "code",
   "execution_count": 2,
   "metadata": {
    "ExecuteTime": {
     "end_time": "2024-07-10T15:50:51.362264820Z",
     "start_time": "2024-07-10T15:50:37.234234946Z"
    }
   },
   "outputs": [
    {
     "name": "stderr",
     "output_type": "stream",
     "text": [
      "tests4py :: INFO     :: Cloning https://github.com/cool-RR/PySnooper into /tmp/pysnooper_2... \n",
      "Cloning into '/tmp/pysnooper_2'...\n",
      "tests4py :: INFO     :: Resetting git at /tmp/pysnooper_2 to 814abc34a098c1b98cb327105ac396f985d2413e\n",
      "tests4py :: INFO     :: Creating tmp location at /tmp/tmp_pysnooper\n",
      "tests4py :: INFO     :: Copying required files to /tmp/tmp_pysnooper\n",
      "tests4py :: INFO     :: Checkout buggy commit id e21a31162f4c54be693d8ca8260e42393b39abd3\n",
      "tests4py :: INFO     :: Copying required files from /tmp/tmp_pysnooper\n",
      "tests4py :: INFO     :: Create info file\n",
      "tests4py :: INFO     :: Copying resources for pysnooper_2\n",
      "tests4py :: INFO     :: Checking whether Tests4Py project\n",
      "tests4py :: INFO     :: Loading projects\n",
      "tests4py :: INFO     :: Checking for platform linux\n",
      "tests4py :: INFO     :: Check for activated python version\n",
      "tests4py :: INFO     :: Using pyenv python 3.8.4\n",
      "tests4py :: INFO     :: Creating virtual env\n",
      "tests4py :: INFO     :: Activating virtual env\n",
      "tests4py :: INFO     :: Installing utilities\n",
      "tests4py :: INFO     :: Installing requirements\n",
      "tests4py :: INFO     :: Checking and installing test requirements\n",
      "tests4py :: INFO     :: Run setup\n",
      "tests4py :: INFO     :: Set compiled flag\n",
      "tests4py :: INFO     :: Cloning https://github.com/cool-RR/PySnooper into /tmp/pysnooper_3... \n",
      "Cloning into '/tmp/pysnooper_3'...\n",
      "tests4py :: INFO     :: Resetting git at /tmp/pysnooper_3 to 15555ed760000b049aff8fecc79d29339c1224c3\n",
      "tests4py :: INFO     :: Creating tmp location at /tmp/tmp_pysnooper\n",
      "tests4py :: INFO     :: Copying required files to /tmp/tmp_pysnooper\n",
      "tests4py :: INFO     :: Checkout buggy commit id 6e3d797be3fa0a746fb5b1b7c7fea78eb926c208\n",
      "tests4py :: INFO     :: Copying required files from /tmp/tmp_pysnooper\n",
      "tests4py :: INFO     :: Create info file\n",
      "tests4py :: INFO     :: Copying resources for pysnooper_3\n",
      "tests4py :: INFO     :: Checking whether Tests4Py project\n",
      "tests4py :: INFO     :: Loading projects\n",
      "tests4py :: INFO     :: Checking for platform linux\n",
      "tests4py :: INFO     :: Check for activated python version\n",
      "tests4py :: INFO     :: Using pyenv python 3.8.4\n",
      "tests4py :: INFO     :: Creating virtual env\n",
      "tests4py :: INFO     :: Activating virtual env\n",
      "tests4py :: INFO     :: Installing utilities\n",
      "tests4py :: INFO     :: Installing requirements\n",
      "tests4py :: INFO     :: Checking and installing test requirements\n",
      "tests4py :: INFO     :: Run setup\n",
      "tests4py :: INFO     :: Set compiled flag\n",
      "tests4py :: INFO     :: Cloning https://github.com/cookiecutter/cookiecutter into /tmp/cookiecutter_2... \n",
      "Cloning into '/tmp/cookiecutter_2'...\n",
      "tests4py :: INFO     :: Resetting git at /tmp/cookiecutter_2 to 90434ff4ea4477941444f1e83313beb414838535\n",
      "tests4py :: INFO     :: Creating tmp location at /tmp/tmp_cookiecutter\n",
      "tests4py :: INFO     :: Copying required files to /tmp/tmp_cookiecutter\n",
      "tests4py :: INFO     :: Checkout buggy commit id d7e7b28811e474e14d1bed747115e47dcdd15ba3\n",
      "tests4py :: INFO     :: Copying required files from /tmp/tmp_cookiecutter\n",
      "tests4py :: INFO     :: Create info file\n",
      "tests4py :: INFO     :: Copying resources for cookiecutter_2\n",
      "tests4py :: INFO     :: Checking whether Tests4Py project\n",
      "tests4py :: INFO     :: Loading projects\n",
      "tests4py :: INFO     :: Checking for platform linux\n",
      "tests4py :: INFO     :: Check for activated python version\n",
      "tests4py :: INFO     :: Using pyenv python 3.6.15\n",
      "tests4py :: INFO     :: Creating virtual env\n",
      "tests4py :: INFO     :: Activating virtual env\n",
      "tests4py :: INFO     :: Installing utilities\n",
      "tests4py :: INFO     :: Installing requirements\n",
      "ERROR: pip's dependency resolver does not currently take into account all the packages that are installed. This behaviour is the source of the following dependency conflicts.\n",
      "pytest 7.0.1 requires py>=1.8.2, but you have py 1.8.1 which is incompatible.\n",
      "tests4py :: INFO     :: Checking and installing test requirements\n",
      "tests4py :: INFO     :: Run setup\n",
      "tests4py :: INFO     :: Set compiled flag\n",
      "tests4py :: INFO     :: Cloning https://github.com/cookiecutter/cookiecutter into /tmp/cookiecutter_3... \n",
      "Cloning into '/tmp/cookiecutter_3'...\n",
      "tests4py :: INFO     :: Resetting git at /tmp/cookiecutter_3 to 7129d474206761a6156925db78eee4b62a0e3944\n",
      "tests4py :: INFO     :: Creating tmp location at /tmp/tmp_cookiecutter\n",
      "tests4py :: INFO     :: Copying required files to /tmp/tmp_cookiecutter\n",
      "tests4py :: INFO     :: Checkout buggy commit id 5c282f020a8db7e5e7c4e7b51b010556ca31fb7f\n",
      "tests4py :: INFO     :: Copying required files from /tmp/tmp_cookiecutter\n",
      "tests4py :: INFO     :: Create info file\n",
      "tests4py :: INFO     :: Copying resources for cookiecutter_3\n",
      "tests4py :: INFO     :: Checking whether Tests4Py project\n",
      "tests4py :: INFO     :: Loading projects\n",
      "tests4py :: INFO     :: Checking for platform linux\n",
      "tests4py :: INFO     :: Check for activated python version\n",
      "tests4py :: INFO     :: Using pyenv python 3.6.15\n",
      "tests4py :: INFO     :: Creating virtual env\n",
      "tests4py :: INFO     :: Activating virtual env\n",
      "tests4py :: INFO     :: Installing utilities\n",
      "tests4py :: INFO     :: Installing requirements\n",
      "ERROR: pip's dependency resolver does not currently take into account all the packages that are installed. This behaviour is the source of the following dependency conflicts.\n",
      "pytest 7.0.1 requires py>=1.8.2, but you have py 1.8.1 which is incompatible.\n",
      "tests4py :: INFO     :: Checking and installing test requirements\n",
      "tests4py :: INFO     :: Run setup\n",
      "tests4py :: INFO     :: Set compiled flag\n",
      "tests4py :: INFO     :: Cloning https://github.com/cookiecutter/cookiecutter into /tmp/cookiecutter_4... \n",
      "Cloning into '/tmp/cookiecutter_4'...\n",
      "tests4py :: INFO     :: Resetting git at /tmp/cookiecutter_4 to 457a1a4e862aab4102b644ff1d2b2e2b5a766b3c\n",
      "tests4py :: INFO     :: Creating tmp location at /tmp/tmp_cookiecutter\n",
      "tests4py :: INFO     :: Copying required files to /tmp/tmp_cookiecutter\n",
      "tests4py :: INFO     :: Checkout buggy commit id 9568ab6ecd2d6836646006c59473c4a4ac0dee04\n",
      "tests4py :: INFO     :: Copying required files from /tmp/tmp_cookiecutter\n",
      "tests4py :: INFO     :: Create info file\n",
      "tests4py :: INFO     :: Copying resources for cookiecutter_4\n",
      "tests4py :: INFO     :: Checking whether Tests4Py project\n",
      "tests4py :: INFO     :: Loading projects\n",
      "tests4py :: INFO     :: Checking for platform linux\n",
      "tests4py :: INFO     :: Check for activated python version\n",
      "tests4py :: INFO     :: Using pyenv python 3.6.15\n",
      "tests4py :: INFO     :: Creating virtual env\n",
      "tests4py :: INFO     :: Activating virtual env\n",
      "tests4py :: INFO     :: Installing utilities\n",
      "tests4py :: INFO     :: Installing requirements\n",
      "tests4py :: INFO     :: Checking and installing test requirements\n",
      "tests4py :: INFO     :: Run setup\n",
      "tests4py :: INFO     :: Set compiled flag\n"
     ]
    }
   ],
   "source": [
    "repos: List[BenchmarkRepository] = [\n",
    "    PysnooperBenchmarkRepository(),\n",
    "    CookieCutterBenchmarkRepository(),\n",
    "    CalculatorBenchmarkRepository(),\n",
    "    MiddleBenchmarkRepository(),\n",
    "    ExpressionBenchmarkRepository(),\n",
    "    MarkupBenchmarkRepository(),\n",
    "]\n",
    "\n",
    "subjects: List[BenchmarkProgram] = []\n",
    "for repo in repos:\n",
    "    for prog in repo.build():\n",
    "        subjects.append(prog)"
   ]
  },
  {
   "cell_type": "markdown",
   "metadata": {},
   "source": [
    "Verify, that all programs are built:"
   ]
  },
  {
   "cell_type": "code",
   "execution_count": 19,
   "metadata": {},
   "outputs": [
    {
     "data": {
      "text/plain": [
       "[Tests4PyBenchmarkProgram(pysnooper_2), Tests4PyBenchmarkProgram(pysnooper_3)]"
      ]
     },
     "execution_count": 19,
     "metadata": {},
     "output_type": "execute_result"
    }
   ],
   "source": [
    "subjects[:2]"
   ]
  },
  {
   "cell_type": "markdown",
   "metadata": {
    "ExecuteTime": {
     "start_time": "2024-07-10T15:51:04.365407729Z"
    }
   },
   "source": [
    "## Running the Benchmark"
   ]
  },
  {
   "cell_type": "markdown",
   "metadata": {},
   "source": [
    "We define a helper function `run_benchmark` which run the program once using the given selection strategy for the given amout of iterations. It returns the amount of exception triggering inputs found for each iteration in a numpy array. To prevent potential errors from stopping our (time consuming) benchmark, we catch any exceptions and simply return an array full of -1's to flag the failed run while other runs can keep running. "
   ]
  },
  {
   "cell_type": "code",
   "execution_count": 8,
   "metadata": {},
   "outputs": [],
   "source": [
    "import numpy as np\n",
    "from evogfuzz.evogfuzz_class import Strategy\n",
    "def run_benchmark(strategy:Strategy, program, iterations=100):\n",
    "    try:\n",
    "        epp = EvoGFuzz(\n",
    "            grammar=program.get_grammar(),\n",
    "            oracle=program.get_oracle(),\n",
    "            inputs=program.get_passing_inputs(),\n",
    "            iterations=iterations,\n",
    "            strategy=strategy\n",
    "            )\n",
    "        found_exception_inputs = epp.fuzz()\n",
    "        test = epp.get_benchmark()\n",
    "        data_run = [data[1] for data in test]\n",
    "    except:\n",
    "        data_run = np.full(iterations, -1)\n",
    "        print(f\"Error: {strategy} in {program}\")\n",
    "    return data_run"
   ]
  },
  {
   "cell_type": "markdown",
   "metadata": {},
   "source": [
    "We make use of multiprocessing to accelerate our benchmarking proccess. We decided to use `ProcessPool` from `pathos` because if allows us to pass the test programs as a parameter. The optimal amout of nodes will depend on the hardware used. We found 50 nodes to perform well on the `gruenau3` server we used.\n",
    "All selection strategies are tested for the given amount of runs and iterations using the given test program. Once finished, the results are saved as a .csv file."
   ]
  },
  {
   "cell_type": "code",
   "execution_count": 10,
   "metadata": {},
   "outputs": [],
   "source": [
    "from pathos.pools import _ProcessPool as Pool\n",
    "import logging\n",
    "import sys\n",
    "logging.disable(sys.maxsize)\n",
    "from evogfuzz.evogfuzz_class import Strategy\n",
    "import pandas as pd\n",
    "\n",
    "def benchmark_program(subject, runs:int, iterations:int):\n",
    "    strategies = [Strategy.RANK, Strategy.TOURNAMENT, Strategy.ROULETTE, Strategy.STOCHASTIC_UNIVERSAL_SAMPLING, Strategy.TRUNCATION]\n",
    "    p = Pool(50)\n",
    "    tournament = []\n",
    "    roulette = []\n",
    "    sus = []\n",
    "    rank = []\n",
    "    trunc = []\n",
    "    for _ in range(runs):\n",
    "        tournament.append(p.apply_async(run_benchmark, (Strategy.TOURNAMENT, subject, iterations)))\n",
    "        roulette.append(p.apply_async(run_benchmark, (Strategy.ROULETTE, subject, iterations)))\n",
    "        sus.append(p.apply_async(run_benchmark, (Strategy.STOCHASTIC_UNIVERSAL_SAMPLING, subject, iterations)))\n",
    "        rank.append(p.apply_async(run_benchmark, (Strategy.RANK, subject, iterations)))\n",
    "        trunc.append(p.apply_async(run_benchmark, (Strategy.TRUNCATION, subject, iterations)))\n",
    "    p.close()\n",
    "    p.join()\n",
    "    tournament_res = []\n",
    "    roulette_res = []\n",
    "    sus_res = []\n",
    "    rank_res = []\n",
    "    trunc_res = []\n",
    "    for a in tournament:\n",
    "        tournament_res.append(a.get())\n",
    "    for a in roulette:\n",
    "        roulette_res.append(a.get())\n",
    "    for a in sus:\n",
    "        sus_res.append(a.get())\n",
    "    for a in rank:\n",
    "        rank_res.append(a.get())\n",
    "    for a in trunc:\n",
    "        trunc_res.append(a.get())\n",
    "    filename = f\"passing_inputs_{subject}_{Strategy.TOURNAMENT}.csv\"\n",
    "    df = pd.DataFrame(tournament_res)\n",
    "    df.to_csv(filename)\n",
    "    filename = f\"passing_inputs_{subject}_{Strategy.ROULETTE}.csv\"\n",
    "    df = pd.DataFrame(roulette_res)\n",
    "    df.to_csv(filename)\n",
    "    filename = f\"passing_inputs_{subject}_{Strategy.STOCHASTIC_UNIVERSAL_SAMPLING}.csv\"\n",
    "    df = pd.DataFrame(sus_res)\n",
    "    df.to_csv(filename)\n",
    "    filename = f\"passing_inputs_{subject}_{Strategy.RANK}.csv\"\n",
    "    df = pd.DataFrame(rank_res)\n",
    "    df.to_csv(filename)\n",
    "    filename = f\"passing_inputs_{subject}_{Strategy.TRUNCATION}.csv\"\n",
    "    df = pd.DataFrame(trunc_res)\n",
    "    df.to_csv(filename)\n"
   ]
  },
  {
   "cell_type": "markdown",
   "metadata": {},
   "source": [
    "## Evaluation"
   ]
  },
  {
   "cell_type": "markdown",
   "metadata": {},
   "source": [
    "Finally, we can use the data we collected to calculate our performance metrics, test their statistical significance and plot them."
   ]
  },
  {
   "cell_type": "code",
   "execution_count": 20,
   "metadata": {},
   "outputs": [
    {
     "ename": "FileNotFoundError",
     "evalue": "[Errno 2] No such file or directory: './results_passing_inputs/Tests4PyBenchmarkProgram(pysnooper_2)_Tournament.csv'",
     "output_type": "error",
     "traceback": [
      "\u001b[0;31m---------------------------------------------------------------------------\u001b[0m",
      "\u001b[0;31mFileNotFoundError\u001b[0m                         Traceback (most recent call last)",
      "Cell \u001b[0;32mIn[20], line 18\u001b[0m\n\u001b[1;32m     15\u001b[0m file_sus \u001b[38;5;241m=\u001b[39m \u001b[38;5;124mf\u001b[39m\u001b[38;5;124m\"\u001b[39m\u001b[38;5;124m./results_passing_inputs/\u001b[39m\u001b[38;5;132;01m{\u001b[39;00msubj\u001b[38;5;132;01m}\u001b[39;00m\u001b[38;5;124m_\u001b[39m\u001b[38;5;132;01m{\u001b[39;00mStrategy\u001b[38;5;241m.\u001b[39mSTOCHASTIC_UNIVERSAL_SAMPLING\u001b[38;5;132;01m}\u001b[39;00m\u001b[38;5;124m.csv\u001b[39m\u001b[38;5;124m\"\u001b[39m\n\u001b[1;32m     16\u001b[0m file_truncation \u001b[38;5;241m=\u001b[39m \u001b[38;5;124mf\u001b[39m\u001b[38;5;124m\"\u001b[39m\u001b[38;5;124m./results_passing_inputs/\u001b[39m\u001b[38;5;132;01m{\u001b[39;00msubj\u001b[38;5;132;01m}\u001b[39;00m\u001b[38;5;124m_\u001b[39m\u001b[38;5;132;01m{\u001b[39;00mStrategy\u001b[38;5;241m.\u001b[39mTRUNCATION\u001b[38;5;132;01m}\u001b[39;00m\u001b[38;5;124m.csv\u001b[39m\u001b[38;5;124m\"\u001b[39m\n\u001b[0;32m---> 18\u001b[0m df \u001b[38;5;241m=\u001b[39m \u001b[43mpd\u001b[49m\u001b[38;5;241;43m.\u001b[39;49m\u001b[43mread_csv\u001b[49m\u001b[43m(\u001b[49m\u001b[43mfile_tournament\u001b[49m\u001b[43m)\u001b[49m\u001b[38;5;241m.\u001b[39mto_numpy()\n\u001b[1;32m     19\u001b[0m df \u001b[38;5;241m=\u001b[39m np\u001b[38;5;241m.\u001b[39mdelete(df, \u001b[38;5;241m0\u001b[39m, \u001b[38;5;241m1\u001b[39m)\n\u001b[1;32m     20\u001b[0m tournament \u001b[38;5;241m=\u001b[39m df\u001b[38;5;241m.\u001b[39mmean(axis\u001b[38;5;241m=\u001b[39m\u001b[38;5;241m0\u001b[39m)\n",
      "File \u001b[0;32m~/Informatik/SE2/Projekt/evogfuzzplusplus-selection-strategies/.conda/lib/python3.11/site-packages/pandas/io/parsers/readers.py:948\u001b[0m, in \u001b[0;36mread_csv\u001b[0;34m(filepath_or_buffer, sep, delimiter, header, names, index_col, usecols, dtype, engine, converters, true_values, false_values, skipinitialspace, skiprows, skipfooter, nrows, na_values, keep_default_na, na_filter, verbose, skip_blank_lines, parse_dates, infer_datetime_format, keep_date_col, date_parser, date_format, dayfirst, cache_dates, iterator, chunksize, compression, thousands, decimal, lineterminator, quotechar, quoting, doublequote, escapechar, comment, encoding, encoding_errors, dialect, on_bad_lines, delim_whitespace, low_memory, memory_map, float_precision, storage_options, dtype_backend)\u001b[0m\n\u001b[1;32m    935\u001b[0m kwds_defaults \u001b[38;5;241m=\u001b[39m _refine_defaults_read(\n\u001b[1;32m    936\u001b[0m     dialect,\n\u001b[1;32m    937\u001b[0m     delimiter,\n\u001b[0;32m   (...)\u001b[0m\n\u001b[1;32m    944\u001b[0m     dtype_backend\u001b[38;5;241m=\u001b[39mdtype_backend,\n\u001b[1;32m    945\u001b[0m )\n\u001b[1;32m    946\u001b[0m kwds\u001b[38;5;241m.\u001b[39mupdate(kwds_defaults)\n\u001b[0;32m--> 948\u001b[0m \u001b[38;5;28;01mreturn\u001b[39;00m \u001b[43m_read\u001b[49m\u001b[43m(\u001b[49m\u001b[43mfilepath_or_buffer\u001b[49m\u001b[43m,\u001b[49m\u001b[43m \u001b[49m\u001b[43mkwds\u001b[49m\u001b[43m)\u001b[49m\n",
      "File \u001b[0;32m~/Informatik/SE2/Projekt/evogfuzzplusplus-selection-strategies/.conda/lib/python3.11/site-packages/pandas/io/parsers/readers.py:611\u001b[0m, in \u001b[0;36m_read\u001b[0;34m(filepath_or_buffer, kwds)\u001b[0m\n\u001b[1;32m    608\u001b[0m _validate_names(kwds\u001b[38;5;241m.\u001b[39mget(\u001b[38;5;124m\"\u001b[39m\u001b[38;5;124mnames\u001b[39m\u001b[38;5;124m\"\u001b[39m, \u001b[38;5;28;01mNone\u001b[39;00m))\n\u001b[1;32m    610\u001b[0m \u001b[38;5;66;03m# Create the parser.\u001b[39;00m\n\u001b[0;32m--> 611\u001b[0m parser \u001b[38;5;241m=\u001b[39m \u001b[43mTextFileReader\u001b[49m\u001b[43m(\u001b[49m\u001b[43mfilepath_or_buffer\u001b[49m\u001b[43m,\u001b[49m\u001b[43m \u001b[49m\u001b[38;5;241;43m*\u001b[39;49m\u001b[38;5;241;43m*\u001b[39;49m\u001b[43mkwds\u001b[49m\u001b[43m)\u001b[49m\n\u001b[1;32m    613\u001b[0m \u001b[38;5;28;01mif\u001b[39;00m chunksize \u001b[38;5;129;01mor\u001b[39;00m iterator:\n\u001b[1;32m    614\u001b[0m     \u001b[38;5;28;01mreturn\u001b[39;00m parser\n",
      "File \u001b[0;32m~/Informatik/SE2/Projekt/evogfuzzplusplus-selection-strategies/.conda/lib/python3.11/site-packages/pandas/io/parsers/readers.py:1448\u001b[0m, in \u001b[0;36mTextFileReader.__init__\u001b[0;34m(self, f, engine, **kwds)\u001b[0m\n\u001b[1;32m   1445\u001b[0m     \u001b[38;5;28mself\u001b[39m\u001b[38;5;241m.\u001b[39moptions[\u001b[38;5;124m\"\u001b[39m\u001b[38;5;124mhas_index_names\u001b[39m\u001b[38;5;124m\"\u001b[39m] \u001b[38;5;241m=\u001b[39m kwds[\u001b[38;5;124m\"\u001b[39m\u001b[38;5;124mhas_index_names\u001b[39m\u001b[38;5;124m\"\u001b[39m]\n\u001b[1;32m   1447\u001b[0m \u001b[38;5;28mself\u001b[39m\u001b[38;5;241m.\u001b[39mhandles: IOHandles \u001b[38;5;241m|\u001b[39m \u001b[38;5;28;01mNone\u001b[39;00m \u001b[38;5;241m=\u001b[39m \u001b[38;5;28;01mNone\u001b[39;00m\n\u001b[0;32m-> 1448\u001b[0m \u001b[38;5;28mself\u001b[39m\u001b[38;5;241m.\u001b[39m_engine \u001b[38;5;241m=\u001b[39m \u001b[38;5;28;43mself\u001b[39;49m\u001b[38;5;241;43m.\u001b[39;49m\u001b[43m_make_engine\u001b[49m\u001b[43m(\u001b[49m\u001b[43mf\u001b[49m\u001b[43m,\u001b[49m\u001b[43m \u001b[49m\u001b[38;5;28;43mself\u001b[39;49m\u001b[38;5;241;43m.\u001b[39;49m\u001b[43mengine\u001b[49m\u001b[43m)\u001b[49m\n",
      "File \u001b[0;32m~/Informatik/SE2/Projekt/evogfuzzplusplus-selection-strategies/.conda/lib/python3.11/site-packages/pandas/io/parsers/readers.py:1705\u001b[0m, in \u001b[0;36mTextFileReader._make_engine\u001b[0;34m(self, f, engine)\u001b[0m\n\u001b[1;32m   1703\u001b[0m     \u001b[38;5;28;01mif\u001b[39;00m \u001b[38;5;124m\"\u001b[39m\u001b[38;5;124mb\u001b[39m\u001b[38;5;124m\"\u001b[39m \u001b[38;5;129;01mnot\u001b[39;00m \u001b[38;5;129;01min\u001b[39;00m mode:\n\u001b[1;32m   1704\u001b[0m         mode \u001b[38;5;241m+\u001b[39m\u001b[38;5;241m=\u001b[39m \u001b[38;5;124m\"\u001b[39m\u001b[38;5;124mb\u001b[39m\u001b[38;5;124m\"\u001b[39m\n\u001b[0;32m-> 1705\u001b[0m \u001b[38;5;28mself\u001b[39m\u001b[38;5;241m.\u001b[39mhandles \u001b[38;5;241m=\u001b[39m \u001b[43mget_handle\u001b[49m\u001b[43m(\u001b[49m\n\u001b[1;32m   1706\u001b[0m \u001b[43m    \u001b[49m\u001b[43mf\u001b[49m\u001b[43m,\u001b[49m\n\u001b[1;32m   1707\u001b[0m \u001b[43m    \u001b[49m\u001b[43mmode\u001b[49m\u001b[43m,\u001b[49m\n\u001b[1;32m   1708\u001b[0m \u001b[43m    \u001b[49m\u001b[43mencoding\u001b[49m\u001b[38;5;241;43m=\u001b[39;49m\u001b[38;5;28;43mself\u001b[39;49m\u001b[38;5;241;43m.\u001b[39;49m\u001b[43moptions\u001b[49m\u001b[38;5;241;43m.\u001b[39;49m\u001b[43mget\u001b[49m\u001b[43m(\u001b[49m\u001b[38;5;124;43m\"\u001b[39;49m\u001b[38;5;124;43mencoding\u001b[39;49m\u001b[38;5;124;43m\"\u001b[39;49m\u001b[43m,\u001b[49m\u001b[43m \u001b[49m\u001b[38;5;28;43;01mNone\u001b[39;49;00m\u001b[43m)\u001b[49m\u001b[43m,\u001b[49m\n\u001b[1;32m   1709\u001b[0m \u001b[43m    \u001b[49m\u001b[43mcompression\u001b[49m\u001b[38;5;241;43m=\u001b[39;49m\u001b[38;5;28;43mself\u001b[39;49m\u001b[38;5;241;43m.\u001b[39;49m\u001b[43moptions\u001b[49m\u001b[38;5;241;43m.\u001b[39;49m\u001b[43mget\u001b[49m\u001b[43m(\u001b[49m\u001b[38;5;124;43m\"\u001b[39;49m\u001b[38;5;124;43mcompression\u001b[39;49m\u001b[38;5;124;43m\"\u001b[39;49m\u001b[43m,\u001b[49m\u001b[43m \u001b[49m\u001b[38;5;28;43;01mNone\u001b[39;49;00m\u001b[43m)\u001b[49m\u001b[43m,\u001b[49m\n\u001b[1;32m   1710\u001b[0m \u001b[43m    \u001b[49m\u001b[43mmemory_map\u001b[49m\u001b[38;5;241;43m=\u001b[39;49m\u001b[38;5;28;43mself\u001b[39;49m\u001b[38;5;241;43m.\u001b[39;49m\u001b[43moptions\u001b[49m\u001b[38;5;241;43m.\u001b[39;49m\u001b[43mget\u001b[49m\u001b[43m(\u001b[49m\u001b[38;5;124;43m\"\u001b[39;49m\u001b[38;5;124;43mmemory_map\u001b[39;49m\u001b[38;5;124;43m\"\u001b[39;49m\u001b[43m,\u001b[49m\u001b[43m \u001b[49m\u001b[38;5;28;43;01mFalse\u001b[39;49;00m\u001b[43m)\u001b[49m\u001b[43m,\u001b[49m\n\u001b[1;32m   1711\u001b[0m \u001b[43m    \u001b[49m\u001b[43mis_text\u001b[49m\u001b[38;5;241;43m=\u001b[39;49m\u001b[43mis_text\u001b[49m\u001b[43m,\u001b[49m\n\u001b[1;32m   1712\u001b[0m \u001b[43m    \u001b[49m\u001b[43merrors\u001b[49m\u001b[38;5;241;43m=\u001b[39;49m\u001b[38;5;28;43mself\u001b[39;49m\u001b[38;5;241;43m.\u001b[39;49m\u001b[43moptions\u001b[49m\u001b[38;5;241;43m.\u001b[39;49m\u001b[43mget\u001b[49m\u001b[43m(\u001b[49m\u001b[38;5;124;43m\"\u001b[39;49m\u001b[38;5;124;43mencoding_errors\u001b[39;49m\u001b[38;5;124;43m\"\u001b[39;49m\u001b[43m,\u001b[49m\u001b[43m \u001b[49m\u001b[38;5;124;43m\"\u001b[39;49m\u001b[38;5;124;43mstrict\u001b[39;49m\u001b[38;5;124;43m\"\u001b[39;49m\u001b[43m)\u001b[49m\u001b[43m,\u001b[49m\n\u001b[1;32m   1713\u001b[0m \u001b[43m    \u001b[49m\u001b[43mstorage_options\u001b[49m\u001b[38;5;241;43m=\u001b[39;49m\u001b[38;5;28;43mself\u001b[39;49m\u001b[38;5;241;43m.\u001b[39;49m\u001b[43moptions\u001b[49m\u001b[38;5;241;43m.\u001b[39;49m\u001b[43mget\u001b[49m\u001b[43m(\u001b[49m\u001b[38;5;124;43m\"\u001b[39;49m\u001b[38;5;124;43mstorage_options\u001b[39;49m\u001b[38;5;124;43m\"\u001b[39;49m\u001b[43m,\u001b[49m\u001b[43m \u001b[49m\u001b[38;5;28;43;01mNone\u001b[39;49;00m\u001b[43m)\u001b[49m\u001b[43m,\u001b[49m\n\u001b[1;32m   1714\u001b[0m \u001b[43m\u001b[49m\u001b[43m)\u001b[49m\n\u001b[1;32m   1715\u001b[0m \u001b[38;5;28;01massert\u001b[39;00m \u001b[38;5;28mself\u001b[39m\u001b[38;5;241m.\u001b[39mhandles \u001b[38;5;129;01mis\u001b[39;00m \u001b[38;5;129;01mnot\u001b[39;00m \u001b[38;5;28;01mNone\u001b[39;00m\n\u001b[1;32m   1716\u001b[0m f \u001b[38;5;241m=\u001b[39m \u001b[38;5;28mself\u001b[39m\u001b[38;5;241m.\u001b[39mhandles\u001b[38;5;241m.\u001b[39mhandle\n",
      "File \u001b[0;32m~/Informatik/SE2/Projekt/evogfuzzplusplus-selection-strategies/.conda/lib/python3.11/site-packages/pandas/io/common.py:863\u001b[0m, in \u001b[0;36mget_handle\u001b[0;34m(path_or_buf, mode, encoding, compression, memory_map, is_text, errors, storage_options)\u001b[0m\n\u001b[1;32m    858\u001b[0m \u001b[38;5;28;01melif\u001b[39;00m \u001b[38;5;28misinstance\u001b[39m(handle, \u001b[38;5;28mstr\u001b[39m):\n\u001b[1;32m    859\u001b[0m     \u001b[38;5;66;03m# Check whether the filename is to be opened in binary mode.\u001b[39;00m\n\u001b[1;32m    860\u001b[0m     \u001b[38;5;66;03m# Binary mode does not support 'encoding' and 'newline'.\u001b[39;00m\n\u001b[1;32m    861\u001b[0m     \u001b[38;5;28;01mif\u001b[39;00m ioargs\u001b[38;5;241m.\u001b[39mencoding \u001b[38;5;129;01mand\u001b[39;00m \u001b[38;5;124m\"\u001b[39m\u001b[38;5;124mb\u001b[39m\u001b[38;5;124m\"\u001b[39m \u001b[38;5;129;01mnot\u001b[39;00m \u001b[38;5;129;01min\u001b[39;00m ioargs\u001b[38;5;241m.\u001b[39mmode:\n\u001b[1;32m    862\u001b[0m         \u001b[38;5;66;03m# Encoding\u001b[39;00m\n\u001b[0;32m--> 863\u001b[0m         handle \u001b[38;5;241m=\u001b[39m \u001b[38;5;28mopen\u001b[39m(\n\u001b[1;32m    864\u001b[0m             handle,\n\u001b[1;32m    865\u001b[0m             ioargs\u001b[38;5;241m.\u001b[39mmode,\n\u001b[1;32m    866\u001b[0m             encoding\u001b[38;5;241m=\u001b[39mioargs\u001b[38;5;241m.\u001b[39mencoding,\n\u001b[1;32m    867\u001b[0m             errors\u001b[38;5;241m=\u001b[39merrors,\n\u001b[1;32m    868\u001b[0m             newline\u001b[38;5;241m=\u001b[39m\u001b[38;5;124m\"\u001b[39m\u001b[38;5;124m\"\u001b[39m,\n\u001b[1;32m    869\u001b[0m         )\n\u001b[1;32m    870\u001b[0m     \u001b[38;5;28;01melse\u001b[39;00m:\n\u001b[1;32m    871\u001b[0m         \u001b[38;5;66;03m# Binary mode\u001b[39;00m\n\u001b[1;32m    872\u001b[0m         handle \u001b[38;5;241m=\u001b[39m \u001b[38;5;28mopen\u001b[39m(handle, ioargs\u001b[38;5;241m.\u001b[39mmode)\n",
      "\u001b[0;31mFileNotFoundError\u001b[0m: [Errno 2] No such file or directory: './results_passing_inputs/Tests4PyBenchmarkProgram(pysnooper_2)_Tournament.csv'"
     ]
    }
   ],
   "source": [
    "import pandas as pd\n",
    "import numpy as np\n",
    "import matplotlib.pyplot as plt\n",
    "from scipy.stats import mannwhitneyu\n",
    "from numpy import trapz\n",
    "from evogfuzz.evogfuzz_class import Strategy\n",
    "\n",
    "strategies = [Strategy.RANK, Strategy.TOURNAMENT, Strategy.ROULETTE, Strategy.STOCHASTIC_UNIVERSAL_SAMPLING, Strategy.TRUNCATION]\n",
    "for subj in subjects:\n",
    "    runs = 30\n",
    "    # Change filenames for initial/passing inputs\n",
    "    file_tournament = f\"./results_passing_inputs/passing_{subj}_{Strategy.TOURNAMENT}.csv\"\n",
    "    file_rank = f\"./results_passing_inputs/passing_{subj}_{Strategy.RANK}.csv\"\n",
    "    file_roulette = f\"./results_passing_inputs/passing_{subj}_{Strategy.ROULETTE}.csv\"\n",
    "    file_sus = f\"./results_passing_inputs/passing_{subj}_{Strategy.STOCHASTIC_UNIVERSAL_SAMPLING}.csv\"\n",
    "    file_truncation = f\"./results_passing_inputs/passing_{subj}_{Strategy.TRUNCATION}.csv\"\n",
    "    \n",
    "    df = pd.read_csv(file_tournament).to_numpy()\n",
    "    df = np.delete(df, 0, 1)\n",
    "    tournament = df.mean(axis=0)\n",
    "    aoc_tournament = [trapz(y, dx=1) for y in df]\n",
    "    total_tournament = [data[99] for data in df]\n",
    "    tte_tournament = np.zeros(runs)\n",
    "    for i in range(runs):\n",
    "        for j in range(100):\n",
    "            if df[i][j] > 0:\n",
    "                tte_tournament[i] = j + 1\n",
    "                break\n",
    "            tte_tournament[i] = j + 1\n",
    "    df = pd.read_csv(file_rank).to_numpy()\n",
    "    df = np.delete(df, 0, 1)\n",
    "    rank = df.mean(axis=0)\n",
    "    aoc_rank = [trapz(y, dx=1) for y in df]\n",
    "    total_rank = [data[99] for data in df]\n",
    "    tte_rank = np.zeros(runs)\n",
    "    for i in range(runs):\n",
    "        for j in range(100):\n",
    "            if df[i][j] > 0:\n",
    "                tte_rank[i] = j + 1\n",
    "                break\n",
    "            tte_rank[i] = j + 1\n",
    "    df = pd.read_csv(file_roulette).to_numpy()\n",
    "    df = np.delete(df, 0, 1)\n",
    "    roulette = df.mean(axis=0)\n",
    "    aoc_roulette = [trapz(y, dx=1) for y in df]\n",
    "    total_roulette = [data[99] for data in df]\n",
    "    tte_roulette = np.zeros(runs)\n",
    "    for i in range(runs):\n",
    "        for j in range(100):\n",
    "            if df[i][j] > 0:\n",
    "                tte_roulette[i] = j + 1\n",
    "                break\n",
    "            tte_roulette[i] = j + 1\n",
    "    df = pd.read_csv(file_sus).to_numpy()\n",
    "    df = np.delete(df, 0, 1)\n",
    "    sus = df.mean(axis=0)\n",
    "    aoc_sus = [trapz(y, dx=1) for y in df]\n",
    "    total_sus = [data[99] for data in df]\n",
    "    tte_sus = np.zeros(runs)\n",
    "    for i in range(runs):\n",
    "        for j in range(100):\n",
    "            if df[i][j] > 0:\n",
    "                tte_sus[i] = j + 1\n",
    "                break\n",
    "            tte_sus[i] = j + 1\n",
    "    df = pd.read_csv(file_truncation).to_numpy()\n",
    "    df = np.delete(df, 0, 1)\n",
    "    truncation = df.mean(axis=0)\n",
    "    aoc_truncation = [trapz(y, dx=1) for y in df]\n",
    "    total_truncation = [data[99] for data in df]\n",
    "    tte_truncation = np.zeros(runs)\n",
    "    for i in range(runs):\n",
    "        for j in range(100):\n",
    "            if df[i][j] > 0:\n",
    "                tte_truncation[i] = j + 1\n",
    "                break\n",
    "            tte_truncation[i] = j + 1\n",
    "    plt.figure(dpi=1200)\n",
    "    plt.plot(tournament, label=\"Tournament\")\n",
    "    plt.plot(rank, label=\"Rank\")\n",
    "    plt.plot(roulette, label=\"Roulette\")\n",
    "    plt.plot(sus, label=\"Stochastic Universal Sampling\")\n",
    "    plt.plot(truncation, label=\"Truncation\")\n",
    "    \n",
    "    plt.title(subj)\n",
    "    plt.xlabel('Iteration')\n",
    "    plt.ylabel('Found exception inputs')\n",
    "    plt.legend()\n",
    "    plt.ylim(bottom=0)\n",
    "    plt.xlim(left=0)\n",
    "    plt.savefig(f\"./Passing_plots/{subj}.png\", dpi=1200) # Change for initial inputs\n",
    "    plt.show()\n",
    "    \n",
    "    print(\"Area under curve\")\n",
    "    print(\"Tournament: \", np.mean(aoc_tournament))\n",
    "    print(\"Rank : \", np.mean(aoc_rank), mannwhitneyu(aoc_rank, aoc_tournament, alternative=\"greater\").pvalue)\n",
    "    print(\"Roulette: \", np.mean(aoc_roulette), mannwhitneyu(aoc_roulette, aoc_tournament, alternative=\"greater\").pvalue)\n",
    "    print(\"SUS \", np.mean(aoc_sus), mannwhitneyu(aoc_sus, aoc_tournament, alternative=\"greater\").pvalue)\n",
    "    print(\"Truncation: \", np.mean(aoc_truncation), mannwhitneyu(aoc_truncation, aoc_tournament, alternative=\"greater\").pvalue)\n",
    "    \n",
    "    print(\"\\nTTE\")\n",
    "    print(\"Tournament: \", np.mean(tte_tournament))\n",
    "    print(\"Rank : \", np.mean(tte_rank), mannwhitneyu(tte_rank, tte_tournament, alternative=\"less\").pvalue)\n",
    "    print(\"Roulette: \", np.mean(tte_roulette), mannwhitneyu(tte_roulette, tte_tournament, alternative=\"less\").pvalue)\n",
    "    print(\"SUS \", np.mean(tte_sus), mannwhitneyu(tte_sus, tte_tournament, alternative=\"less\").pvalue)\n",
    "    print(\"Truncation: \", np.mean(tte_truncation), mannwhitneyu(tte_truncation, tte_tournament, alternative=\"less\").pvalue)\n",
    "    \n",
    "    print(\"\\nTotal exceptions\")\n",
    "    print(\"Tournament: \", np.mean(total_tournament))\n",
    "    print(\"Rank : \", np.mean(total_rank), mannwhitneyu(total_rank, total_tournament, alternative=\"greater\").pvalue)\n",
    "    print(\"Roulette: \", np.mean(total_roulette), mannwhitneyu(total_roulette, total_tournament, alternative=\"greater\").pvalue)\n",
    "    print(\"SUS \", np.mean(total_sus), mannwhitneyu(total_sus, total_tournament, alternative=\"greater\").pvalue)\n",
    "    print(\"Truncation: \", np.mean(total_truncation), mannwhitneyu(total_truncation, total_tournament, alternative=\"greater\").pvalue)\n",
    "    \n",
    "\n",
    "    \n"
   ]
  }
 ],
 "metadata": {
  "kernelspec": {
   "display_name": "Python 3 (ipykernel)",
   "language": "python",
   "name": "python3"
  },
  "language_info": {
   "codemirror_mode": {
    "name": "ipython",
    "version": 3
   },
   "file_extension": ".py",
   "mimetype": "text/x-python",
   "name": "python",
   "nbconvert_exporter": "python",
   "pygments_lexer": "ipython3",
   "version": "3.11.9"
  }
 },
 "nbformat": 4,
 "nbformat_minor": 4
}
