{
 "cells": [
  {
   "cell_type": "markdown",
   "metadata": {},
   "source": [
    "# EvoGFuzz: An Evolutionary Approach to Grammar-Based Fuzzing\n",
    "\n",
    "**EvoGFuzz** stands for *evolutionary grammar-based fuzzing*. This approach leverages evolutionary optimization techniques to systematically explore the space of a program's potential inputs, with a particular emphasis on identifying inputs that could lead to exceptional behavior. With a user-defined objective, EvoGFuzz can adapt and refine the input generation strategy over time, making it a powerful tool for uncovering software defects and vulnerabilities.\n",
    "\n",
    "Efficient detection of defects and vulnerabilities hinges on the ability to automatically generate program inputs that are both valid and diverse. One common strategy is to use grammars, which provide structured and syntactically correct inputs. This approach leads to the concept of grammar-based fuzzing, where fuzzing strategies are guided by the rules defined within the grammar.\n",
    "\n",
    "A further enhancement to this concept is probabilistic grammar-based fuzzing, where competing grammar rules are associated with probabilities that guide their application. By carefully assigning and optimizing these probabilities, we gain considerable control over the nature of the generated inputs. This enables us to direct the fuzzing process towards specific areas of interest—for example, those functions that are deemed critical, have a higher propensity for failures, or have undergone recent modifications. \n",
    "\n",
    "In essence, EvoGFuzz represents a potent blend of evolutionary optimization and probabilistic grammar-based fuzzing, poised to reveal hidden defects and vulnerabilities in a targeted and efficient manner."
   ]
  },
  {
   "cell_type": "markdown",
   "metadata": {},
   "source": [
    "## Fuzzing a Program"
   ]
  },
  {
   "cell_type": "markdown",
   "metadata": {},
   "source": [
    "Our program under investigation is `The Calculator`. This program acts as a typical calculator, capable of evaluating not just arithmetic expressions but also trigonometric functions, such as sine, cosine, and tangent. Furthermore, it also supports the calculation of the square root of a given number."
   ]
  },
  {
   "cell_type": "code",
   "execution_count": 1,
   "metadata": {},
   "outputs": [],
   "source": [
    "import math\n",
    "\n",
    "def calculator(inp: str) -> float:\n",
    "    \"\"\"\n",
    "        A simple calculator function that can evaluate arithmetic expressions \n",
    "        and perform basic trigonometric functions and square root calculations.\n",
    "    \"\"\"\n",
    "    return eval(\n",
    "        str(inp), {\"sqrt\": math.sqrt, \"sin\": math.sin, \"cos\": math.cos, \"tan\": math.tan}\n",
    "    )"
   ]
  },
  {
   "cell_type": "markdown",
   "metadata": {},
   "source": [
    "**Side Note:** In the `calculator`, we use Python's `eval` function, which takes a string and evaluates it as a Python expression. We provide a dictionary as the second argument to eval, mapping names to corresponding mathematical functions. This enables us to use the function names directly within the input string. "
   ]
  },
  {
   "cell_type": "code",
   "execution_count": 2,
   "metadata": {},
   "outputs": [
    {
     "name": "stdout",
     "output_type": "stream",
     "text": [
      "0.999993677717667\n"
     ]
    }
   ],
   "source": [
    "# Evaluating the cosine of 2π\n",
    "print(calculator('cos(6*3.141)'))"
   ]
  },
  {
   "cell_type": "code",
   "execution_count": 3,
   "metadata": {},
   "outputs": [
    {
     "name": "stdout",
     "output_type": "stream",
     "text": [
      "6.0\n"
     ]
    }
   ],
   "source": [
    "# Calculating the square root of 36\n",
    "print(calculator('sqrt(6*6)'))"
   ]
  },
  {
   "cell_type": "markdown",
   "metadata": {},
   "source": [
    "Each of these calls to the calculator will evaluate the provided string as a mathematical expression, and print the result."
   ]
  },
  {
   "cell_type": "markdown",
   "metadata": {},
   "source": [
    "Now, to find new defects, we need to introduce an oracle that tells us if the error that is triggered is something we expect or a new/unkonwn defect. The `OracleResult` is an enum with two possible values, `NO_BUG` and `BUG`. `NO_BUG` donates a passing test case and `BUG` a failing one."
   ]
  },
  {
   "cell_type": "markdown",
   "metadata": {},
   "source": [
    "We import the `OracleResult` enumerated type from the `evogfuzz` library. This is used in the oracle function to indicate the outcome of executing the 'calculator' function with a given input."
   ]
  },
  {
   "cell_type": "code",
   "execution_count": 4,
   "metadata": {},
   "outputs": [],
   "source": [
    "from debugging_framework.input.oracle import OracleResult"
   ]
  },
  {
   "cell_type": "markdown",
   "metadata": {},
   "source": [
    "This is a function called **oracle**, which acts as an intermediary to handle and classify exceptions produced by the calculator function when given a certain input."
   ]
  },
  {
   "cell_type": "code",
   "execution_count": 5,
   "metadata": {},
   "outputs": [],
   "source": [
    "# Make sure you use the OracleResult from the debugging_framework library\n",
    "from debugging_framework.input.oracle import OracleResult\n",
    "\n",
    "def oracle(inp: str):\n",
    "    \"\"\"\n",
    "    This function serves as an oracle or intermediary that catches and handles exceptions \n",
    "    generated by the 'calculator' function. The oracle function is used in the context of fuzz testing.\n",
    "    It aims to determine whether an input triggers a bug in the 'calculator' function.\n",
    "\n",
    "    Args:\n",
    "        inp (str): The input string to be passed to the 'calculator' function.\n",
    "\n",
    "    Returns:\n",
    "        OracleResult: An enumerated type 'OracleResult' indicating the outcome of the function execution.\n",
    "            - OracleResult.PASSING: Returned if the calculator function executes without any exception or only with CalculatorSyntaxError\n",
    "            - OracleResult.FAILING: Returned if the calculator function raises a ValueError exception, indicating a potential bug.\n",
    "    \"\"\"\n",
    "    try:\n",
    "        calculator(inp)\n",
    "    except ValueError as e:\n",
    "        return OracleResult.FAILING\n",
    "    \n",
    "    return OracleResult.PASSING"
   ]
  },
  {
   "cell_type": "markdown",
   "metadata": {},
   "source": [
    "This **oracle** function is used in the context of fuzzing to determine the impact of various inputs on the program under test (in our case the _calculator_). When the calculator function behaves as expected (i.e., no exceptions occur), the **oracle** function returns `OracleResult.NO_BUG`. However, when the `calculator` function raises an unexpected exception, the **oracle** interprets this as a potential bug in the `calculator` and returns `OracleResult.BUG`."
   ]
  },
  {
   "cell_type": "markdown",
   "metadata": {},
   "source": [
    "We can see this in action by testing a few initial inputs:"
   ]
  },
  {
   "cell_type": "code",
   "execution_count": 6,
   "metadata": {},
   "outputs": [
    {
     "name": "stdout",
     "output_type": "stream",
     "text": [
      "sqrt(1)              PASSING\n",
      "cos(912)             PASSING\n",
      "tan(4)               PASSING\n"
     ]
    }
   ],
   "source": [
    "initial_inputs = ['sqrt(1)', 'cos(912)', 'tan(4)']\n",
    "\n",
    "for inp in initial_inputs:\n",
    "    print(inp.ljust(20), oracle(inp))"
   ]
  },
  {
   "cell_type": "markdown",
   "metadata": {},
   "source": [
    "The following code represents a simple context-free grammar for our calculator function. This grammar encompasses all the potential valid inputs to the calculator, which include mathematical expressions involving square roots, trigonometric functions, and integer and decimal numbers:"
   ]
  },
  {
   "cell_type": "code",
   "execution_count": 7,
   "metadata": {},
   "outputs": [],
   "source": [
    "from debugging_framework.types import Grammar\n",
    "from debugging_framework.fuzzingbook.grammar import is_valid_grammar\n",
    "\n",
    "CALCGRAMMAR: Grammar = {\n",
    "    \"<start>\":\n",
    "        [\"<function>(<term>)\"],\n",
    "\n",
    "    \"<function>\":\n",
    "        [\"sqrt\", \"tan\", \"cos\", \"sin\"],\n",
    "    \n",
    "    \"<term>\": [\"-<value>\", \"<value>\"], \n",
    "    \n",
    "    \"<value>\":\n",
    "        [\"<integer>.<integer>\",\n",
    "         \"<integer>\"],\n",
    "\n",
    "    \"<integer>\":\n",
    "        [\"<digit><integer>\", \"<digit>\"],\n",
    "\n",
    "    \"<digit>\":\n",
    "        [\"1\", \"2\", \"3\", \"4\", \"5\", \"6\", \"7\", \"8\", \"9\"]\n",
    "}\n",
    "    \n",
    "assert is_valid_grammar(CALCGRAMMAR)"
   ]
  },
  {
   "cell_type": "markdown",
   "metadata": {},
   "source": [
    "The defined grammar CALCGRAMMAR provides a structured blueprint for creating various inputs for our fuzz testing. Each rule in this grammar reflects a possible valid input that our calculator function can handle. By fuzzing based on this grammar, we can systematically explore the space of valid inputs to the calculator function."
   ]
  },
  {
   "cell_type": "markdown",
   "metadata": {},
   "source": [
    "### Leveraging EvoGFuzz to Unearth New Defects\n",
    "\n",
    "We apply our `EvoGFuzz` class to carry out fuzz testing using evolutionary grammar-based fuzzing. This is aimed at uncovering potential defects in our 'calculator' function.\n",
    "\n",
    "To initialize our EvoGFuzz instance, we require a grammar (in our case, `CALCGRAMMAR`), an oracle function, an initial set of inputs, a fitness function, and the number of iterations to be performed in the fuzzing process.\n",
    "\n",
    "Upon creating the `EvoGFuzz` instance, we can execute the fuzzing process. The `fuzz()` method runs the fuzzing iterations, evolving the inputs based on our fitness function, and returns a collection of inputs that lead to exceptions in the 'calculator' function."
   ]
  },
  {
   "cell_type": "code",
   "execution_count": 8,
   "metadata": {},
   "outputs": [],
   "source": [
    "from evogfuzz.evogfuzz_class import EvoGFuzz\n",
    "\n",
    "epp = EvoGFuzz(\n",
    "    grammar=CALCGRAMMAR,\n",
    "    oracle=oracle,\n",
    "    inputs=initial_inputs,\n",
    "    iterations=10\n",
    ")"
   ]
  },
  {
   "cell_type": "markdown",
   "metadata": {},
   "source": [
    "Upon creating the `EvoGFuzz` instance, we can execute the fuzzing process. The `.fuzz()` method runs the fuzzing iterations, evolving the inputs based on our fitness function, and returns a collection of inputs that lead to exceptions in the 'calculator' function."
   ]
  },
  {
   "cell_type": "code",
   "execution_count": 9,
   "metadata": {},
   "outputs": [
    {
     "name": "stdout",
     "output_type": "stream",
     "text": [
      "EvoGFuzz found 327 bug-triggering inputs!\n"
     ]
    }
   ],
   "source": [
    "found_exception_inputs = epp.fuzz()\n",
    "print(f\"EvoGFuzz found {len(found_exception_inputs)} bug-triggering inputs!\")"
   ]
  },
  {
   "cell_type": "markdown",
   "metadata": {},
   "source": [
    "Lastly, we can examine the inputs that resulted in exceptions. This output can provide valuable insight into potential weaknesses in the 'calculator' function that need to be addressed."
   ]
  },
  {
   "cell_type": "code",
   "execution_count": 10,
   "metadata": {},
   "outputs": [
    {
     "name": "stdout",
     "output_type": "stream",
     "text": [
      "sqrt(-2134)\n",
      "sqrt(-74.6873385578314)\n",
      "sqrt(-63.5)\n",
      "sqrt(-797.5278)\n",
      "sqrt(-6)\n",
      "sqrt(-7.29)\n",
      "sqrt(-78)\n",
      "sqrt(-1641)\n",
      "sqrt(-933313353.51)\n",
      "sqrt(-386.874767989)\n",
      "sqrt(-442)\n",
      "sqrt(-446)\n",
      "sqrt(-52472)\n",
      "sqrt(-65.63687)\n",
      "sqrt(-366615)\n",
      "sqrt(-723.8)\n",
      "sqrt(-93.3)\n",
      "sqrt(-37)\n",
      "sqrt(-91)\n",
      "sqrt(-1.29842)\n"
     ]
    }
   ],
   "source": [
    "# print only the first 20 bug-triggering inputs\n",
    "for inp in list(found_exception_inputs)[:20]:\n",
    "    print(str(inp))"
   ]
  },
  {
   "cell_type": "markdown",
   "metadata": {},
   "source": [
    "This process illustrates the power of evolutionary grammar-based fuzzing in identifying new defects within our system. By applying evolutionary algorithms to our fuzzing strategy, we can guide the search towards more defect-prone regions of the input space."
   ]
  },
  {
   "cell_type": "markdown",
   "metadata": {},
   "source": [
    "Print number of bug-triggering inputs for each iteration (cumulative):"
   ]
  },
  {
   "cell_type": "code",
   "execution_count": 11,
   "metadata": {},
   "outputs": [
    {
     "name": "stdout",
     "output_type": "stream",
     "text": [
      "[(1, 0), (2, 7), (3, 20), (4, 24), (5, 43), (6, 85), (7, 103), (8, 161), (9, 246), (10, 327)]\n"
     ]
    }
   ],
   "source": [
    "print(epp.get_benchmark())"
   ]
  },
  {
   "cell_type": "markdown",
   "metadata": {},
   "source": [
    "#### Analyzing and Sorting All Generated Inputs by Fitness"
   ]
  },
  {
   "cell_type": "markdown",
   "metadata": {},
   "source": [
    "After the fuzzing process, you may want to examine all the generated inputs. These can be accessed using the `get_all_inputs()` method. Additionally, we can sort these inputs based on their fitness scores to gain insights into which inputs performed best according to our fitness function."
   ]
  },
  {
   "cell_type": "code",
   "execution_count": 12,
   "metadata": {},
   "outputs": [],
   "source": [
    "all_generated_inputs = epp.get_all_inputs()\n",
    "all_generated_inputs_sorted = sorted(all_generated_inputs, key=lambda inp: inp.fitness, reverse=True)"
   ]
  },
  {
   "cell_type": "markdown",
   "metadata": {},
   "source": [
    "Now, let's print out these sorted inputs along with their respective fitness scores. Inputs with higher fitness scores will be displayed first, as these are the ones our evolutionary process deemed more likely to uncover potential defects."
   ]
  },
  {
   "cell_type": "code",
   "execution_count": 13,
   "metadata": {},
   "outputs": [
    {
     "name": "stdout",
     "output_type": "stream",
     "text": [
      "sqrt(-2134)                              fitness: 1\n",
      "sqrt(-74.6873385578314)                  fitness: 1\n",
      "sqrt(-63.5)                              fitness: 1\n",
      "sqrt(-797.5278)                          fitness: 1\n",
      "sqrt(-6)                                 fitness: 1\n",
      "sqrt(-7.29)                              fitness: 1\n",
      "sqrt(-78)                                fitness: 1\n",
      "sqrt(-1641)                              fitness: 1\n",
      "sqrt(-933313353.51)                      fitness: 1\n",
      "sqrt(-386.874767989)                     fitness: 1\n",
      "sqrt(-442)                               fitness: 1\n",
      "sqrt(-446)                               fitness: 1\n",
      "sqrt(-52472)                             fitness: 1\n",
      "sqrt(-65.63687)                          fitness: 1\n",
      "sqrt(-366615)                            fitness: 1\n",
      "sqrt(-723.8)                             fitness: 1\n",
      "sqrt(-93.3)                              fitness: 1\n",
      "sqrt(-37)                                fitness: 1\n",
      "sqrt(-91)                                fitness: 1\n",
      "sqrt(-1.29842)                           fitness: 1\n"
     ]
    }
   ],
   "source": [
    "# investigate only the first 20 bug-triggering inputs\n",
    "for inp in all_generated_inputs_sorted[:20]:\n",
    "    print(f\"{str(inp).ljust(40)} fitness: {inp.fitness}\")"
   ]
  },
  {
   "cell_type": "markdown",
   "metadata": {},
   "source": [
    "This output provides an overview of the evolved inputs and their effectiveness in revealing potential defects, as gauged by our fitness function. It is a valuable resource for understanding the behavior of our program under various inputs and the effectiveness of our evolutionary grammar-based fuzzing approach."
   ]
  },
  {
   "cell_type": "markdown",
   "metadata": {},
   "source": [
    "### Incorporating Custom Fitness Functions\n",
    "\n",
    "The fitness function plays a crucial role in guiding the evolution process of our fuzzing inputs. A well-crafted fitness function can effectively direct the search towards the most promising regions of the input space.\n",
    "\n",
    "To create your own fitness function, define a function that takes an `Input` instance and returns a float value. The return value represents the 'fitness' of the given input, with higher values indicating better fitness. Here is a simple template:\n",
    "\n",
    "```python\n",
    "from evogfuzz.input import Input\n",
    "\n",
    "def fitness_function_XYZ(inp: Input) -> float:\n",
    "    # Implement your fitness function here.\n",
    "    return 0.0\n",
    "```"
   ]
  },
  {
   "cell_type": "markdown",
   "metadata": {},
   "source": [
    "For instance, suppose we're interested in inputs that invoke the cosine function in our calculator. We could define a fitness function `fitness_function_cos` that assigns a high fitness value to inputs containing 'cos'. (**Note that this might not be the best fitness function to find new expcetions.**)"
   ]
  },
  {
   "cell_type": "code",
   "execution_count": 14,
   "metadata": {},
   "outputs": [],
   "source": [
    "from evogfuzz.input import Input\n",
    "\n",
    "def fitness_function_cos(inp: Input) -> float:\n",
    "    if 'cos' in str(inp):\n",
    "        return 1.0\n",
    "    else:\n",
    "        return 0.0"
   ]
  },
  {
   "cell_type": "markdown",
   "metadata": {},
   "source": [
    "Once your fitness function is defined, you can incorporate it into the `EvoGFuzz` instance by passing it as the `fitness_function` argument. "
   ]
  },
  {
   "cell_type": "code",
   "execution_count": 15,
   "metadata": {},
   "outputs": [
    {
     "name": "stdout",
     "output_type": "stream",
     "text": [
      "EvoGFuzz found 427 bug-triggering inputs!\n",
      "sqrt(-2.1521615)\n",
      "sqrt(-229659652.262)\n",
      "sqrt(-3224.2)\n",
      "sqrt(-5575.3)\n",
      "sqrt(-55.5)\n",
      "sqrt(-114.8)\n",
      "sqrt(-6)\n",
      "sqrt(-78)\n",
      "sqrt(-221186273.6)\n",
      "sqrt(-51.4)\n",
      "sqrt(-645)\n",
      "sqrt(-5.24)\n",
      "sqrt(-812.221449)\n",
      "sqrt(-17.1)\n",
      "sqrt(-1189.7119)\n",
      "sqrt(-685556.26)\n",
      "sqrt(-9627216)\n",
      "sqrt(-4.6)\n",
      "sqrt(-7.559)\n",
      "sqrt(-971.9)\n",
      "sqrt(-141271942)\n",
      "sqrt(-69.8)\n",
      "sqrt(-4.951)\n",
      "sqrt(-2.48)\n",
      "sqrt(-6732.5)\n",
      "sqrt(-4144.45)\n",
      "sqrt(-37)\n",
      "sqrt(-6.576)\n",
      "sqrt(-9.8)\n",
      "sqrt(-24.41)\n",
      "sqrt(-3.4)\n",
      "sqrt(-5.1)\n",
      "sqrt(-92.298)\n",
      "sqrt(-9.3)\n",
      "sqrt(-75.5666)\n",
      "sqrt(-67.6)\n",
      "sqrt(-6414971747822227)\n",
      "sqrt(-26)\n",
      "sqrt(-27147622)\n",
      "sqrt(-275.66626)\n",
      "sqrt(-588)\n",
      "sqrt(-52842.8)\n",
      "sqrt(-7.49)\n",
      "sqrt(-3.1)\n",
      "sqrt(-32.249222)\n",
      "sqrt(-54.2827)\n",
      "sqrt(-1244874755)\n",
      "sqrt(-659)\n",
      "sqrt(-7.96442772)\n",
      "sqrt(-2.9)\n",
      "sqrt(-3.2982)\n",
      "sqrt(-563.2)\n",
      "sqrt(-255)\n",
      "sqrt(-63.736)\n",
      "sqrt(-5577.297)\n",
      "sqrt(-8.1)\n",
      "sqrt(-7.52)\n",
      "sqrt(-75.65)\n",
      "sqrt(-8.57828)\n",
      "sqrt(-25218.5159781)\n",
      "sqrt(-7.6)\n",
      "sqrt(-5.13)\n",
      "sqrt(-819)\n",
      "sqrt(-4.8)\n",
      "sqrt(-21444877)\n",
      "sqrt(-6.886917282789)\n",
      "sqrt(-6.4)\n",
      "sqrt(-4.8124)\n",
      "sqrt(-2.1565)\n",
      "sqrt(-7.7744)\n",
      "sqrt(-6.572)\n",
      "sqrt(-6.6255565)\n",
      "sqrt(-6.3)\n",
      "sqrt(-1.29)\n",
      "sqrt(-8.12)\n",
      "sqrt(-7.25825526)\n",
      "sqrt(-253.88)\n",
      "sqrt(-7.59)\n",
      "sqrt(-58828)\n",
      "sqrt(-7656536)\n",
      "sqrt(-666.6615)\n",
      "sqrt(-92.271175)\n",
      "sqrt(-6.7663)\n",
      "sqrt(-6527.7756)\n",
      "sqrt(-1.9)\n",
      "sqrt(-22.878)\n",
      "sqrt(-239371.7996)\n",
      "sqrt(-96484)\n",
      "sqrt(-7.55)\n",
      "sqrt(-58588533.282)\n",
      "sqrt(-2.1)\n",
      "sqrt(-51.9)\n",
      "sqrt(-3.17)\n",
      "sqrt(-56.82)\n",
      "sqrt(-2.844)\n",
      "sqrt(-56.555)\n",
      "sqrt(-52.9219)\n",
      "sqrt(-6.8)\n",
      "sqrt(-5)\n",
      "sqrt(-66661.3)\n",
      "sqrt(-4.4)\n",
      "sqrt(-425)\n",
      "sqrt(-5.2667)\n",
      "sqrt(-776.8467229)\n",
      "sqrt(-327.5)\n",
      "sqrt(-6.1)\n",
      "sqrt(-154722.2)\n",
      "sqrt(-35.2)\n",
      "sqrt(-76)\n",
      "sqrt(-18.47)\n",
      "sqrt(-29591)\n",
      "sqrt(-6.5)\n",
      "sqrt(-1)\n",
      "sqrt(-6.1448271)\n",
      "sqrt(-59.7)\n",
      "sqrt(-636.65)\n",
      "sqrt(-67.48)\n",
      "sqrt(-82.3)\n",
      "sqrt(-2796541)\n",
      "sqrt(-2227112.2255)\n",
      "sqrt(-4.5)\n",
      "sqrt(-3.7)\n",
      "sqrt(-4)\n",
      "sqrt(-1.2)\n",
      "sqrt(-5672)\n",
      "sqrt(-21254.242124)\n",
      "sqrt(-373.561)\n",
      "sqrt(-775)\n",
      "sqrt(-5586838)\n",
      "sqrt(-6.23)\n",
      "sqrt(-1.37)\n",
      "sqrt(-6.356)\n",
      "sqrt(-55.25)\n",
      "sqrt(-17.112)\n",
      "sqrt(-4274)\n",
      "sqrt(-3.715)\n",
      "sqrt(-65.32)\n",
      "sqrt(-924.29225547)\n",
      "sqrt(-22552521)\n",
      "sqrt(-2516969727142271771626)\n",
      "sqrt(-8)\n",
      "sqrt(-35.5)\n",
      "sqrt(-6.76366765)\n",
      "sqrt(-111)\n",
      "sqrt(-6.662)\n",
      "sqrt(-13.25)\n",
      "sqrt(-75.655744)\n",
      "sqrt(-7255)\n",
      "sqrt(-55)\n",
      "sqrt(-5.51)\n",
      "sqrt(-2.28222711)\n",
      "sqrt(-47275249927)\n",
      "sqrt(-33.7)\n",
      "sqrt(-74.3455666)\n",
      "sqrt(-8.5)\n",
      "sqrt(-821.283)\n",
      "sqrt(-775.7)\n",
      "sqrt(-98)\n",
      "sqrt(-8.7)\n",
      "sqrt(-437.5)\n",
      "sqrt(-72.721422)\n",
      "sqrt(-52.81)\n",
      "sqrt(-172826.75)\n",
      "sqrt(-8.33)\n",
      "sqrt(-4992)\n",
      "sqrt(-5.7)\n",
      "sqrt(-952.7328)\n",
      "sqrt(-6.76)\n",
      "sqrt(-53.58)\n",
      "sqrt(-4.2)\n",
      "sqrt(-2.7)\n",
      "sqrt(-8.8)\n",
      "sqrt(-7278.2)\n",
      "sqrt(-778133729.78)\n",
      "sqrt(-8848.222)\n",
      "sqrt(-7655.2)\n",
      "sqrt(-776)\n",
      "sqrt(-449227272777729479176144462.2)\n",
      "sqrt(-45.9)\n",
      "sqrt(-742.6)\n",
      "sqrt(-83.5)\n",
      "sqrt(-3.6635)\n",
      "sqrt(-86)\n",
      "sqrt(-999.2)\n",
      "sqrt(-57772657.6)\n",
      "sqrt(-158)\n",
      "sqrt(-22.48622)\n",
      "sqrt(-4646.97)\n",
      "sqrt(-2.859)\n",
      "sqrt(-7.1)\n",
      "sqrt(-826)\n",
      "sqrt(-9.59251)\n",
      "sqrt(-4.45616)\n",
      "sqrt(-2)\n",
      "sqrt(-56.7)\n",
      "sqrt(-6.12245685475129492)\n",
      "sqrt(-5.29)\n",
      "sqrt(-1.8)\n",
      "sqrt(-565.5)\n",
      "sqrt(-676.7)\n",
      "sqrt(-9972.12)\n",
      "sqrt(-72.3)\n",
      "sqrt(-1.4)\n",
      "sqrt(-55755.1)\n",
      "sqrt(-5152.1)\n",
      "sqrt(-8.343)\n",
      "sqrt(-45388825)\n",
      "sqrt(-3948.6)\n",
      "sqrt(-38.8)\n",
      "sqrt(-9)\n",
      "sqrt(-6.5735)\n",
      "sqrt(-25.65)\n",
      "sqrt(-7727.5991)\n",
      "sqrt(-2745.22)\n",
      "sqrt(-95952.5)\n",
      "sqrt(-4.7576)\n",
      "sqrt(-821157353.9758)\n",
      "sqrt(-949475179.1)\n",
      "sqrt(-692)\n",
      "sqrt(-87.7)\n",
      "sqrt(-325122.6)\n",
      "sqrt(-7197495471592)\n",
      "sqrt(-2258)\n",
      "sqrt(-7.75)\n",
      "sqrt(-558.2)\n",
      "sqrt(-9248127242211279.2147176481)\n",
      "sqrt(-22.6)\n",
      "sqrt(-6.65)\n",
      "sqrt(-799966)\n",
      "sqrt(-38.5)\n",
      "sqrt(-33)\n",
      "sqrt(-975.812272821182)\n",
      "sqrt(-66.68)\n",
      "sqrt(-28)\n",
      "sqrt(-157547)\n",
      "sqrt(-8.6)\n",
      "sqrt(-79.7)\n",
      "sqrt(-283182.25)\n",
      "sqrt(-776.9481)\n",
      "sqrt(-88.5758)\n",
      "sqrt(-55.6)\n",
      "sqrt(-9.91)\n",
      "sqrt(-67.842)\n",
      "sqrt(-978)\n",
      "sqrt(-9797.9)\n",
      "sqrt(-356.69)\n",
      "sqrt(-2.19772)\n",
      "sqrt(-8785)\n",
      "sqrt(-9.5)\n",
      "sqrt(-2.41)\n",
      "sqrt(-1243.9)\n",
      "sqrt(-84.6845)\n",
      "sqrt(-72258828.345522)\n",
      "sqrt(-249.582258)\n",
      "sqrt(-1.7)\n",
      "sqrt(-2.2)\n",
      "sqrt(-276.75)\n",
      "sqrt(-65)\n",
      "sqrt(-5.3)\n",
      "sqrt(-7)\n",
      "sqrt(-977)\n",
      "sqrt(-9.9)\n",
      "sqrt(-79)\n",
      "sqrt(-9.2)\n",
      "sqrt(-17)\n",
      "sqrt(-488.8)\n",
      "sqrt(-6.6264672)\n",
      "sqrt(-2.88382)\n",
      "sqrt(-931.8)\n",
      "sqrt(-97)\n",
      "sqrt(-7.64922)\n",
      "sqrt(-41)\n",
      "sqrt(-6.664)\n",
      "sqrt(-3.6)\n",
      "sqrt(-42.4)\n",
      "sqrt(-85.58)\n",
      "sqrt(-7.27)\n",
      "sqrt(-56)\n",
      "sqrt(-6.8952)\n",
      "sqrt(-2.833232923655)\n",
      "sqrt(-83959616)\n",
      "sqrt(-3.3)\n",
      "sqrt(-59.9)\n",
      "sqrt(-322862.75)\n",
      "sqrt(-768.66181)\n",
      "sqrt(-869227931)\n",
      "sqrt(-482.38)\n",
      "sqrt(-2.5)\n",
      "sqrt(-179)\n",
      "sqrt(-2814)\n",
      "sqrt(-51251.16366)\n",
      "sqrt(-895227.68222)\n",
      "sqrt(-1.6)\n",
      "sqrt(-58)\n",
      "sqrt(-9.917)\n",
      "sqrt(-1.22)\n",
      "sqrt(-195.52)\n",
      "sqrt(-9157)\n",
      "sqrt(-765737675)\n",
      "sqrt(-2.2565)\n",
      "sqrt(-3)\n",
      "sqrt(-22)\n",
      "sqrt(-881)\n",
      "sqrt(-73375.6767)\n",
      "sqrt(-75159.8)\n",
      "sqrt(-67)\n",
      "sqrt(-16)\n",
      "sqrt(-36.95)\n",
      "sqrt(-179.18)\n",
      "sqrt(-66567.5376)\n",
      "sqrt(-7.7)\n",
      "sqrt(-52384.12688282258528)\n",
      "sqrt(-22.92)\n",
      "sqrt(-2.5866)\n",
      "sqrt(-792.8681)\n",
      "sqrt(-88224428.8)\n",
      "sqrt(-8.184)\n",
      "sqrt(-77)\n",
      "sqrt(-73.75666654)\n",
      "sqrt(-824.4)\n",
      "sqrt(-2.6)\n",
      "sqrt(-4.1)\n",
      "sqrt(-18.1)\n",
      "sqrt(-54.82828)\n",
      "sqrt(-5.9)\n",
      "sqrt(-366.5)\n",
      "sqrt(-7527.57)\n",
      "sqrt(-587.851)\n",
      "sqrt(-281.2)\n",
      "sqrt(-24449924494)\n",
      "sqrt(-72.7)\n",
      "sqrt(-4558.694289412)\n",
      "sqrt(-5.16)\n",
      "sqrt(-57)\n",
      "sqrt(-33.8252)\n",
      "sqrt(-69)\n",
      "sqrt(-77364)\n",
      "sqrt(-57766.6)\n",
      "sqrt(-7872)\n",
      "sqrt(-4.3)\n",
      "sqrt(-7692.52245)\n",
      "sqrt(-73666.75)\n",
      "sqrt(-22726)\n",
      "sqrt(-76.6)\n",
      "sqrt(-7.47)\n",
      "sqrt(-2.955)\n",
      "sqrt(-6.52)\n",
      "sqrt(-8.28)\n",
      "sqrt(-143.3)\n",
      "sqrt(-1.3)\n",
      "sqrt(-2.55522)\n",
      "sqrt(-2254.583)\n",
      "sqrt(-776.77)\n",
      "sqrt(-6.656)\n",
      "sqrt(-7997.5)\n",
      "sqrt(-991)\n",
      "sqrt(-5.5)\n",
      "sqrt(-82)\n",
      "sqrt(-276289125)\n",
      "sqrt(-1.1)\n",
      "sqrt(-5895555.959)\n",
      "sqrt(-2.828)\n",
      "sqrt(-133.8)\n",
      "sqrt(-2284.28)\n",
      "sqrt(-156.97897)\n",
      "sqrt(-4.7)\n",
      "sqrt(-9.95)\n",
      "sqrt(-11)\n",
      "sqrt(-88.13)\n",
      "sqrt(-3.5)\n",
      "sqrt(-468)\n",
      "sqrt(-536)\n",
      "sqrt(-1.62)\n",
      "sqrt(-5.782872)\n",
      "sqrt(-2.8)\n",
      "sqrt(-626335.3)\n",
      "sqrt(-9.711)\n",
      "sqrt(-6.6)\n",
      "sqrt(-2814488532888.68529)\n",
      "sqrt(-1816.6)\n",
      "sqrt(-2.9942)\n",
      "sqrt(-77567672675.6535)\n",
      "sqrt(-55.4)\n",
      "sqrt(-774.85)\n",
      "sqrt(-89)\n",
      "sqrt(-4726.252746244)\n",
      "sqrt(-75)\n",
      "sqrt(-9.76)\n",
      "sqrt(-1.5)\n",
      "sqrt(-9.768)\n",
      "sqrt(-299)\n",
      "sqrt(-14)\n",
      "sqrt(-5.2)\n",
      "sqrt(-297749916742.149)\n",
      "sqrt(-172.734)\n",
      "sqrt(-3.637)\n",
      "sqrt(-75769299)\n",
      "sqrt(-792.421262)\n",
      "sqrt(-1911959.91)\n",
      "sqrt(-9726)\n",
      "sqrt(-75729666224.6)\n",
      "sqrt(-749)\n",
      "sqrt(-47757474.22)\n",
      "sqrt(-752577512)\n",
      "sqrt(-81.8)\n",
      "sqrt(-77.9)\n",
      "sqrt(-88282.55327858155)\n",
      "sqrt(-7.856)\n",
      "sqrt(-3.63)\n",
      "sqrt(-11.5126)\n",
      "sqrt(-59)\n",
      "sqrt(-5.15)\n",
      "sqrt(-99449194.9497174)\n",
      "sqrt(-76443677)\n",
      "sqrt(-57.66)\n",
      "sqrt(-12.998727)\n",
      "sqrt(-525652.61)\n",
      "sqrt(-221.1)\n",
      "sqrt(-422)\n",
      "sqrt(-81.12)\n",
      "sqrt(-5.5588823248276)\n",
      "sqrt(-197)\n",
      "sqrt(-71.2)\n",
      "sqrt(-46)\n",
      "sqrt(-2.556)\n",
      "sqrt(-78885628)\n",
      "sqrt(-3.88)\n"
     ]
    }
   ],
   "source": [
    "epp = EvoGFuzz(\n",
    "    grammar=CALCGRAMMAR,\n",
    "    oracle=oracle,\n",
    "    inputs=initial_inputs,\n",
    "    fitness_function=fitness_function_cos,\n",
    "    iterations=100\n",
    ")\n",
    "\n",
    "found_exception_inputs = epp.fuzz()\n",
    "\n",
    "print(f\"EvoGFuzz found {len(found_exception_inputs)} bug-triggering inputs!\")\n",
    "\n",
    "for inp in found_exception_inputs:\n",
    "    print(str(inp))"
   ]
  },
  {
   "cell_type": "markdown",
   "metadata": {},
   "source": [
    "This way, the evolutionary grammar-based fuzzing process is now guided by your custom fitness function, focusing more on the areas you deem critical."
   ]
  },
  {
   "cell_type": "markdown",
   "metadata": {},
   "source": [
    "#### Evaluating Inputs Based on Custom Fitness Function"
   ]
  },
  {
   "cell_type": "markdown",
   "metadata": {},
   "source": [
    "When utilizing a custom fitness function, such as `fitness_function_cos` in our case, we expect inputs containing 'cos' to achieve the highest fitness scores. This is because our fitness function assigns a score of 1.0 to any input that includes 'cos'.\n",
    "\n",
    "To confirm this behavior, we retrieve all inputs generated during the fuzzing process using the `get_all_inputs()` method and sort these inputs based on their fitness scores."
   ]
  },
  {
   "cell_type": "code",
   "execution_count": 16,
   "metadata": {},
   "outputs": [],
   "source": [
    "all_generated_inputs = epp.get_all_inputs()\n",
    "all_generated_inputs_sorted = sorted(all_generated_inputs, key=lambda inp: inp.fitness, reverse=True)"
   ]
  },
  {
   "cell_type": "markdown",
   "metadata": {},
   "source": [
    "Let's display these sorted inputs along with their fitness scores. The inputs that contain 'cos' should appear first, demonstrating their high fitness value."
   ]
  },
  {
   "cell_type": "code",
   "execution_count": 17,
   "metadata": {},
   "outputs": [
    {
     "name": "stdout",
     "output_type": "stream",
     "text": [
      "cos(-8.1168)                             fitness: 1.0\n",
      "cos(-12.9)                               fitness: 1.0\n",
      "cos(762)                                 fitness: 1.0\n",
      "cos(-121565985.98)                       fitness: 1.0\n",
      "cos(4.4)                                 fitness: 1.0\n",
      "cos(-65.2)                               fitness: 1.0\n",
      "cos(97848913.99757)                      fitness: 1.0\n",
      "cos(-8595.151747919)                     fitness: 1.0\n",
      "cos(173.237)                             fitness: 1.0\n",
      "cos(39.15)                               fitness: 1.0\n",
      "cos(-14)                                 fitness: 1.0\n",
      "cos(6.933)                               fitness: 1.0\n",
      "cos(94.24)                               fitness: 1.0\n",
      "cos(-7.121)                              fitness: 1.0\n",
      "cos(-66.3)                               fitness: 1.0\n",
      "cos(-8.87)                               fitness: 1.0\n",
      "cos(-23.2)                               fitness: 1.0\n",
      "cos(-21.23994)                           fitness: 1.0\n",
      "cos(-2.21)                               fitness: 1.0\n",
      "cos(5541649.724422)                      fitness: 1.0\n"
     ]
    }
   ],
   "source": [
    "# investigate only the first 20 bug-triggering inputs\n",
    "for inp in all_generated_inputs_sorted[:20]:\n",
    "    print(f\"{str(inp).ljust(40)} fitness: {inp.fitness}\")"
   ]
  },
  {
   "cell_type": "markdown",
   "metadata": {},
   "source": [
    "The resulting output validates the effectiveness of our custom fitness function. It shows how we can guide the evolutionary grammar-based fuzzing process towards specific regions of the input space, thereby facilitating targeted exploration and bug discovery."
   ]
  },
  {
   "cell_type": "code",
   "execution_count": 18,
   "metadata": {},
   "outputs": [
    {
     "name": "stdout",
     "output_type": "stream",
     "text": [
      "[(1, 0), (2, 0), (3, 0), (4, 0), (5, 0), (6, 0), (7, 0), (8, 0), (9, 0), (10, 0), (11, 0), (12, 0), (13, 0), (14, 0), (15, 1), (16, 1), (17, 18), (18, 37), (19, 54), (20, 62), (21, 62), (22, 62), (23, 72), (24, 72), (25, 72), (26, 72), (27, 89), (28, 98), (29, 100), (30, 107), (31, 110), (32, 115), (33, 118), (34, 118), (35, 118), (36, 118), (37, 118), (38, 118), (39, 118), (40, 118), (41, 118), (42, 118), (43, 118), (44, 118), (45, 118), (46, 118), (47, 118), (48, 130), (49, 135), (50, 135), (51, 135), (52, 135), (53, 135), (54, 139), (55, 151), (56, 173), (57, 173), (58, 173), (59, 230), (60, 288), (61, 298), (62, 298), (63, 298), (64, 298), (65, 298), (66, 305), (67, 312), (68, 319), (69, 319), (70, 319), (71, 319), (72, 346), (73, 360), (74, 360), (75, 360), (76, 360), (77, 360), (78, 360), (79, 360), (80, 360), (81, 360), (82, 360), (83, 372), (84, 381), (85, 388), (86, 399), (87, 410), (88, 417), (89, 418), (90, 418), (91, 418), (92, 418), (93, 423), (94, 423), (95, 423), (96, 423), (97, 423), (98, 427), (99, 427), (100, 427)]\n"
     ]
    }
   ],
   "source": [
    "test = epp.get_benchmark()\n",
    "print(test)"
   ]
  },
  {
   "cell_type": "code",
   "execution_count": 19,
   "metadata": {},
   "outputs": [
    {
     "data": {
      "image/png": "[encoded data removed]",
      "text/plain": [
       "<Figure size 640x480 with 1 Axes>"
      ]
     },
     "metadata": {},
     "output_type": "display_data"
    }
   ],
   "source": [
    "import matplotlib.pyplot as plt\n",
    "\n",
    "x = [a[0] for a in test]\n",
    "y = [a[1] for a in test]\n",
    "plt.plot(x, y)\n",
    "plt.ylabel(\"Calculator\")\n",
    "plt.show()"
   ]
  },
  {
   "cell_type": "code",
   "execution_count": 20,
   "metadata": {},
   "outputs": [],
   "source": [
    "from typing import List\n",
    "\n",
    "from debugging_framework.benchmark.program import BenchmarkProgram\n",
    "\n",
    "from debugging_benchmark.calculator.calculator import CalculatorBenchmarkRepository\n",
    "from debugging_benchmark.middle.middle import MiddleBenchmarkRepository\n",
    "from debugging_benchmark.expression.expression import ExpressionBenchmarkRepository\n",
    "from debugging_benchmark.markup.markup import MarkupBenchmarkRepository\n",
    "\n",
    "repo_subjects: List[BenchmarkProgram] = MiddleBenchmarkRepository().build()\n",
    "subject: BenchmarkProgram = repo_subjects[0]\n",
    "oracle = subject.get_oracle()\n",
    "grammar = subject.get_grammar()\n",
    "\n",
    "from typing import List\n",
    "from debugging_framework.benchmark.repository import BenchmarkRepository\n",
    "\n",
    "repos: List[BenchmarkRepository] = [\n",
    "    CalculatorBenchmarkRepository(),\n",
    "    MiddleBenchmarkRepository(),\n",
    "    ExpressionBenchmarkRepository(),\n",
    "    MarkupBenchmarkRepository(),\n",
    "]\n",
    "\n",
    "from debugging_framework.benchmark.program import BenchmarkProgram\n",
    "\n",
    "subjects: List[BenchmarkProgram] = []\n",
    "for repo in repos:\n",
    "    for prog in repo.build():\n",
    "        subjects.append(prog)\n",
    "\n",
    "subject = subjects[0]\n",
    "\n",
    "epp = EvoGFuzz(\n",
    "    grammar=subject.get_grammar(),\n",
    "    oracle=subject.get_oracle(),\n",
    "    inputs=subject.get_passing_inputs(),\n",
    "    iterations=100\n",
    ")\n",
    "found_exception_inputs = epp.fuzz()\n",
    "test = epp.get_benchmark()"
   ]
  },
  {
   "cell_type": "code",
   "execution_count": 21,
   "metadata": {},
   "outputs": [
    {
     "data": {
      "image/png": "[encoded data removed]",
      "text/plain": [
       "<Figure size 640x480 with 1 Axes>"
      ]
     },
     "metadata": {},
     "output_type": "display_data"
    },
    {
     "name": "stdout",
     "output_type": "stream",
     "text": [
      "213903.0\n"
     ]
    },
    {
     "data": {
      "image/png": "[encoded data removed]",
      "text/plain": [
       "<Figure size 640x480 with 1 Axes>"
      ]
     },
     "metadata": {},
     "output_type": "display_data"
    },
    {
     "name": "stdout",
     "output_type": "stream",
     "text": [
      "63807.5\n"
     ]
    },
    {
     "data": {
      "image/png": "[encoded data removed]",
      "text/plain": [
       "<Figure size 640x480 with 1 Axes>"
      ]
     },
     "metadata": {},
     "output_type": "display_data"
    },
    {
     "name": "stdout",
     "output_type": "stream",
     "text": [
      "119254.0\n"
     ]
    },
    {
     "data": {
      "image/png": "[encoded data removed]",
      "text/plain": [
       "<Figure size 640x480 with 1 Axes>"
      ]
     },
     "metadata": {},
     "output_type": "display_data"
    },
    {
     "name": "stdout",
     "output_type": "stream",
     "text": [
      "50952.0\n"
     ]
    }
   ],
   "source": [
    "from numpy import trapz\n",
    "for s in subjects:\n",
    "    epp = EvoGFuzz(\n",
    "    grammar=s.get_grammar(),\n",
    "    oracle=s.get_oracle(),\n",
    "    inputs=s.get_passing_inputs(),\n",
    "    iterations=100\n",
    "    )\n",
    "    found_exception_inputs = epp.fuzz()\n",
    "    test = epp.get_benchmark()\n",
    "\n",
    "    x = [a[0] for a in test]\n",
    "    y = [a[1] for a in test]\n",
    "    plt.plot(x, y)\n",
    "    plt.ylabel(s)\n",
    "    plt.show()\n",
    "    area = trapz(y, dx=1)\n",
    "    print(area)\n",
    "    \n",
    "    "
   ]
  },
  {
   "cell_type": "code",
   "execution_count": null,
   "metadata": {},
   "outputs": [],
   "source": []
  }
 ],
 "metadata": {
  "kernelspec": {
   "display_name": "Python 3 (ipykernel)",
   "language": "python",
   "name": "python3"
  },
  "language_info": {
   "codemirror_mode": {
    "name": "ipython",
    "version": 3
   },
   "file_extension": ".py",
   "mimetype": "text/x-python",
   "name": "python",
   "nbconvert_exporter": "python",
   "pygments_lexer": "ipython3",
   "version": "3.11.9"
  }
 },
 "nbformat": 4,
 "nbformat_minor": 4
}
