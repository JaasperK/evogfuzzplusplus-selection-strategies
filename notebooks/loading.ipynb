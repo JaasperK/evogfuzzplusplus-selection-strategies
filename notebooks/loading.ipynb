{
 "cells": [
  {
   "cell_type": "code",
   "execution_count": 1,
   "id": "b7cb69c0-a6a5-4f82-9c8b-d5c601e21af9",
   "metadata": {},
   "outputs": [],
   "source": [
    "import importlib.util\n",
    "import sys\n",
    "\n",
    "# Step 1: Convert file path to module name\n",
    "file_path = '/Users/martineberlein/github/EvoGFuzzplusplus/evaluation/resources/mpi/problem_1_GCD/prog_3/buggy.py'\n",
    "module_name = file_path.replace('/', '.').rstrip('.py')"
   ]
  },
  {
   "cell_type": "code",
   "execution_count": 2,
   "id": "5fd68a3f-3738-4360-b83a-e0c0d97cd3c6",
   "metadata": {},
   "outputs": [],
   "source": [
    "# Step 2: Load module dynamically\n",
    "spec = importlib.util.spec_from_file_location(module_name, file_path)\n",
    "module = importlib.util.module_from_spec(spec)\n",
    "sys.modules[module_name] = module\n",
    "spec.loader.exec_module(module)"
   ]
  },
  {
   "cell_type": "code",
   "execution_count": 3,
   "id": "665a4b0b-ef8f-48d2-a490-2788e5748694",
   "metadata": {},
   "outputs": [],
   "source": [
    "# Step 3: Access functions or classes\n",
    "#your_function = getattr(module, 'gcd')\n",
    "your_class = getattr(module, 'Solution')\n",
    "\n",
    "# Usage\n",
    "#your_function()\n",
    "ob = your_class()"
   ]
  },
  {
   "cell_type": "code",
   "execution_count": 4,
   "id": "dbe24849-2d93-4098-b9f7-b26f97464798",
   "metadata": {},
   "outputs": [
    {
     "data": {
      "text/plain": [
       "5"
      ]
     },
     "execution_count": 4,
     "metadata": {},
     "output_type": "execute_result"
    }
   ],
   "source": [
    "ob.gcd(10, 10)"
   ]
  },
  {
   "cell_type": "code",
   "execution_count": 5,
   "id": "8388636a-b031-4947-af93-acc1d9c55ef6",
   "metadata": {},
   "outputs": [
    {
     "data": {
      "text/html": [
       "<style>pre { line-height: 125%; }\n",
       "td.linenos .normal { color: inherit; background-color: transparent; padding-left: 5px; padding-right: 5px; }\n",
       "span.linenos { color: inherit; background-color: transparent; padding-left: 5px; padding-right: 5px; }\n",
       "td.linenos .special { color: #000000; background-color: #ffffc0; padding-left: 5px; padding-right: 5px; }\n",
       "span.linenos.special { color: #000000; background-color: #ffffc0; padding-left: 5px; padding-right: 5px; }\n",
       ".output_html .hll { background-color: #ffffcc }\n",
       ".output_html { background: #f8f8f8; }\n",
       ".output_html .c { color: #3D7B7B; font-style: italic } /* Comment */\n",
       ".output_html .err { border: 1px solid #FF0000 } /* Error */\n",
       ".output_html .k { color: #008000; font-weight: bold } /* Keyword */\n",
       ".output_html .o { color: #666666 } /* Operator */\n",
       ".output_html .ch { color: #3D7B7B; font-style: italic } /* Comment.Hashbang */\n",
       ".output_html .cm { color: #3D7B7B; font-style: italic } /* Comment.Multiline */\n",
       ".output_html .cp { color: #9C6500 } /* Comment.Preproc */\n",
       ".output_html .cpf { color: #3D7B7B; font-style: italic } /* Comment.PreprocFile */\n",
       ".output_html .c1 { color: #3D7B7B; font-style: italic } /* Comment.Single */\n",
       ".output_html .cs { color: #3D7B7B; font-style: italic } /* Comment.Special */\n",
       ".output_html .gd { color: #A00000 } /* Generic.Deleted */\n",
       ".output_html .ge { font-style: italic } /* Generic.Emph */\n",
       ".output_html .gr { color: #E40000 } /* Generic.Error */\n",
       ".output_html .gh { color: #000080; font-weight: bold } /* Generic.Heading */\n",
       ".output_html .gi { color: #008400 } /* Generic.Inserted */\n",
       ".output_html .go { color: #717171 } /* Generic.Output */\n",
       ".output_html .gp { color: #000080; font-weight: bold } /* Generic.Prompt */\n",
       ".output_html .gs { font-weight: bold } /* Generic.Strong */\n",
       ".output_html .gu { color: #800080; font-weight: bold } /* Generic.Subheading */\n",
       ".output_html .gt { color: #0044DD } /* Generic.Traceback */\n",
       ".output_html .kc { color: #008000; font-weight: bold } /* Keyword.Constant */\n",
       ".output_html .kd { color: #008000; font-weight: bold } /* Keyword.Declaration */\n",
       ".output_html .kn { color: #008000; font-weight: bold } /* Keyword.Namespace */\n",
       ".output_html .kp { color: #008000 } /* Keyword.Pseudo */\n",
       ".output_html .kr { color: #008000; font-weight: bold } /* Keyword.Reserved */\n",
       ".output_html .kt { color: #B00040 } /* Keyword.Type */\n",
       ".output_html .m { color: #666666 } /* Literal.Number */\n",
       ".output_html .s { color: #BA2121 } /* Literal.String */\n",
       ".output_html .na { color: #687822 } /* Name.Attribute */\n",
       ".output_html .nb { color: #008000 } /* Name.Builtin */\n",
       ".output_html .nc { color: #0000FF; font-weight: bold } /* Name.Class */\n",
       ".output_html .no { color: #880000 } /* Name.Constant */\n",
       ".output_html .nd { color: #AA22FF } /* Name.Decorator */\n",
       ".output_html .ni { color: #717171; font-weight: bold } /* Name.Entity */\n",
       ".output_html .ne { color: #CB3F38; font-weight: bold } /* Name.Exception */\n",
       ".output_html .nf { color: #0000FF } /* Name.Function */\n",
       ".output_html .nl { color: #767600 } /* Name.Label */\n",
       ".output_html .nn { color: #0000FF; font-weight: bold } /* Name.Namespace */\n",
       ".output_html .nt { color: #008000; font-weight: bold } /* Name.Tag */\n",
       ".output_html .nv { color: #19177C } /* Name.Variable */\n",
       ".output_html .ow { color: #AA22FF; font-weight: bold } /* Operator.Word */\n",
       ".output_html .w { color: #bbbbbb } /* Text.Whitespace */\n",
       ".output_html .mb { color: #666666 } /* Literal.Number.Bin */\n",
       ".output_html .mf { color: #666666 } /* Literal.Number.Float */\n",
       ".output_html .mh { color: #666666 } /* Literal.Number.Hex */\n",
       ".output_html .mi { color: #666666 } /* Literal.Number.Integer */\n",
       ".output_html .mo { color: #666666 } /* Literal.Number.Oct */\n",
       ".output_html .sa { color: #BA2121 } /* Literal.String.Affix */\n",
       ".output_html .sb { color: #BA2121 } /* Literal.String.Backtick */\n",
       ".output_html .sc { color: #BA2121 } /* Literal.String.Char */\n",
       ".output_html .dl { color: #BA2121 } /* Literal.String.Delimiter */\n",
       ".output_html .sd { color: #BA2121; font-style: italic } /* Literal.String.Doc */\n",
       ".output_html .s2 { color: #BA2121 } /* Literal.String.Double */\n",
       ".output_html .se { color: #AA5D1F; font-weight: bold } /* Literal.String.Escape */\n",
       ".output_html .sh { color: #BA2121 } /* Literal.String.Heredoc */\n",
       ".output_html .si { color: #A45A77; font-weight: bold } /* Literal.String.Interpol */\n",
       ".output_html .sx { color: #008000 } /* Literal.String.Other */\n",
       ".output_html .sr { color: #A45A77 } /* Literal.String.Regex */\n",
       ".output_html .s1 { color: #BA2121 } /* Literal.String.Single */\n",
       ".output_html .ss { color: #19177C } /* Literal.String.Symbol */\n",
       ".output_html .bp { color: #008000 } /* Name.Builtin.Pseudo */\n",
       ".output_html .fm { color: #0000FF } /* Name.Function.Magic */\n",
       ".output_html .vc { color: #19177C } /* Name.Variable.Class */\n",
       ".output_html .vg { color: #19177C } /* Name.Variable.Global */\n",
       ".output_html .vi { color: #19177C } /* Name.Variable.Instance */\n",
       ".output_html .vm { color: #19177C } /* Name.Variable.Magic */\n",
       ".output_html .il { color: #666666 } /* Literal.Number.Integer.Long */</style><div class=\"highlight\"><pre><span></span><span class=\"k\">class</span> <span class=\"nc\">Solution</span><span class=\"p\">:</span>\n",
       "    <span class=\"k\">def</span> <span class=\"nf\">gcd</span><span class=\"p\">(</span><span class=\"bp\">self</span><span class=\"p\">,</span> <span class=\"n\">A</span><span class=\"p\">,</span> <span class=\"n\">B</span><span class=\"p\">):</span>\n",
       "        <span class=\"n\">l</span><span class=\"o\">=</span><span class=\"p\">[]</span>\n",
       "        <span class=\"k\">if</span> <span class=\"n\">A</span><span class=\"o\">&gt;=</span><span class=\"n\">B</span><span class=\"p\">:</span>\n",
       "            <span class=\"k\">for</span> <span class=\"n\">i</span> <span class=\"ow\">in</span> <span class=\"nb\">range</span><span class=\"p\">(</span><span class=\"mi\">1</span><span class=\"p\">,</span><span class=\"n\">A</span><span class=\"p\">):</span>\n",
       "                <span class=\"k\">if</span> <span class=\"n\">A</span><span class=\"o\">%</span><span class=\"n\">i</span><span class=\"o\">==</span><span class=\"mi\">0</span> <span class=\"ow\">and</span> <span class=\"n\">B</span><span class=\"o\">%</span><span class=\"n\">i</span><span class=\"o\">==</span><span class=\"mi\">0</span><span class=\"p\">:</span>\n",
       "                    <span class=\"n\">l</span><span class=\"o\">.</span><span class=\"n\">append</span><span class=\"p\">(</span><span class=\"n\">i</span><span class=\"p\">)</span>\n",
       "            <span class=\"k\">if</span> <span class=\"nb\">len</span><span class=\"p\">(</span><span class=\"n\">l</span><span class=\"p\">)</span> <span class=\"o\">&lt;=</span> <span class=\"mi\">1</span><span class=\"p\">:</span>\n",
       "                <span class=\"k\">return</span> <span class=\"n\">l</span><span class=\"p\">[</span><span class=\"mi\">0</span><span class=\"p\">]</span>\n",
       "            <span class=\"k\">else</span><span class=\"p\">:</span>\n",
       "                <span class=\"k\">return</span> <span class=\"n\">l</span><span class=\"p\">[</span><span class=\"o\">-</span><span class=\"mi\">1</span><span class=\"p\">]</span>\n",
       "        <span class=\"k\">else</span><span class=\"p\">:</span>\n",
       "            <span class=\"k\">for</span> <span class=\"n\">i</span>  <span class=\"ow\">in</span> <span class=\"nb\">range</span><span class=\"p\">(</span><span class=\"mi\">1</span><span class=\"p\">,</span><span class=\"n\">B</span><span class=\"p\">):</span>\n",
       "                 <span class=\"k\">if</span> <span class=\"n\">A</span><span class=\"o\">%</span><span class=\"n\">i</span><span class=\"o\">==</span><span class=\"mi\">0</span> <span class=\"ow\">and</span> <span class=\"n\">B</span><span class=\"o\">%</span><span class=\"n\">i</span><span class=\"o\">==</span><span class=\"mi\">0</span><span class=\"p\">:</span>\n",
       "                    <span class=\"n\">l</span><span class=\"o\">.</span><span class=\"n\">append</span><span class=\"p\">(</span><span class=\"n\">i</span><span class=\"p\">)</span>\n",
       "            <span class=\"k\">if</span> <span class=\"nb\">len</span><span class=\"p\">(</span><span class=\"n\">l</span><span class=\"p\">)</span> <span class=\"o\">&lt;=</span> <span class=\"mi\">1</span><span class=\"p\">:</span>\n",
       "                <span class=\"k\">return</span> <span class=\"n\">l</span><span class=\"p\">[</span><span class=\"mi\">0</span><span class=\"p\">]</span>\n",
       "            <span class=\"k\">else</span><span class=\"p\">:</span>\n",
       "                <span class=\"k\">return</span> <span class=\"n\">l</span><span class=\"p\">[</span><span class=\"o\">-</span><span class=\"mi\">1</span><span class=\"p\">]</span>\n",
       "</pre></div>\n"
      ],
      "text/latex": [
       "\\begin{Verbatim}[commandchars=\\\\\\{\\}]\n",
       "\\PY{k}{class} \\PY{n+nc}{Solution}\\PY{p}{:}\n",
       "    \\PY{k}{def} \\PY{n+nf}{gcd}\\PY{p}{(}\\PY{n+nb+bp}{self}\\PY{p}{,} \\PY{n}{A}\\PY{p}{,} \\PY{n}{B}\\PY{p}{)}\\PY{p}{:}\n",
       "        \\PY{n}{l}\\PY{o}{=}\\PY{p}{[}\\PY{p}{]}\n",
       "        \\PY{k}{if} \\PY{n}{A}\\PY{o}{\\PYZgt{}}\\PY{o}{=}\\PY{n}{B}\\PY{p}{:}\n",
       "            \\PY{k}{for} \\PY{n}{i} \\PY{o+ow}{in} \\PY{n+nb}{range}\\PY{p}{(}\\PY{l+m+mi}{1}\\PY{p}{,}\\PY{n}{A}\\PY{p}{)}\\PY{p}{:}\n",
       "                \\PY{k}{if} \\PY{n}{A}\\PY{o}{\\PYZpc{}}\\PY{n}{i}\\PY{o}{==}\\PY{l+m+mi}{0} \\PY{o+ow}{and} \\PY{n}{B}\\PY{o}{\\PYZpc{}}\\PY{n}{i}\\PY{o}{==}\\PY{l+m+mi}{0}\\PY{p}{:}\n",
       "                    \\PY{n}{l}\\PY{o}{.}\\PY{n}{append}\\PY{p}{(}\\PY{n}{i}\\PY{p}{)}\n",
       "            \\PY{k}{if} \\PY{n+nb}{len}\\PY{p}{(}\\PY{n}{l}\\PY{p}{)} \\PY{o}{\\PYZlt{}}\\PY{o}{=} \\PY{l+m+mi}{1}\\PY{p}{:}\n",
       "                \\PY{k}{return} \\PY{n}{l}\\PY{p}{[}\\PY{l+m+mi}{0}\\PY{p}{]}\n",
       "            \\PY{k}{else}\\PY{p}{:}\n",
       "                \\PY{k}{return} \\PY{n}{l}\\PY{p}{[}\\PY{o}{\\PYZhy{}}\\PY{l+m+mi}{1}\\PY{p}{]}\n",
       "        \\PY{k}{else}\\PY{p}{:}\n",
       "            \\PY{k}{for} \\PY{n}{i}  \\PY{o+ow}{in} \\PY{n+nb}{range}\\PY{p}{(}\\PY{l+m+mi}{1}\\PY{p}{,}\\PY{n}{B}\\PY{p}{)}\\PY{p}{:}\n",
       "                 \\PY{k}{if} \\PY{n}{A}\\PY{o}{\\PYZpc{}}\\PY{n}{i}\\PY{o}{==}\\PY{l+m+mi}{0} \\PY{o+ow}{and} \\PY{n}{B}\\PY{o}{\\PYZpc{}}\\PY{n}{i}\\PY{o}{==}\\PY{l+m+mi}{0}\\PY{p}{:}\n",
       "                    \\PY{n}{l}\\PY{o}{.}\\PY{n}{append}\\PY{p}{(}\\PY{n}{i}\\PY{p}{)}\n",
       "            \\PY{k}{if} \\PY{n+nb}{len}\\PY{p}{(}\\PY{n}{l}\\PY{p}{)} \\PY{o}{\\PYZlt{}}\\PY{o}{=} \\PY{l+m+mi}{1}\\PY{p}{:}\n",
       "                \\PY{k}{return} \\PY{n}{l}\\PY{p}{[}\\PY{l+m+mi}{0}\\PY{p}{]}\n",
       "            \\PY{k}{else}\\PY{p}{:}\n",
       "                \\PY{k}{return} \\PY{n}{l}\\PY{p}{[}\\PY{o}{\\PYZhy{}}\\PY{l+m+mi}{1}\\PY{p}{]}\n",
       "\\end{Verbatim}\n"
      ],
      "text/plain": [
       "class Solution:\n",
       "    def gcd(self, A, B):\n",
       "        l=[]\n",
       "        if A>=B:\n",
       "            for i in range(1,A):\n",
       "                if A%i==0 and B%i==0:\n",
       "                    l.append(i)\n",
       "            if len(l) <= 1:\n",
       "                return l[0]\n",
       "            else:\n",
       "                return l[-1]\n",
       "        else:\n",
       "            for i  in range(1,B):\n",
       "                 if A%i==0 and B%i==0:\n",
       "                    l.append(i)\n",
       "            if len(l) <= 1:\n",
       "                return l[0]\n",
       "            else:\n",
       "                return l[-1]"
      ]
     },
     "metadata": {},
     "output_type": "display_data"
    }
   ],
   "source": [
    "from IPython.display import display, Code\n",
    "import inspect\n",
    "\n",
    "# Assume 'your_class' is the dynamically loaded class object\n",
    "source_code = inspect.getsource(your_class)\n",
    "\n",
    "# Display with syntax highlighting\n",
    "display(Code(source_code, language='python'))"
   ]
  },
  {
   "cell_type": "code",
   "execution_count": 6,
   "id": "bad94e92-a9e7-4dcd-8d22-89a4d0c5ea33",
   "metadata": {},
   "outputs": [],
   "source": [
    "# Reference implementation using the Euclidean algorithm\n",
    "class Reference():\n",
    "    def gcd(self, A, B):\n",
    "        if A < B:\n",
    "            A, B = B, A\n",
    "        while B:\n",
    "            A, B = B, A % B\n",
    "        return A"
   ]
  },
  {
   "cell_type": "code",
   "execution_count": 7,
   "id": "16450368-485a-4955-98d6-72477f74bd73",
   "metadata": {},
   "outputs": [
    {
     "name": "stdout",
     "output_type": "stream",
     "text": [
      "5\n",
      "10\n"
     ]
    }
   ],
   "source": [
    "# Comparing the two implementations\n",
    "print(ob.gcd(10, 10))  # Output should be 10 for correct implementation\n",
    "\n",
    "ref = Reference()\n",
    "print(ref.gcd(10, 10))  # Output should be 10 as well"
   ]
  },
  {
   "cell_type": "code",
   "execution_count": null,
   "id": "16fc84b8-7377-4965-9967-8de1ea596278",
   "metadata": {},
   "outputs": [],
   "source": []
  },
  {
   "cell_type": "code",
   "execution_count": 8,
   "id": "2f4873f3-91de-49dc-9232-8ce7adbc9db5",
   "metadata": {},
   "outputs": [],
   "source": [
    "# Setting up a grammar for fuzzing\n",
    "from fuzzingbook.Grammars import Grammar\n",
    "import string \n",
    "\n",
    "grammar: Grammar = {\n",
    "    '<start>': [\"<input>\"],\n",
    "    \"<input>\": [\"<first> <second>\"],\n",
    "    \"<first>\": [\"<integer>\"],\n",
    "    \"<second>\": [\"<integer>\"],\n",
    "    \"<integer>\": [\"<onenine><maybe_digits>\"],\n",
    "    \"<onenine>\": [str(num) for num in range(1, 10)],\n",
    "    \"<digit>\": list(string.digits),\n",
    "    \"<maybe_digits>\": [\"\", \"<digits>\"],\n",
    "    \"<digits>\": [\"<digit>\", \"<digit><digits>\"],\n",
    "}"
   ]
  },
  {
   "cell_type": "code",
   "execution_count": 9,
   "id": "5de95e51-7c5f-4183-b3d8-e22692c1d03e",
   "metadata": {},
   "outputs": [],
   "source": [
    "# Constructing an oracle using the reference GCD implementation\n",
    "from evogfuzz.oracle_construction import construct_oracle, UnexpectedResultError, OracleResult\n",
    "\n",
    "#error_def = {UnexpectedResultError: OracleResult.BUG}\n",
    "error_def = {TimeoutError: OracleResult.UNDEF}\n",
    "oracle = construct_oracle(ob.gcd, ref.gcd, error_def, default_oracle_result=OracleResult.BUG, timeout=1)"
   ]
  },
  {
   "cell_type": "code",
   "execution_count": 10,
   "id": "d233d0f4-3310-40a6-ade6-13ee4b444ff8",
   "metadata": {},
   "outputs": [],
   "source": [
    "# Using Avicenna for diagnosis\n",
    "from evogfuzz.evogfuzz_class import EvoGGen\n",
    "\n",
    "initial_inputs = [\"10 2\", \"4 4\"]\n",
    "\n",
    "from evogfuzz import EvoGFuzz\n",
    "\n",
    "evogfuzz = EvoGFuzz(\n",
    "    grammar=grammar,\n",
    "    inputs=initial_inputs,\n",
    "    oracle=oracle,\n",
    "    iterations=3,\n",
    ")"
   ]
  },
  {
   "cell_type": "code",
   "execution_count": 11,
   "id": "8dd03c30-781e-45ac-9e2e-52303bbdedbd",
   "metadata": {},
   "outputs": [
    {
     "name": "stdout",
     "output_type": "stream",
     "text": [
      "EvoGFuzz found 15 bug-triggering inputs!\n"
     ]
    }
   ],
   "source": [
    "found_exception_inputs = evogfuzz.fuzz()\n",
    "print(f\"EvoGFuzz found {len(found_exception_inputs)} bug-triggering inputs!\")"
   ]
  },
  {
   "cell_type": "code",
   "execution_count": 12,
   "id": "5b6d2b84-a56c-4516-bfc7-342e9167ff8e",
   "metadata": {},
   "outputs": [
    {
     "name": "stdout",
     "output_type": "stream",
     "text": [
      "3 3                            BUG\n",
      "20 20                          BUG\n",
      "50 50                          BUG\n",
      "60 60                          BUG\n",
      "8 8                            BUG\n",
      "70 70                          BUG\n",
      "7 7                            BUG\n",
      "4 4                            BUG\n",
      "6 6                            BUG\n",
      "10 10                          BUG\n",
      "4 4                            BUG\n",
      "80 80                          BUG\n",
      "2 2                            BUG\n",
      "40 40                          BUG\n",
      "1 1                            BUG\n"
     ]
    }
   ],
   "source": [
    "for inp in list(found_exception_inputs)[:250]:\n",
    "    print(str(inp).ljust(30), inp.oracle)"
   ]
  },
  {
   "cell_type": "code",
   "execution_count": 13,
   "id": "25156d2f-1859-4549-8f39-a78d701588d0",
   "metadata": {},
   "outputs": [
    {
     "data": {
      "text/plain": [
       "Report for EvoGFuzz\n",
       "Found 15 failure-inducing inputs (2 Exceptions):\n",
       "UnexpectedResultError: Results do not match: 14\n",
       "IndexError: list index out of range: 1"
      ]
     },
     "execution_count": 13,
     "metadata": {},
     "output_type": "execute_result"
    }
   ],
   "source": [
    "evogfuzz.report"
   ]
  },
  {
   "cell_type": "code",
   "execution_count": 14,
   "id": "635544c3-e289-4c71-987a-2c858f29c12c",
   "metadata": {},
   "outputs": [],
   "source": [
    "class TestSubject:\n",
    "    def __init__(self, grammar=None, oracle=None, test_inputs=None):\n",
    "        self.grammar = grammar or self.default_grammar()\n",
    "        self.oracle = oracle or self.default_oracle()\n",
    "        self.test_inputs = test_inputs or self.default_test_inputs()\n",
    "        \n",
    "    def default_grammar(self):\n",
    "        return {}\n",
    "    \n",
    "    def default_oracle(self):\n",
    "        return None\n",
    "    \n",
    "    def default_test_inputs(self):\n",
    "        return []\n",
    "    \n",
    "    def to_dict(self):\n",
    "        return {\n",
    "            'grammar': self.grammar,\n",
    "            'oracle': self.oracle,\n",
    "            'inputs': self.test_inputs,\n",
    "        }"
   ]
  },
  {
   "cell_type": "code",
   "execution_count": 15,
   "id": "6c592bc2-3821-4f9c-ad25-b4e0a4f8e507",
   "metadata": {},
   "outputs": [],
   "source": [
    "# Example of subclassing\n",
    "class GCDTestSubject(TestSubject):\n",
    "    def default_grammar(self):\n",
    "        return grammar\n",
    "\n",
    "    def default_oracle(self):\n",
    "        error_def = {TimeoutError: OracleResult.UNDEF}\n",
    "        return construct_oracle(ob.gcd, ref.gcd, error_def, default_oracle_result=OracleResult.BUG)\n",
    "\n",
    "    def default_test_inputs(self):\n",
    "        return [\"10 2\", \"4 4\"]"
   ]
  },
  {
   "cell_type": "code",
   "execution_count": 16,
   "id": "2478a051-e720-4c68-b63c-7c06294179ef",
   "metadata": {},
   "outputs": [],
   "source": [
    "subjects = [\n",
    "    GCDTestSubject\n",
    "]\n",
    "\n",
    "for sub in subjects:\n",
    "    param = sub().to_dict()"
   ]
  },
  {
   "cell_type": "code",
   "execution_count": 17,
   "id": "90f4a172-017e-4f34-9e82-0a8a6f47e437",
   "metadata": {},
   "outputs": [
    {
     "data": {
      "text/plain": [
       "{'grammar': {'<start>': ['<input>'],\n",
       "  '<input>': ['<first> <second>'],\n",
       "  '<first>': ['<integer>'],\n",
       "  '<second>': ['<integer>'],\n",
       "  '<integer>': ['<onenine><maybe_digits>'],\n",
       "  '<onenine>': ['1', '2', '3', '4', '5', '6', '7', '8', '9'],\n",
       "  '<digit>': ['0', '1', '2', '3', '4', '5', '6', '7', '8', '9'],\n",
       "  '<maybe_digits>': ['', '<digits>'],\n",
       "  '<digits>': ['<digit>', '<digit><digits>']},\n",
       " 'oracle': <function evogfuzz.oracle_construction._construct_functional_oracle.<locals>.oracle(inp: evogfuzz.input.Input) -> Tuple[evogfuzz.oracle.OracleResult, Optional[Exception]]>,\n",
       " 'inputs': ['10 2', '4 4']}"
      ]
     },
     "execution_count": 17,
     "metadata": {},
     "output_type": "execute_result"
    }
   ],
   "source": [
    "param"
   ]
  },
  {
   "cell_type": "code",
   "execution_count": 18,
   "id": "28f57e66-d34b-4ffd-8a9d-f7a797fcb7e8",
   "metadata": {},
   "outputs": [
    {
     "name": "stdout",
     "output_type": "stream",
     "text": [
      "EvoGFuzz found 7 bug-triggering inputs!\n"
     ]
    }
   ],
   "source": [
    "evogfuzz = EvoGFuzz(\n",
    "    **param, iterations=3,\n",
    ")\n",
    "found_exception_inputs = evogfuzz.fuzz()\n",
    "print(f\"EvoGFuzz found {len(found_exception_inputs)} bug-triggering inputs!\")"
   ]
  },
  {
   "cell_type": "code",
   "execution_count": 19,
   "id": "2b5548bd-a468-4e6f-8019-dadd4ad739eb",
   "metadata": {},
   "outputs": [
    {
     "name": "stdout",
     "output_type": "stream",
     "text": [
      "20 20                          BUG\n",
      "4 4                            BUG\n",
      "10 10                          BUG\n",
      "4 4                            BUG\n",
      "2 2                            BUG\n",
      "40 40                          BUG\n",
      "1 1                            BUG\n"
     ]
    }
   ],
   "source": [
    "for inp in list(found_exception_inputs)[:250]:\n",
    "    print(str(inp).ljust(30), inp.oracle)"
   ]
  },
  {
   "cell_type": "code",
   "execution_count": 20,
   "id": "3c7a767a-67be-439c-9bd2-54f11bc92da7",
   "metadata": {},
   "outputs": [
    {
     "data": {
      "text/plain": [
       "Report for EvoGFuzz\n",
       "Found 7 failure-inducing inputs (2 Exceptions):\n",
       "UnexpectedResultError: Results do not match: 6\n",
       "IndexError: list index out of range: 1"
      ]
     },
     "execution_count": 20,
     "metadata": {},
     "output_type": "execute_result"
    }
   ],
   "source": [
    "evogfuzz.report"
   ]
  },
  {
   "cell_type": "code",
   "execution_count": null,
   "id": "52855cc3-9436-461a-b96e-43479a28b710",
   "metadata": {},
   "outputs": [],
   "source": []
  },
  {
   "cell_type": "code",
   "execution_count": 21,
   "id": "643bc192-cea9-4dbd-801f-72186aeb324e",
   "metadata": {},
   "outputs": [],
   "source": [
    "from typing import Union\n",
    "from pathlib import Path\n",
    "\n",
    "def load_module_dynamically(path: Union[str, Path], class_name: str, function_name: str):\n",
    "    # Step 1: Convert file path to module name\n",
    "    file_path = str(path)\n",
    "    module_name = file_path.replace('/', '.').rstrip('.py')\n",
    "\n",
    "    # Step 2: Load module dynamically\n",
    "    spec = importlib.util.spec_from_file_location(module_name, file_path)\n",
    "    module = importlib.util.module_from_spec(spec)\n",
    "    sys.modules[module_name] = module\n",
    "    spec.loader.exec_module(module)\n",
    "    your_class = getattr(module, class_name)\n",
    "    function = getattr(your_class(), function_name)\n",
    "    return function"
   ]
  },
  {
   "cell_type": "code",
   "execution_count": 22,
   "id": "df0899a8-761f-4342-88d7-6257ae6d3693",
   "metadata": {},
   "outputs": [],
   "source": [
    "result = load_module_dynamically('/Users/martineberlein/github/EvoGFuzzplusplus/evaluation/resources/mpi/problem_1_GCD/prog_10/buggy.py', 'Solution', 'gcd')"
   ]
  },
  {
   "cell_type": "code",
   "execution_count": 23,
   "id": "34cac384-feee-42ed-aded-6b5fb31926e8",
   "metadata": {},
   "outputs": [
    {
     "data": {
      "text/plain": [
       "10"
      ]
     },
     "execution_count": 23,
     "metadata": {},
     "output_type": "execute_result"
    }
   ],
   "source": [
    "result(10,10)"
   ]
  },
  {
   "cell_type": "code",
   "execution_count": 24,
   "id": "fc0a0f87-4492-44b7-ab30-a3ab7db3eced",
   "metadata": {},
   "outputs": [],
   "source": [
    "def get_gcd_subjects(err_def=None, default_oracle=None):\n",
    "    subjects = []\n",
    "    for i in range(1,11):\n",
    "        result = load_module_dynamically(f'/Users/martineberlein/github/EvoGFuzzplusplus/evaluation/resources/mpi/problem_1_GCD/prog_{i}/buggy.py', 'Solution', 'gcd')\n",
    "        error_def = err_def or {TimeoutError: OracleResult.UNDEF}\n",
    "        def_oracle = default_oracle or OracleResult.BUG\n",
    "        oracle = construct_oracle(result, ref.gcd, error_def, default_oracle_result=def_oracle, timeout=0.01)\n",
    "        subjects.append(GCDTestSubject(oracle=oracle))\n",
    "    return subjects"
   ]
  },
  {
   "cell_type": "code",
   "execution_count": 25,
   "id": "7353615a-45e1-42a8-95e2-282ef2507d67",
   "metadata": {},
   "outputs": [
    {
     "data": {
      "text/plain": [
       "[<__main__.GCDTestSubject at 0x107a65d50>,\n",
       " <__main__.GCDTestSubject at 0x1079b3730>,\n",
       " <__main__.GCDTestSubject at 0x1079b3af0>,\n",
       " <__main__.GCDTestSubject at 0x1079b3b50>,\n",
       " <__main__.GCDTestSubject at 0x106243a60>,\n",
       " <__main__.GCDTestSubject at 0x1061d3be0>,\n",
       " <__main__.GCDTestSubject at 0x1061d13c0>,\n",
       " <__main__.GCDTestSubject at 0x1061d0b20>,\n",
       " <__main__.GCDTestSubject at 0x107a7e830>,\n",
       " <__main__.GCDTestSubject at 0x107a7db10>]"
      ]
     },
     "execution_count": 25,
     "metadata": {},
     "output_type": "execute_result"
    }
   ],
   "source": [
    "get_gcd_subjects()"
   ]
  },
  {
   "cell_type": "code",
   "execution_count": 26,
   "id": "797f4097-d936-48fc-a37a-9b42e8bb9250",
   "metadata": {},
   "outputs": [
    {
     "name": "stdout",
     "output_type": "stream",
     "text": [
      "New Subject: \n",
      "\n",
      "\n",
      "EvoGFuzz found 91 bug-triggering inputs!\n",
      "Report for EvoGFuzz\n",
      "Found 91 failure-inducing inputs (1 Exceptions):\n",
      "UnexpectedResultError: Results do not match: 91\n",
      "New Subject: \n",
      "\n",
      "\n",
      "EvoGFuzz found 66 bug-triggering inputs!\n",
      "Report for EvoGFuzz\n",
      "Found 66 failure-inducing inputs (1 Exceptions):\n",
      "UnexpectedResultError: Results do not match: 66\n",
      "New Subject: \n",
      "\n",
      "\n",
      "EvoGFuzz found 5 bug-triggering inputs!\n",
      "Report for EvoGFuzz\n",
      "Found 5 failure-inducing inputs (2 Exceptions):\n",
      "UnexpectedResultError: Results do not match: 4\n",
      "IndexError: list index out of range: 1\n",
      "New Subject: \n",
      "\n",
      "\n",
      "EvoGFuzz found 0 bug-triggering inputs!\n",
      "Report for EvoGFuzz\n",
      "Found 0 failure-inducing inputs (0 Exceptions):\n",
      "\n",
      "New Subject: \n",
      "\n",
      "\n",
      "EvoGFuzz found 2 bug-triggering inputs!\n",
      "Report for EvoGFuzz\n",
      "Found 2 failure-inducing inputs (1 Exceptions):\n",
      "UnexpectedResultError: Results do not match: 2\n",
      "New Subject: \n",
      "\n",
      "\n",
      "EvoGFuzz found 7 bug-triggering inputs!\n",
      "Report for EvoGFuzz\n",
      "Found 7 failure-inducing inputs (2 Exceptions):\n",
      "UnexpectedResultError: Results do not match: 6\n",
      "ValueError: max() arg is an empty sequence: 1\n",
      "New Subject: \n",
      "\n",
      "\n",
      "EvoGFuzz found 85 bug-triggering inputs!\n",
      "Report for EvoGFuzz\n",
      "Found 85 failure-inducing inputs (1 Exceptions):\n",
      "RecursionError: maximum recursion depth exceeded in comparison: 85\n",
      "New Subject: \n",
      "\n",
      "\n",
      "EvoGFuzz found 0 bug-triggering inputs!\n",
      "Report for EvoGFuzz\n",
      "Found 0 failure-inducing inputs (0 Exceptions):\n",
      "\n",
      "New Subject: \n",
      "\n",
      "\n",
      "EvoGFuzz found 88 bug-triggering inputs!\n",
      "Report for EvoGFuzz\n",
      "Found 88 failure-inducing inputs (1 Exceptions):\n",
      "UnexpectedResultError: Results do not match: 88\n",
      "New Subject: \n",
      "\n",
      "\n",
      "EvoGFuzz found 108 bug-triggering inputs!\n",
      "Report for EvoGFuzz\n",
      "Found 108 failure-inducing inputs (1 Exceptions):\n",
      "UnexpectedResultError: Results do not match: 108\n"
     ]
    }
   ],
   "source": [
    "for sub in get_gcd_subjects():\n",
    "    print(\"New Subject: \\n\\n\")\n",
    "    param = sub.to_dict()\n",
    "    evogfuzz = EvoGFuzz(\n",
    "        **param,\n",
    "        iterations=3,\n",
    "    )\n",
    "    found_exception_inputs = evogfuzz.fuzz()\n",
    "    print(f\"EvoGFuzz found {len(found_exception_inputs)} bug-triggering inputs!\")\n",
    "    print(evogfuzz.report)"
   ]
  },
  {
   "cell_type": "code",
   "execution_count": null,
   "id": "fb482a76-ed77-4841-bae6-e6abaa60c4b9",
   "metadata": {},
   "outputs": [],
   "source": []
  },
  {
   "cell_type": "code",
   "execution_count": null,
   "id": "4dc3ea09-00e2-475c-92e1-7717d09231af",
   "metadata": {},
   "outputs": [],
   "source": []
  },
  {
   "cell_type": "code",
   "execution_count": null,
   "id": "cf0030ff-fc85-4b48-8f57-2a24480b1934",
   "metadata": {},
   "outputs": [],
   "source": []
  },
  {
   "cell_type": "code",
   "execution_count": 27,
   "id": "fc7ffda5-b1c8-4145-af6e-3ae6e2344595",
   "metadata": {},
   "outputs": [
    {
     "name": "stdout",
     "output_type": "stream",
     "text": [
      "New Subject: \n",
      "\n",
      "\n",
      "EvoGFuzz found 0 bug-triggering inputs!\n",
      "Report for EvoGFuzz\n",
      "Found 0 failure-inducing inputs (0 Exceptions):\n",
      "\n",
      "New Subject: \n",
      "\n",
      "\n",
      "EvoGFuzz found 236 bug-triggering inputs!\n",
      "Report for EvoGFuzz\n",
      "Found 236 failure-inducing inputs (1 Exceptions):\n",
      "TimeoutError: Function call timed out: 236\n",
      "New Subject: \n",
      "\n",
      "\n",
      "EvoGFuzz found 0 bug-triggering inputs!\n",
      "Report for EvoGFuzz\n",
      "Found 0 failure-inducing inputs (0 Exceptions):\n",
      "\n",
      "New Subject: \n",
      "\n",
      "\n",
      "EvoGFuzz found 0 bug-triggering inputs!\n",
      "Report for EvoGFuzz\n",
      "Found 0 failure-inducing inputs (0 Exceptions):\n",
      "\n",
      "New Subject: \n",
      "\n",
      "\n",
      "EvoGFuzz found 1 bug-triggering inputs!\n",
      "Report for EvoGFuzz\n",
      "Found 1 failure-inducing inputs (1 Exceptions):\n",
      "TimeoutError: Function call timed out: 1\n",
      "New Subject: \n",
      "\n",
      "\n",
      "EvoGFuzz found 366 bug-triggering inputs!\n",
      "Report for EvoGFuzz\n",
      "Found 366 failure-inducing inputs (1 Exceptions):\n",
      "TimeoutError: Function call timed out: 366\n",
      "New Subject: \n",
      "\n",
      "\n",
      "EvoGFuzz found 31 bug-triggering inputs!\n",
      "Report for EvoGFuzz\n",
      "Found 31 failure-inducing inputs (1 Exceptions):\n",
      "TimeoutError: Function call timed out: 31\n",
      "New Subject: \n",
      "\n",
      "\n",
      "EvoGFuzz found 0 bug-triggering inputs!\n",
      "Report for EvoGFuzz\n",
      "Found 0 failure-inducing inputs (0 Exceptions):\n",
      "\n",
      "New Subject: \n",
      "\n",
      "\n",
      "EvoGFuzz found 0 bug-triggering inputs!\n",
      "Report for EvoGFuzz\n",
      "Found 0 failure-inducing inputs (0 Exceptions):\n",
      "\n",
      "New Subject: \n",
      "\n",
      "\n",
      "EvoGFuzz found 148 bug-triggering inputs!\n",
      "Report for EvoGFuzz\n",
      "Found 148 failure-inducing inputs (1 Exceptions):\n",
      "TimeoutError: Function call timed out: 148\n"
     ]
    }
   ],
   "source": [
    "for sub in get_gcd_subjects({TimeoutError: OracleResult.BUG}, OracleResult.UNDEF):\n",
    "    print(\"New Subject: \\n\\n\")\n",
    "    param = sub.to_dict()\n",
    "    evogfuzz = EvoGFuzz(\n",
    "        **param,\n",
    "        iterations=10,\n",
    "    )\n",
    "    found_exception_inputs = evogfuzz.fuzz()\n",
    "    print(f\"EvoGFuzz found {len(found_exception_inputs)} bug-triggering inputs!\")\n",
    "    print(evogfuzz.report)"
   ]
  },
  {
   "cell_type": "code",
   "execution_count": null,
   "id": "ac2eb343-dc9d-430e-9438-6001a0d20255",
   "metadata": {},
   "outputs": [],
   "source": []
  },
  {
   "cell_type": "code",
   "execution_count": null,
   "id": "facaf6e5-40b5-4304-9f4b-2ab3a238f35a",
   "metadata": {},
   "outputs": [],
   "source": []
  }
 ],
 "metadata": {
  "kernelspec": {
   "display_name": "Python 3 (ipykernel)",
   "language": "python",
   "name": "python3"
  },
  "language_info": {
   "codemirror_mode": {
    "name": "ipython",
    "version": 3
   },
   "file_extension": ".py",
   "mimetype": "text/x-python",
   "name": "python",
   "nbconvert_exporter": "python",
   "pygments_lexer": "ipython3",
   "version": "3.10.9"
  }
 },
 "nbformat": 4,
 "nbformat_minor": 5
}
