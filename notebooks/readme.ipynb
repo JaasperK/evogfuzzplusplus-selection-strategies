{
 "cells": [
  {
   "cell_type": "markdown",
   "id": "48adfd7d-8844-4701-a267-262ac1c8d3e0",
   "metadata": {
    "collapsed": true,
    "jupyter": {
     "outputs_hidden": true
    }
   },
   "source": [
    "# README Quickstart"
   ]
  },
  {
   "cell_type": "markdown",
   "id": "7b72eda8-072e-4ba9-97a8-34a32ca2df31",
   "metadata": {},
   "source": [
    "To provide an immediate understanding of EvoGFuzz's capabilities, let's dive into a simple yet illustrative example using a program we've labeled **The Calculator**.\n",
    "The Calculator program is written in Python and is capable of evaluating mathematical expressions, including arithmetic equations and trigonometric functions:"
   ]
  },
  {
   "cell_type": "code",
   "execution_count": 1,
   "id": "7c13e058-22c0-4b78-9f0d-fb69d4ea4399",
   "metadata": {},
   "outputs": [],
   "source": [
    "import math\n",
    "\n",
    "def arith_eval(inp) -> float:\n",
    "    return eval(\n",
    "        str(inp), {\"sqrt\": math.sqrt, \"sin\": math.sin, \"cos\": math.cos, \"tan\": math.tan}\n",
    "    )"
   ]
  },
  {
   "cell_type": "markdown",
   "id": "80cd1017-580f-481d-a4c9-20ed71291196",
   "metadata": {},
   "source": [
    "We use an oracle function to discern between normal and faulty behavior:"
   ]
  },
  {
   "cell_type": "code",
   "execution_count": 2,
   "id": "354fd708-6271-4d19-a7ad-02d1667b334a",
   "metadata": {},
   "outputs": [],
   "source": [
    "from debugging_framework.input.oracle import OracleResult\n",
    "\n",
    "def oracle(inp: str) -> OracleResult:\n",
    "    try:\n",
    "        arith_eval(inp)\n",
    "        return OracleResult.PASSING\n",
    "    except ValueError:\n",
    "        return OracleResult.FAILING\n",
    "    \n",
    "    return OracleResult.PASSING"
   ]
  },
  {
   "cell_type": "markdown",
   "id": "730518d8-7cec-4f03-85b6-84b56024b026",
   "metadata": {},
   "source": [
    "We can see this in action by testing a few initial inputs:"
   ]
  },
  {
   "cell_type": "code",
   "execution_count": 3,
   "id": "7dbeb46c-a35b-48e7-9c65-3eaa3048404e",
   "metadata": {},
   "outputs": [
    {
     "name": "stdout",
     "output_type": "stream",
     "text": [
      "cos(10)              PASSING\n",
      "sqrt(28367)          PASSING\n",
      "tan(-12)             PASSING\n",
      "sqrt(3)              PASSING\n"
     ]
    }
   ],
   "source": [
    "initial_inputs = ['cos(10)', 'sqrt(28367)', 'tan(-12)', 'sqrt(3)']\n",
    "\n",
    "for inp in initial_inputs:\n",
    "    print(inp.ljust(20), oracle(inp))"
   ]
  },
  {
   "cell_type": "markdown",
   "id": "1997f71b-4d02-4a32-992c-970abaffe7cf",
   "metadata": {},
   "source": [
    "We apply our `EvoGFuzz` class to carry out fuzz testing using evolutionary grammar-based fuzzing. This is aimed at uncovering potential defects in our 'calculator' function.\n",
    "\n",
    "First, we must define the input format of the calculator using a grammar:"
   ]
  },
  {
   "cell_type": "code",
   "execution_count": 4,
   "id": "fd573615-0680-4c98-9eda-c27362020d99",
   "metadata": {},
   "outputs": [],
   "source": [
    "import string\n",
    "\n",
    "grammar = {\n",
    "    \"<start>\": [\"<arith_expr>\"],\n",
    "    \"<arith_expr>\": [\"<function>(<number>)\"],\n",
    "    \"<function>\": [\"sqrt\", \"sin\", \"cos\", \"tan\"],\n",
    "    \"<number>\": [\"<maybe_minus><onenine><maybe_digits>\"],\n",
    "    \"<maybe_minus>\": [\"\", \"-\"],\n",
    "    \"<onenine>\": [str(num) for num in range(1, 10)],\n",
    "    \"<digit>\": list(string.digits),\n",
    "    \"<maybe_digits>\": [\"\", \"<digits>\"],\n",
    "    \"<digits>\": [\"<digit>\", \"<digit><digits>\"],\n",
    "}"
   ]
  },
  {
   "cell_type": "markdown",
   "id": "02a7bd89-98e3-4553-8326-f90ab618ddb4",
   "metadata": {},
   "source": [
    "With the grammar in place, we can initialize **EvoGFuzz** with this grammar, the sample inputs, and the oracle function:"
   ]
  },
  {
   "cell_type": "code",
   "execution_count": 5,
   "id": "aa8a8868-714b-4194-bed7-0f1a7c478a5f",
   "metadata": {},
   "outputs": [],
   "source": [
    "from evogfuzz.evogfuzz_class import EvoGFuzz\n",
    "\n",
    "evogfuzz = EvoGFuzz(\n",
    "    grammar=grammar,\n",
    "    oracle=oracle,\n",
    "    inputs=initial_inputs,\n",
    "    iterations=10\n",
    ")"
   ]
  },
  {
   "cell_type": "markdown",
   "id": "1bfec980-500e-45c5-b89c-be44d7187fec",
   "metadata": {},
   "source": [
    "Upon creating the `EvoGFuzz` instance, we can execute the fuzzing process. The `fuzz()` method runs the fuzzing iterations, evolving the inputs based on our fitness function, and returns a collection of inputs that lead to exceptions in the 'calculator' function."
   ]
  },
  {
   "cell_type": "code",
   "execution_count": 6,
   "id": "0e75a39e-a961-4627-b14e-550d57e00d00",
   "metadata": {},
   "outputs": [],
   "source": [
    "found_exception_inputs = evogfuzz.fuzz()"
   ]
  },
  {
   "cell_type": "markdown",
   "id": "1e71e185-cf01-480b-afa6-f828b431b54c",
   "metadata": {},
   "source": [
    "Lastly, we can examine the inputs that resulted in exceptions.\n",
    "This output can provide valuable insight into potential weaknesses in the 'calculator' function that need to be addressed."
   ]
  },
  {
   "cell_type": "code",
   "execution_count": 7,
   "id": "3a089525-806b-4520-82f6-b65685f38a6a",
   "metadata": {},
   "outputs": [
    {
     "name": "stdout",
     "output_type": "stream",
     "text": [
      "sqrt(-739)                     FAILING\n",
      "sqrt(-84358)                   FAILING\n",
      "sqrt(-649)                     FAILING\n",
      "sqrt(-18)                      FAILING\n",
      "sqrt(-23306)                   FAILING\n",
      "sqrt(-388)                     FAILING\n",
      "sqrt(-354)                     FAILING\n",
      "sqrt(-795)                     FAILING\n",
      "sqrt(-2452969)                 FAILING\n",
      "sqrt(-1989994)                 FAILING\n",
      "sqrt(-68)                      FAILING\n",
      "sqrt(-2538)                    FAILING\n",
      "sqrt(-14)                      FAILING\n",
      "sqrt(-134)                     FAILING\n",
      "sqrt(-279)                     FAILING\n",
      "sqrt(-748)                     FAILING\n",
      "sqrt(-6)                       FAILING\n",
      "sqrt(-11)                      FAILING\n",
      "sqrt(-140)                     FAILING\n",
      "sqrt(-32)                      FAILING\n"
     ]
    }
   ],
   "source": [
    "for inp in list(found_exception_inputs)[:20]:\n",
    "    print(str(inp).ljust(30), inp.oracle)"
   ]
  },
  {
   "cell_type": "markdown",
   "id": "c5b3581f-dcae-4288-82b8-96fe69967ea7",
   "metadata": {},
   "source": [
    "This process illustrates the power of evolutionary grammar-based fuzzing in identifying new defects within our system.\n",
    "By applying evolutionary algorithms to our fuzzing strategy, we can guide the search towards more defect-prone regions of the input space."
   ]
  },
  {
   "cell_type": "markdown",
   "id": "4425a9f8-fd50-49a4-ac58-6a70b9ef9a92",
   "metadata": {},
   "source": [
    "### More Examples:\n",
    "\n",
    "If you want to explore more of how EvoGFuzz works, make sure to have a look at the jupyter notebooks in the notebooks folder:\n",
    "\n",
    "- **[evogfuzz_demo.ipynb](./notebooks/evoggen_demo.ipynb):** A quick and more detailed tutorial on how to setup up EvoGFuzz. It also showcases how to change the fitness functions.\n",
    "- **[evoggen_demo.ipynb](./notebooks/evoggen_demo.ipynb):** This notebook demonstrates the capabilities of EvoGGen, a version of EvoGFuzz, that optimizes the probablistic grammar to reproduce individual failures.\n"
   ]
  }
 ],
 "metadata": {
  "kernelspec": {
   "display_name": "Python 3 (ipykernel)",
   "language": "python",
   "name": "python3"
  },
  "language_info": {
   "codemirror_mode": {
    "name": "ipython",
    "version": 3
   },
   "file_extension": ".py",
   "mimetype": "text/x-python",
   "name": "python",
   "nbconvert_exporter": "python",
   "pygments_lexer": "ipython3",
   "version": "3.10.13"
  }
 },
 "nbformat": 4,
 "nbformat_minor": 5
}
