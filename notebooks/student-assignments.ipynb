{
 "cells": [
  {
   "cell_type": "markdown",
   "id": "d19711fc-7f3a-437f-a0bd-e2ca72cb64c6",
   "metadata": {},
   "source": [
    "Diagnosing Student Code with Avicenna\n",
    "===\n",
    "\n",
    "In this Jupyter Notebook, we are exploring an interesting problem in educational technology and computer science education: the automated evaluation and diagnosis of student-submitted code. While automated systems can easily evaluate the correctness of code, diagnosing the _reasons_ behind any incorrect behavior can be a complex task.\n",
    "\n",
    "### The Problem: Greatest Common Divisor (GCD)\n",
    "\n",
    "Students have been assigned the task of writing a Python function to calculate the Greatest Common Divisor (GCD) of two integers. The GCD of two integers is the largest integer that divides both numbers without a remainder.\n",
    "\n",
    "### Avicenna: Our Debugging and Diagnosis Tool\n",
    "\n",
    "To aid us in this endeavor, we will be using Avicenna, an automated debugging tool that uses fuzz testing and symbolic reasoning to identify the conditions under which code behaves incorrectly. Avicenna's goal is to automatically diagnose software faults with high precision and recall, thereby making the debugging process more efficient.\n",
    "\n",
    "With this notebook, we aim to:\n",
    "\n",
    "1. Showcase how Avicenna can be used to diagnose student code.\n",
    "2. Illustrate the capabilities of Avicenna through an example of diagnosing a GCD implementation.\n",
    "3. Demonstrate how the diagnosis output can be used for generating new failure-inducing inputs.\n",
    "\n",
    "By the end of this notebook, you'll have a clearer understanding of how automated diagnosis can aid in educational settings, and how tools like Avicenna contribute to this."
   ]
  },
  {
   "cell_type": "markdown",
   "id": "e2c7db40-0809-4109-b2b1-a94e1bf5ea4d",
   "metadata": {},
   "source": [
    "### Student Implementation\n",
    "\n",
    "Below is the student's GCD implementation in Python."
   ]
  },
  {
   "cell_type": "code",
   "execution_count": 1,
   "id": "a32f3b8d-59a7-4514-9631-cf742881eb68",
   "metadata": {},
   "outputs": [],
   "source": [
    "# Student's implementation for calculating GCD\n",
    "class Solution:\n",
    "    def gcd(self, A, B):\n",
    "        l=[]\n",
    "        if A >= B:\n",
    "            for i in range(1, A):\n",
    "                if A % i == 0 and B % i == 0:\n",
    "                    l.append(i)\n",
    "            return l[-1] if len(l) > 1 else l[0]\n",
    "        else:\n",
    "            for i in range(1, B):\n",
    "                if A % i == 0 and B % i == 0:\n",
    "                    l.append(i)\n",
    "            return l[-1] if len(l) > 1 else l[0]"
   ]
  },
  {
   "cell_type": "markdown",
   "id": "64e90567-e9f4-45c1-8c7a-79039a9c34b9",
   "metadata": {},
   "source": [
    "### Reference Implementation\n",
    "\n",
    "This is a reference implementation for calculating the GCD using the Euclidean algorithm."
   ]
  },
  {
   "cell_type": "code",
   "execution_count": 2,
   "id": "32771b02-8be4-412a-b714-ec046f788ba9",
   "metadata": {},
   "outputs": [],
   "source": [
    "# Reference implementation using the Euclidean algorithm\n",
    "class Reference():\n",
    "    def gcd(self, A, B):\n",
    "        if A < B:\n",
    "            A, B = B, A\n",
    "        while B:\n",
    "            A, B = B, A % B\n",
    "        return A"
   ]
  },
  {
   "cell_type": "markdown",
   "id": "74685da8-f268-4ef1-851d-8f1cca151369",
   "metadata": {},
   "source": [
    "### Testing the Implementations\n",
    "\n",
    "Let's run some initial tests to compare the student and reference implementations."
   ]
  },
  {
   "cell_type": "code",
   "execution_count": 3,
   "id": "aa3930d7-f759-4df0-a35d-a88a4de5aa82",
   "metadata": {},
   "outputs": [
    {
     "name": "stdout",
     "output_type": "stream",
     "text": [
      "5\n",
      "10\n"
     ]
    }
   ],
   "source": [
    "# Comparing the two implementations\n",
    "ob = Solution()\n",
    "print(ob.gcd(10, 10))  # Output should be 10 for correct implementation\n",
    "\n",
    "ref = Reference()\n",
    "print(ref.gcd(10, 10))  # Output should be 10 as well"
   ]
  },
  {
   "cell_type": "markdown",
   "id": "2907adad-0f13-4442-92fc-330b6a231a43",
   "metadata": {},
   "source": [
    "### Fuzzing Setup\n",
    "\n",
    "Here we set up a grammar for fuzz testing using GrammarFuzzer."
   ]
  },
  {
   "cell_type": "code",
   "execution_count": 4,
   "id": "576ef414-fb9d-4859-8152-946366164cad",
   "metadata": {},
   "outputs": [],
   "source": [
    "# Setting up a grammar for fuzzing\n",
    "from fuzzingbook.Grammars import Grammar\n",
    "import string \n",
    "\n",
    "grammar: Grammar = {\n",
    "    '<start>': [\"<input>\"],\n",
    "    \"<input>\": [\"<first> <second>\"],\n",
    "    \"<first>\": [\"<integer>\"],\n",
    "    \"<second>\": [\"<integer>\"],\n",
    "    \"<integer>\": [\"<onenine><maybe_digits>\"],\n",
    "    \"<onenine>\": [str(num) for num in range(1, 10)],\n",
    "    \"<digit>\": list(string.digits),\n",
    "    \"<maybe_digits>\": [\"\", \"<digits>\"],\n",
    "    \"<digits>\": [\"<digit>\", \"<digit><digits>\"],\n",
    "}"
   ]
  },
  {
   "cell_type": "markdown",
   "id": "ec882307-57cc-4dc4-b9d8-8c50187eb350",
   "metadata": {},
   "source": [
    "### Oracle Construction\n",
    "\n",
    "We will now use the reference implementation to construct an oracle for fuzz testing."
   ]
  },
  {
   "cell_type": "code",
   "execution_count": 5,
   "id": "a7b8f449-3922-4af2-8233-4b5626aea137",
   "metadata": {},
   "outputs": [],
   "source": [
    "# Constructing an oracle using the reference GCD implementation\n",
    "from evogfuzz.oracle_construction import construct_oracle, UnexpectedResultError, OracleResult\n",
    "\n",
    "error_def = {UnexpectedResultError: OracleResult.BUG}\n",
    "oracle = construct_oracle(ob.gcd, ref.gcd, error_def)"
   ]
  },
  {
   "cell_type": "markdown",
   "id": "ec9b0dca-d4cf-4ea6-b2a0-e0794b539292",
   "metadata": {},
   "source": [
    "### Running the Fuzzer\n",
    "\n",
    "Let's run the fuzzer and examine the results."
   ]
  },
  {
   "cell_type": "code",
   "execution_count": 6,
   "id": "c8513715-9f03-43ac-ae52-dd3a671d62d3",
   "metadata": {},
   "outputs": [
    {
     "name": "stdout",
     "output_type": "stream",
     "text": [
      "455 873                        NO_BUG\n",
      "7564 69922                     NO_BUG\n",
      "3 56                           NO_BUG\n",
      "5 4                            NO_BUG\n",
      "34 764                         NO_BUG\n",
      "962439 5                       NO_BUG\n",
      "8 7                            NO_BUG\n",
      "7 9                            NO_BUG\n",
      "95 68                          NO_BUG\n",
      "6 71                           NO_BUG\n"
     ]
    }
   ],
   "source": [
    "# Running the fuzzer to test the student's implementation\n",
    "from fuzzingbook.GrammarFuzzer import GrammarFuzzer\n",
    "\n",
    "fuzzer = GrammarFuzzer(grammar)\n",
    "for _ in range(10):\n",
    "    inp = fuzzer.fuzz()\n",
    "    print(inp.ljust(30), oracle(inp))"
   ]
  },
  {
   "cell_type": "markdown",
   "id": "77ccb823-2e12-42f6-a823-424f569a7ce7",
   "metadata": {},
   "source": [
    "### EvoGGen"
   ]
  },
  {
   "cell_type": "code",
   "execution_count": 7,
   "id": "938e4f97-cfb1-4fee-91a7-3b375a446862",
   "metadata": {},
   "outputs": [],
   "source": [
    "# Using Avicenna for diagnosis\n",
    "from evogfuzz.evogfuzz_class import EvoGGen\n",
    "\n",
    "initial_inputs = [\"10 2\", \"4 4\", \"49 6618904968\"]\n",
    "\n",
    "evoggen = EvoGGen(\n",
    "    grammar=grammar,\n",
    "    inputs=initial_inputs,\n",
    "    oracle=oracle\n",
    ")"
   ]
  },
  {
   "cell_type": "code",
   "execution_count": 9,
   "id": "972c83f1-0321-4a8d-8bdf-ea706ebd07b3",
   "metadata": {},
   "outputs": [],
   "source": [
    "grammar, found_exception_inputs = evoggen.optimize()"
   ]
  },
  {
   "cell_type": "code",
   "execution_count": 10,
   "id": "5fb3e1e0-ec59-4260-b5f8-8b18e9faa7d1",
   "metadata": {},
   "outputs": [
    {
     "name": "stdout",
     "output_type": "stream",
     "text": [
      "EvoGFuzz found 11 bug-triggering inputs!\n"
     ]
    }
   ],
   "source": [
    "print(f\"EvoGFuzz found {len(found_exception_inputs)} bug-triggering inputs!\")"
   ]
  },
  {
   "cell_type": "code",
   "execution_count": 11,
   "id": "dee55aae-d4fb-4081-b8ce-5d2b01c9f45e",
   "metadata": {},
   "outputs": [
    {
     "name": "stdout",
     "output_type": "stream",
     "text": [
      "7 7\n",
      "5 5\n",
      "2 2\n",
      "61 61\n",
      "8 8\n",
      "9 9\n",
      "4 4\n",
      "6 6\n",
      "433 433\n",
      "4 4\n",
      "3 3\n"
     ]
    }
   ],
   "source": [
    "# print only the first 20 bug-triggering inputs\n",
    "for inp in list(found_exception_inputs)[:20]:\n",
    "    print(str(inp))"
   ]
  },
  {
   "cell_type": "code",
   "execution_count": 14,
   "id": "e5f4696f-7594-4497-9451-d3d7b6e7c4fd",
   "metadata": {},
   "outputs": [
    {
     "name": "stdout",
     "output_type": "stream",
     "text": [
      "<start>                                  [('<input>', {'prob': None})]\n",
      "<input>                                  [('<first> <second>', {'prob': None})]\n",
      "<first>                                  [('<integer>', {'prob': None})]\n",
      "<second>                                 [('<integer>', {'prob': None})]\n",
      "<integer>                                [('<onenine><maybe_digits>', {'prob': None})]\n",
      "<onenine>                                [('1', {'prob': 0.0}), ('2', {'prob': 0.09090909090909091}), ('3', {'prob': 0.09090909090909091}), ('4', {'prob': 0.2727272727272727}), ('5', {'prob': 0.09090909090909091}), ('6', {'prob': 0.18181818181818182}), ('7', {'prob': 0.09090909090909091}), ('8', {'prob': 0.09090909090909091}), ('9', {'prob': 0.09090909090909091})]\n",
      "<digit>                                  [('0', {'prob': 0.0}), ('1', {'prob': 0.3333333333333333}), ('2', {'prob': 0.0}), ('3', {'prob': 0.6666666666666666}), ('4', {'prob': 0.0}), ('5', {'prob': 0.0}), ('6', {'prob': 0.0}), ('7', {'prob': 0.0}), ('8', {'prob': 0.0}), ('9', {'prob': 0.0})]\n",
      "<maybe_digits>                           [('', {'prob': 0.8181818181818182}), ('<digits>', {'prob': 0.18181818181818182})]\n",
      "<digits>                                 [('<digit>', {'prob': 0.6666666666666666}), ('<digit><digits>', {'prob': 0.3333333333333333})]\n"
     ]
    }
   ],
   "source": [
    "for rule in grammar:\n",
    "    print(rule.ljust(40), grammar[rule])"
   ]
  },
  {
   "cell_type": "code",
   "execution_count": null,
   "id": "4ab4d314-2584-4925-b7c7-087d2ecde665",
   "metadata": {},
   "outputs": [],
   "source": []
  },
  {
   "cell_type": "code",
   "execution_count": 28,
   "id": "69172387-546f-4a9c-a91d-cdf16b097a20",
   "metadata": {},
   "outputs": [
    {
     "name": "stdout",
     "output_type": "stream",
     "text": [
      "7 9                  NO_BUG\n",
      "431 4                NO_BUG\n",
      "7 7                  BUG\n",
      "8 43                 NO_BUG\n",
      "3 73                 NO_BUG\n",
      "4 6                  NO_BUG\n",
      "41 3                 NO_BUG\n",
      "4 4                  BUG\n",
      "7 9                  NO_BUG\n",
      "7 6                  NO_BUG\n",
      "7 61                 NO_BUG\n",
      "63 63                BUG\n",
      "3 613                NO_BUG\n",
      "9 4                  NO_BUG\n",
      "4 4                  BUG\n",
      "4 3                  NO_BUG\n",
      "71 4                 NO_BUG\n",
      "7 3                  NO_BUG\n",
      "73 6                 NO_BUG\n",
      "5 6                  NO_BUG\n"
     ]
    }
   ],
   "source": [
    "from fuzzingbook.ProbabilisticGrammarFuzzer import ProbabilisticGrammarFuzzer\n",
    "\n",
    "prob_fuzzer = ProbabilisticGrammarFuzzer(grammar)\n",
    "\n",
    "for _ in range(20):\n",
    "    inp = prob_fuzzer.fuzz()\n",
    "    print(inp.ljust(20), oracle(inp))"
   ]
  },
  {
   "cell_type": "code",
   "execution_count": null,
   "id": "101290d7-f971-415f-b8df-fd0c65a5a85b",
   "metadata": {},
   "outputs": [],
   "source": []
  },
  {
   "cell_type": "code",
   "execution_count": 29,
   "id": "28121eb1-e6e8-43a5-a75a-ca37c8957a8b",
   "metadata": {},
   "outputs": [],
   "source": [
    "## Timeout"
   ]
  },
  {
   "cell_type": "code",
   "execution_count": 31,
   "id": "d884f66c-156f-43a9-ae13-a68b84da4625",
   "metadata": {},
   "outputs": [],
   "source": [
    "# Constructing an oracle using the reference GCD implementation\n",
    "from evogfuzz.oracle_construction import construct_oracle, UnexpectedResultError, OracleResult\n",
    "\n",
    "error_def = {TimeoutError: OracleResult.BUG}\n",
    "oracle = construct_oracle(ob.gcd, ref.gcd, error_def)"
   ]
  },
  {
   "cell_type": "code",
   "execution_count": 41,
   "id": "62254286-8b92-4cc5-b4f1-0f9f95942a58",
   "metadata": {},
   "outputs": [],
   "source": [
    "from evogfuzz.evogfuzz_class import EvoGGen\n",
    "\n",
    "initial_inputs = [\"10 2\", \"4 4\", \"49 6618904968\"]\n",
    "\n",
    "evoggen = EvoGGen(\n",
    "    grammar=grammar,\n",
    "    inputs=initial_inputs,\n",
    "    oracle=oracle\n",
    ")"
   ]
  },
  {
   "cell_type": "code",
   "execution_count": 42,
   "id": "3a690e08-5bca-4e62-b82a-c5bd9bd31b87",
   "metadata": {},
   "outputs": [],
   "source": [
    "grammar, found_exception_inputs = evoggen.optimize()"
   ]
  },
  {
   "cell_type": "code",
   "execution_count": 43,
   "id": "9b7f13c9-5231-4b27-ae36-b85e3dd7708a",
   "metadata": {},
   "outputs": [
    {
     "name": "stdout",
     "output_type": "stream",
     "text": [
      "EvoGFuzz found 45 bug-triggering inputs!\n"
     ]
    }
   ],
   "source": [
    "print(f\"EvoGFuzz found {len(found_exception_inputs)} bug-triggering inputs!\")"
   ]
  },
  {
   "cell_type": "code",
   "execution_count": 44,
   "id": "81bec3b7-8b31-436e-adce-cc96f247b18e",
   "metadata": {},
   "outputs": [
    {
     "name": "stdout",
     "output_type": "stream",
     "text": [
      "72 594902591\n",
      "49 6618904968\n",
      "5 774897396\n",
      "23448 270198924\n",
      "8 59781891\n",
      "7 88166159\n",
      "3 60858386\n",
      "53 41030889577995208\n",
      "43543501 9\n",
      "5 18741753083\n",
      "87885353 57\n",
      "9 56073491\n",
      "44266959679041 38082885\n",
      "9712941144 95\n",
      "31621862667288386 7\n",
      "4 24096601114\n",
      "37 41421780\n",
      "95 4722743555\n",
      "40611170 20499\n",
      "5 83310843\n"
     ]
    }
   ],
   "source": [
    "# print only the first 20 bug-triggering inputs\n",
    "for inp in list(found_exception_inputs)[:20]:\n",
    "    print(str(inp))"
   ]
  },
  {
   "cell_type": "code",
   "execution_count": 47,
   "id": "ba2caf65-ebd1-4698-b809-3d716fb89242",
   "metadata": {},
   "outputs": [
    {
     "name": "stdout",
     "output_type": "stream",
     "text": [
      "739366437328 4534                        BUG\n",
      "9 8                                      NO_BUG\n",
      "4 6670                                   NO_BUG\n",
      "5 79689768                               BUG\n",
      "5 2395                                   NO_BUG\n",
      "2933675872056995901545 29578870          BUG\n",
      "22754 16701                              NO_BUG\n",
      "659 13951798915234                       BUG\n",
      "8604298038296416 495443                  BUG\n",
      "3 8                                      NO_BUG\n",
      "27 44452792423                           BUG\n",
      "9 7                                      NO_BUG\n",
      "9 206466280404                           BUG\n",
      "621827 82                                NO_BUG\n",
      "4488131986263610 868469412506501         BUG\n",
      "549 332638300388349007                   BUG\n",
      "1 7                                      NO_BUG\n",
      "913083304 398361                         BUG\n",
      "2601464 59215802012                      BUG\n",
      "996916 7990161994805420034982            BUG\n",
      "7 4                                      NO_BUG\n",
      "54286757448273 5045015                   BUG\n",
      "79208213809705613 530                    BUG\n",
      "83569803497 98                           BUG\n",
      "5 792245                                 NO_BUG\n",
      "1 40969077584965368230037238             BUG\n",
      "744151 817                               NO_BUG\n",
      "24 5879291                               NO_BUG\n",
      "807 59490641169233234                    BUG\n",
      "8 89855282                               BUG\n",
      "2005 288001380                           BUG\n",
      "5 959                                    NO_BUG\n",
      "43256435 42                              BUG\n",
      "2726106 9201261                          NO_BUG\n",
      "814567 7                                 NO_BUG\n",
      "7 22                                     NO_BUG\n",
      "309 57058                                NO_BUG\n",
      "413696179 9                              BUG\n",
      "78 9                                     NO_BUG\n",
      "99870941 9098037368                      BUG\n",
      "44081054959 1                            BUG\n",
      "7 89414                                  NO_BUG\n",
      "8 6                                      NO_BUG\n",
      "436 64285775                             BUG\n",
      "121 3493                                 NO_BUG\n",
      "3735592815153 99                         BUG\n",
      "3770988193905 9939422                    BUG\n",
      "801631371592866669176 35                 BUG\n",
      "31242 4046263939                         BUG\n",
      "5 67                                     NO_BUG\n",
      "876 78442085986482                       BUG\n",
      "1 799962798086770736650869               BUG\n",
      "704 986721                               NO_BUG\n",
      "915566277644610 7197                     BUG\n",
      "50386 3166                               NO_BUG\n",
      "8 8157101241                             BUG\n",
      "45 98488                                 NO_BUG\n",
      "92 213169                                NO_BUG\n",
      "3936678939878821 9889896876068045135     BUG\n",
      "4 883427                                 NO_BUG\n",
      "2964660 81480                            NO_BUG\n",
      "8939 38893                               NO_BUG\n",
      "59591311875 6227                         BUG\n",
      "59 3                                     NO_BUG\n",
      "698 2                                    NO_BUG\n",
      "96 7                                     NO_BUG\n",
      "13924 9                                  NO_BUG\n",
      "8685 716465                              NO_BUG\n",
      "859624 2618556                           NO_BUG\n",
      "46 61                                    NO_BUG\n",
      "41537915 892                             BUG\n",
      "9 8                                      NO_BUG\n",
      "834711 33017                             NO_BUG\n",
      "3 6                                      NO_BUG\n",
      "8761674174839398 6296                    BUG\n",
      "95183 25345                              NO_BUG\n",
      "5999192 2                                NO_BUG\n",
      "1 907                                    NO_BUG\n",
      "53399 5                                  NO_BUG\n",
      "9 88273                                  NO_BUG\n",
      "2 6289686                                NO_BUG\n",
      "37 9472                                  NO_BUG\n",
      "10179 89694                              NO_BUG\n",
      "68739524816 366                          BUG\n",
      "94 18906870869                           BUG\n",
      "51608241 3                               BUG\n",
      "969383 6                                 NO_BUG\n",
      "756 8                                    NO_BUG\n",
      "94 861                                   NO_BUG\n",
      "12 85                                    NO_BUG\n",
      "83472591859672 9                         BUG\n",
      "9 6569572883788794164                    BUG\n",
      "5 40                                     NO_BUG\n",
      "69487560 54639115265                     BUG\n",
      "6 3                                      NO_BUG\n",
      "8703049039170 535                        BUG\n",
      "3543584348 89739531789196761102          BUG\n",
      "387 3                                    NO_BUG\n",
      "90836961819272433 37661                  BUG\n",
      "18777 7319021                            NO_BUG\n"
     ]
    }
   ],
   "source": [
    "from fuzzingbook.ProbabilisticGrammarFuzzer import ProbabilisticGrammarFuzzer\n",
    "from evogfuzz.input import Input\n",
    "prob_fuzzer = ProbabilisticGrammarFuzzer(grammar)\n",
    "\n",
    "eval_data = []\n",
    "for _ in range(100):\n",
    "    inp = prob_fuzzer.fuzz()\n",
    "    inp_ = Input.from_str(grammar, inp, oracle=oracle(inp))\n",
    "    eval_data.append(inp_)\n",
    "    #print(inp.ljust(20), oracle(inp))\n",
    "    print(str(inp_).ljust(40), inp_.oracle)"
   ]
  },
  {
   "cell_type": "code",
   "execution_count": 48,
   "id": "3fc7e415-bf9d-4441-96c7-d4f5b7899745",
   "metadata": {},
   "outputs": [],
   "source": [
    "\n",
    "bug_list = [inp for inp in eval_data if inp.oracle == OracleResult.BUG] "
   ]
  },
  {
   "cell_type": "code",
   "execution_count": 49,
   "id": "f677faf4-2eba-43d2-a934-5b71a11ccb34",
   "metadata": {},
   "outputs": [
    {
     "data": {
      "text/plain": [
       "45"
      ]
     },
     "execution_count": 49,
     "metadata": {},
     "output_type": "execute_result"
    }
   ],
   "source": [
    "len(bug_list)"
   ]
  },
  {
   "cell_type": "code",
   "execution_count": 5,
   "id": "1faacbf0-f451-4fd1-9beb-31e66ce9e420",
   "metadata": {},
   "outputs": [],
   "source": [
    "## EvoGFuzz"
   ]
  },
  {
   "cell_type": "code",
   "execution_count": 45,
   "id": "2ea3a745-f57f-455a-8738-ad71293bbfe1",
   "metadata": {},
   "outputs": [],
   "source": [
    "# Constructing an oracle using the reference GCD implementation\n",
    "from evogfuzz.oracle_construction import construct_oracle, UnexpectedResultError, OracleResult\n",
    "\n",
    "err = {UnexpectedResultError: OracleResult.BUG, TimeoutError: OracleResult.UNDEF}\n",
    "oracle = construct_oracle(ob.gcd, ref.gcd, err)"
   ]
  },
  {
   "cell_type": "code",
   "execution_count": 46,
   "id": "cca2a66a-db1c-449c-9e73-9216cee3e3a1",
   "metadata": {},
   "outputs": [],
   "source": [
    "# initial_inputs = [\"10 2\", \"4 4\", \"49 6618904968\"]\n",
    "initial_inputs = [\"10 2\", \"15 20\"]"
   ]
  },
  {
   "cell_type": "code",
   "execution_count": 47,
   "id": "4c0bd434-1e04-4ced-89fd-d08436628f15",
   "metadata": {},
   "outputs": [
    {
     "name": "stdout",
     "output_type": "stream",
     "text": [
      "10 2                           NO_BUG\n",
      "15 20                          NO_BUG\n"
     ]
    }
   ],
   "source": [
    "for inp in initial_inputs:\n",
    "    print(inp.ljust(30), oracle(inp))"
   ]
  },
  {
   "cell_type": "code",
   "execution_count": 48,
   "id": "f8d9184e-dc17-4252-975d-4ed5d848f0ee",
   "metadata": {},
   "outputs": [],
   "source": [
    "from evogfuzz import EvoGFuzz\n",
    "\n",
    "evogfuzz = EvoGFuzz(\n",
    "    grammar=grammar,\n",
    "    inputs=initial_inputs,\n",
    "    oracle=oracle\n",
    ")"
   ]
  },
  {
   "cell_type": "code",
   "execution_count": 49,
   "id": "b2134d45-13fc-4784-916e-6bd292b14f0f",
   "metadata": {},
   "outputs": [
    {
     "name": "stdout",
     "output_type": "stream",
     "text": [
      "EvoGFuzz found 8 bug-triggering inputs!\n"
     ]
    }
   ],
   "source": [
    "found_exception_inputs = evogfuzz.fuzz()\n",
    "print(f\"EvoGFuzz found {len(found_exception_inputs)} bug-triggering inputs!\")"
   ]
  },
  {
   "cell_type": "code",
   "execution_count": 50,
   "id": "4d8fc4d8-a75a-4d80-871d-66e766ae5805",
   "metadata": {},
   "outputs": [
    {
     "name": "stdout",
     "output_type": "stream",
     "text": [
      "20 20                          BUG\n",
      "17 17                          BUG\n",
      "28 28                          BUG\n",
      "29 29                          BUG\n",
      "2 2                            BUG\n",
      "26 26                          BUG\n",
      "10 10                          BUG\n",
      "25 25                          BUG\n"
     ]
    }
   ],
   "source": [
    "for inp in list(found_exception_inputs)[:250]:\n",
    "    print(str(inp).ljust(30), inp.oracle)"
   ]
  },
  {
   "cell_type": "code",
   "execution_count": 51,
   "id": "58c907e0-471c-4489-8914-55c42d67edb2",
   "metadata": {},
   "outputs": [
    {
     "data": {
      "text/plain": [
       "Report for EvoGFuzz\n",
       "Found 8 failure-inducing inputs (1 Exceptions):\n",
       "None: 8"
      ]
     },
     "execution_count": 51,
     "metadata": {},
     "output_type": "execute_result"
    }
   ],
   "source": [
    "evogfuzz.report"
   ]
  },
  {
   "cell_type": "code",
   "execution_count": null,
   "id": "145771bb-0470-4a97-8626-ad5454dda261",
   "metadata": {},
   "outputs": [],
   "source": []
  }
 ],
 "metadata": {
  "kernelspec": {
   "display_name": "Python 3 (ipykernel)",
   "language": "python",
   "name": "python3"
  },
  "language_info": {
   "codemirror_mode": {
    "name": "ipython",
    "version": 3
   },
   "file_extension": ".py",
   "mimetype": "text/x-python",
   "name": "python",
   "nbconvert_exporter": "python",
   "pygments_lexer": "ipython3",
   "version": "3.10.9"
  }
 },
 "nbformat": 4,
 "nbformat_minor": 5
}
